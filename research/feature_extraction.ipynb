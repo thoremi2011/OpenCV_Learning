{
 "cells": [
  {
   "cell_type": "code",
   "execution_count": 1,
   "metadata": {},
   "outputs": [],
   "source": [
    "import cv2\n",
    "import os"
   ]
  },
  {
   "cell_type": "code",
   "execution_count": 2,
   "metadata": {},
   "outputs": [
    {
     "name": "stdout",
     "output_type": "stream",
     "text": [
      "Sun Feb  2 19:48:15 2025       \n",
      "+-----------------------------------------------------------------------------------------+\n",
      "| NVIDIA-SMI 561.17                 Driver Version: 561.17         CUDA Version: 12.6     |\n",
      "|-----------------------------------------+------------------------+----------------------+\n",
      "| GPU  Name                  Driver-Model | Bus-Id          Disp.A | Volatile Uncorr. ECC |\n",
      "| Fan  Temp   Perf          Pwr:Usage/Cap |           Memory-Usage | GPU-Util  Compute M. |\n",
      "|                                         |                        |               MIG M. |\n",
      "|=========================================+========================+======================|\n",
      "|   0  NVIDIA GeForce GTX 1070      WDDM  |   00000000:01:00.0  On |                  N/A |\n",
      "| N/A   56C    P0             40W /  115W |    1234MiB /   8192MiB |      1%      Default |\n",
      "|                                         |                        |                  N/A |\n",
      "+-----------------------------------------+------------------------+----------------------+\n",
      "                                                                                         \n",
      "+-----------------------------------------------------------------------------------------+\n",
      "| Processes:                                                                              |\n",
      "|  GPU   GI   CI        PID   Type   Process name                              GPU Memory |\n",
      "|        ID   ID                                                               Usage      |\n",
      "|=========================================================================================|\n",
      "|    0   N/A  N/A      1736    C+G   ...ta\\Local\\Programs\\Notion\\Notion.exe      N/A      |\n",
      "|    0   N/A  N/A      2444    C+G   ...oogle\\Chrome\\Application\\chrome.exe      N/A      |\n",
      "|    0   N/A  N/A      2576    C+G   ...siveControlPanel\\SystemSettings.exe      N/A      |\n",
      "|    0   N/A  N/A     10352    C+G   ...ograms\\cron-web\\Notion Calendar.exe      N/A      |\n",
      "|    0   N/A  N/A     10608    C+G   ....Search_cw5n1h2txyewy\\SearchApp.exe      N/A      |\n",
      "|    0   N/A  N/A     11052    C+G   ...B\\system_tray\\lghub_system_tray.exe      N/A      |\n",
      "|    0   N/A  N/A     11612    C+G   ...m Files\\Mozilla Firefox\\firefox.exe      N/A      |\n",
      "|    0   N/A  N/A     15972    C+G   ...5n1h2txyewy\\ShellExperienceHost.exe      N/A      |\n",
      "|    0   N/A  N/A     18612    C+G   ...2txyewy\\StartMenuExperienceHost.exe      N/A      |\n",
      "|    0   N/A  N/A     19668    C+G   C:\\Windows\\explorer.exe                     N/A      |\n",
      "|    0   N/A  N/A     21600    C+G   ...ta\\Local\\Programs\\cursor\\Cursor.exe      N/A      |\n",
      "|    0   N/A  N/A     21920    C+G   ...64__8wekyb3d8bbwe\\CalculatorApp.exe      N/A      |\n",
      "|    0   N/A  N/A     22072    C+G   ...m Files\\Mozilla Firefox\\firefox.exe      N/A      |\n",
      "|    0   N/A  N/A     24992    C+G   ...CBS_cw5n1h2txyewy\\TextInputHost.exe      N/A      |\n",
      "|    0   N/A  N/A     25940    C+G   C:\\Windows\\System32\\mmgaserver.exe          N/A      |\n",
      "|    0   N/A  N/A     28668    C+G   ...nzyj5cx40ttqa\\iCloud\\iCloudHome.exe      N/A      |\n",
      "+-----------------------------------------------------------------------------------------+\n"
     ]
    }
   ],
   "source": [
    "!nvidia-smi"
   ]
  },
  {
   "cell_type": "code",
   "execution_count": 1,
   "metadata": {},
   "outputs": [
    {
     "data": {
      "text/plain": [
       "2"
      ]
     },
     "execution_count": 1,
     "metadata": {},
     "output_type": "execute_result"
    }
   ],
   "source": [
    "1+1"
   ]
  },
  {
   "cell_type": "code",
   "execution_count": 2,
   "metadata": {},
   "outputs": [
    {
     "name": "stdout",
     "output_type": "stream",
     "text": [
      "TensorFlow version: 2.12.0\n",
      "GPU disponible: []\n"
     ]
    }
   ],
   "source": [
    "import tensorflow as tf\n",
    "print(\"TensorFlow version:\", tf.__version__)\n",
    "print(\"GPU disponible:\", tf.config.list_physical_devices('GPU'))"
   ]
  },
  {
   "cell_type": "code",
   "execution_count": 3,
   "metadata": {},
   "outputs": [],
   "source": [
    "import os"
   ]
  },
  {
   "cell_type": "code",
   "execution_count": 4,
   "metadata": {},
   "outputs": [],
   "source": [
    "os.getcwd()\n",
    "os.chdir(\"../\")\n"
   ]
  },
  {
   "cell_type": "code",
   "execution_count": 5,
   "metadata": {},
   "outputs": [
    {
     "data": {
      "text/plain": [
       "'d:\\\\Projects_D\\\\013_OpenCV_Learning\\\\OpenCV_Learning'"
      ]
     },
     "execution_count": 5,
     "metadata": {},
     "output_type": "execute_result"
    }
   ],
   "source": [
    "os.getcwd()"
   ]
  },
  {
   "cell_type": "code",
   "execution_count": 6,
   "metadata": {},
   "outputs": [
    {
     "name": "stdout",
     "output_type": "stream",
     "text": [
      "WARNING:tensorflow:From d:\\Projects_D\\013_OpenCV_Learning\\OpenCV_Learning\\venv_OpenCV_Awaait\\lib\\site-packages\\keras\\src\\backend.py:1398: The name tf.executing_eagerly_outside_functions is deprecated. Please use tf.compat.v1.executing_eagerly_outside_functions instead.\n",
      "\n",
      "WARNING:tensorflow:From d:\\Projects_D\\013_OpenCV_Learning\\OpenCV_Learning\\venv_OpenCV_Awaait\\lib\\site-packages\\keras\\src\\layers\\normalization\\batch_normalization.py:979: The name tf.nn.fused_batch_norm is deprecated. Please use tf.compat.v1.nn.fused_batch_norm instead.\n",
      "\n"
     ]
    }
   ],
   "source": [
    "import cv2\n",
    "\n",
    "import numpy as np\n",
    "import tensorflow as tf\n",
    "from pathlib import Path\n",
    "from src.actionDetection.components.data.preprocessing import FeatureExtractor\n",
    "\n",
    "# Crear el extractor\n",
    "extractor = FeatureExtractor(frame_size=(224, 224))\n",
    "\n",
    "# Procesar un solo video de prueba\n",
    "video_path = \"artifacts/data/raw/train/Haircut/v_Haircut_g01_c03.avi\"  # Ajusta esta ruta a uno de tus videos\n",
    "output_path = Path(\"artifacts/data/processed/test_features.npy\")\n",
    "\n"
   ]
  },
  {
   "cell_type": "code",
   "execution_count": 7,
   "metadata": {},
   "outputs": [],
   "source": [
    "# Extraer features\n",
    "extractor.extract_features(video_path, output_path)"
   ]
  },
  {
   "cell_type": "code",
   "execution_count": 8,
   "metadata": {},
   "outputs": [],
   "source": [
    "# Cargar y verificar los features extraídos\n",
    "features = np.load(str(output_path))"
   ]
  },
  {
   "cell_type": "code",
   "execution_count": 9,
   "metadata": {},
   "outputs": [
    {
     "name": "stdout",
     "output_type": "stream",
     "text": [
      "Shape de los features: (110, 1280)\n",
      "Número de frames procesados: 110\n",
      "Dimensionalidad de cada embedding: 1280\n",
      "\n",
      "Primeros 5 valores del primer frame:\n",
      "[-0.10022885 -0.07274975  0.03767195  0.08905215 -0.09744052]\n"
     ]
    }
   ],
   "source": [
    "# Imprimir información sobre los features\n",
    "print(f\"Shape de los features: {features.shape}\")  # Debería ser (num_frames, 1280)\n",
    "print(f\"Número de frames procesados: {len(features)}\")\n",
    "print(f\"Dimensionalidad de cada embedding: {features.shape[1]}\")  # Debería ser 1280\n",
    "print(\"\\nPrimeros 5 valores del primer frame:\")\n",
    "print(features[0][:5])  # Ver algunos valores del embedding"
   ]
  },
  {
   "cell_type": "code",
   "execution_count": 10,
   "metadata": {},
   "outputs": [
    {
     "name": "stdout",
     "output_type": "stream",
     "text": [
      "\n",
      "Rango de valores:\n",
      "Min: -0.2319825440645218\n",
      "Max: 3.877117872238159\n",
      "Media: 0.14680363237857819\n",
      "Desviación estándar: 0.323180615901947\n"
     ]
    }
   ],
   "source": [
    "# Verificar que los valores están en un rango razonable\n",
    "print(f\"\\nRango de valores:\")\n",
    "print(f\"Min: {features.min()}\")\n",
    "print(f\"Max: {features.max()}\")\n",
    "print(f\"Media: {features.mean()}\")\n",
    "print(f\"Desviación estándar: {features.std()}\")"
   ]
  },
  {
   "cell_type": "code",
   "execution_count": 11,
   "metadata": {},
   "outputs": [
    {
     "data": {
      "image/png": "[encoded data removed]",
      "text/plain": [
       "<Figure size 1200x400 with 2 Axes>"
      ]
     },
     "metadata": {},
     "output_type": "display_data"
    },
    {
     "name": "stdout",
     "output_type": "stream",
     "text": [
      "\n",
      "Resumen del modelo:\n",
      "Model: \"efficientnetb0\"\n",
      "__________________________________________________________________________________________________\n",
      " Layer (type)                Output Shape                 Param #   Connected to                  \n",
      "==================================================================================================\n",
      " input_1 (InputLayer)        [(None, None, None, 3)]      0         []                            \n",
      "                                                                                                  \n",
      " rescaling (Rescaling)       (None, None, None, 3)        0         ['input_1[0][0]']             \n",
      "                                                                                                  \n",
      " normalization (Normalizati  (None, None, None, 3)        7         ['rescaling[0][0]']           \n",
      " on)                                                                                              \n",
      "                                                                                                  \n",
      " rescaling_1 (Rescaling)     (None, None, None, 3)        0         ['normalization[0][0]']       \n",
      "                                                                                                  \n",
      " stem_conv_pad (ZeroPadding  (None, None, None, 3)        0         ['rescaling_1[0][0]']         \n",
      " 2D)                                                                                              \n",
      "                                                                                                  \n",
      " stem_conv (Conv2D)          (None, None, None, 32)       864       ['stem_conv_pad[0][0]']       \n",
      "                                                                                                  \n",
      " stem_bn (BatchNormalizatio  (None, None, None, 32)       128       ['stem_conv[0][0]']           \n",
      " n)                                                                                               \n",
      "                                                                                                  \n",
      " stem_activation (Activatio  (None, None, None, 32)       0         ['stem_bn[0][0]']             \n",
      " n)                                                                                               \n",
      "                                                                                                  \n",
      " block1a_dwconv (DepthwiseC  (None, None, None, 32)       288       ['stem_activation[0][0]']     \n",
      " onv2D)                                                                                           \n",
      "                                                                                                  \n",
      " block1a_bn (BatchNormaliza  (None, None, None, 32)       128       ['block1a_dwconv[0][0]']      \n",
      " tion)                                                                                            \n",
      "                                                                                                  \n",
      " block1a_activation (Activa  (None, None, None, 32)       0         ['block1a_bn[0][0]']          \n",
      " tion)                                                                                            \n",
      "                                                                                                  \n",
      " block1a_se_squeeze (Global  (None, 32)                   0         ['block1a_activation[0][0]']  \n",
      " AveragePooling2D)                                                                                \n",
      "                                                                                                  \n",
      " block1a_se_reshape (Reshap  (None, 1, 1, 32)             0         ['block1a_se_squeeze[0][0]']  \n",
      " e)                                                                                               \n",
      "                                                                                                  \n",
      " block1a_se_reduce (Conv2D)  (None, 1, 1, 8)              264       ['block1a_se_reshape[0][0]']  \n",
      "                                                                                                  \n",
      " block1a_se_expand (Conv2D)  (None, 1, 1, 32)             288       ['block1a_se_reduce[0][0]']   \n",
      "                                                                                                  \n",
      " block1a_se_excite (Multipl  (None, None, None, 32)       0         ['block1a_activation[0][0]',  \n",
      " y)                                                                  'block1a_se_expand[0][0]']   \n",
      "                                                                                                  \n",
      " block1a_project_conv (Conv  (None, None, None, 16)       512       ['block1a_se_excite[0][0]']   \n",
      " 2D)                                                                                              \n",
      "                                                                                                  \n",
      " block1a_project_bn (BatchN  (None, None, None, 16)       64        ['block1a_project_conv[0][0]']\n",
      " ormalization)                                                                                    \n",
      "                                                                                                  \n",
      " block2a_expand_conv (Conv2  (None, None, None, 96)       1536      ['block1a_project_bn[0][0]']  \n",
      " D)                                                                                               \n",
      "                                                                                                  \n",
      " block2a_expand_bn (BatchNo  (None, None, None, 96)       384       ['block2a_expand_conv[0][0]'] \n",
      " rmalization)                                                                                     \n",
      "                                                                                                  \n",
      " block2a_expand_activation   (None, None, None, 96)       0         ['block2a_expand_bn[0][0]']   \n",
      " (Activation)                                                                                     \n",
      "                                                                                                  \n",
      " block2a_dwconv_pad (ZeroPa  (None, None, None, 96)       0         ['block2a_expand_activation[0]\n",
      " dding2D)                                                           [0]']                         \n",
      "                                                                                                  \n",
      " block2a_dwconv (DepthwiseC  (None, None, None, 96)       864       ['block2a_dwconv_pad[0][0]']  \n",
      " onv2D)                                                                                           \n",
      "                                                                                                  \n",
      " block2a_bn (BatchNormaliza  (None, None, None, 96)       384       ['block2a_dwconv[0][0]']      \n",
      " tion)                                                                                            \n",
      "                                                                                                  \n",
      " block2a_activation (Activa  (None, None, None, 96)       0         ['block2a_bn[0][0]']          \n",
      " tion)                                                                                            \n",
      "                                                                                                  \n",
      " block2a_se_squeeze (Global  (None, 96)                   0         ['block2a_activation[0][0]']  \n",
      " AveragePooling2D)                                                                                \n",
      "                                                                                                  \n",
      " block2a_se_reshape (Reshap  (None, 1, 1, 96)             0         ['block2a_se_squeeze[0][0]']  \n",
      " e)                                                                                               \n",
      "                                                                                                  \n",
      " block2a_se_reduce (Conv2D)  (None, 1, 1, 4)              388       ['block2a_se_reshape[0][0]']  \n",
      "                                                                                                  \n",
      " block2a_se_expand (Conv2D)  (None, 1, 1, 96)             480       ['block2a_se_reduce[0][0]']   \n",
      "                                                                                                  \n",
      " block2a_se_excite (Multipl  (None, None, None, 96)       0         ['block2a_activation[0][0]',  \n",
      " y)                                                                  'block2a_se_expand[0][0]']   \n",
      "                                                                                                  \n",
      " block2a_project_conv (Conv  (None, None, None, 24)       2304      ['block2a_se_excite[0][0]']   \n",
      " 2D)                                                                                              \n",
      "                                                                                                  \n",
      " block2a_project_bn (BatchN  (None, None, None, 24)       96        ['block2a_project_conv[0][0]']\n",
      " ormalization)                                                                                    \n",
      "                                                                                                  \n",
      " block2b_expand_conv (Conv2  (None, None, None, 144)      3456      ['block2a_project_bn[0][0]']  \n",
      " D)                                                                                               \n",
      "                                                                                                  \n",
      " block2b_expand_bn (BatchNo  (None, None, None, 144)      576       ['block2b_expand_conv[0][0]'] \n",
      " rmalization)                                                                                     \n",
      "                                                                                                  \n",
      " block2b_expand_activation   (None, None, None, 144)      0         ['block2b_expand_bn[0][0]']   \n",
      " (Activation)                                                                                     \n",
      "                                                                                                  \n",
      " block2b_dwconv (DepthwiseC  (None, None, None, 144)      1296      ['block2b_expand_activation[0]\n",
      " onv2D)                                                             [0]']                         \n",
      "                                                                                                  \n",
      " block2b_bn (BatchNormaliza  (None, None, None, 144)      576       ['block2b_dwconv[0][0]']      \n",
      " tion)                                                                                            \n",
      "                                                                                                  \n",
      " block2b_activation (Activa  (None, None, None, 144)      0         ['block2b_bn[0][0]']          \n",
      " tion)                                                                                            \n",
      "                                                                                                  \n",
      " block2b_se_squeeze (Global  (None, 144)                  0         ['block2b_activation[0][0]']  \n",
      " AveragePooling2D)                                                                                \n",
      "                                                                                                  \n",
      " block2b_se_reshape (Reshap  (None, 1, 1, 144)            0         ['block2b_se_squeeze[0][0]']  \n",
      " e)                                                                                               \n",
      "                                                                                                  \n",
      " block2b_se_reduce (Conv2D)  (None, 1, 1, 6)              870       ['block2b_se_reshape[0][0]']  \n",
      "                                                                                                  \n",
      " block2b_se_expand (Conv2D)  (None, 1, 1, 144)            1008      ['block2b_se_reduce[0][0]']   \n",
      "                                                                                                  \n",
      " block2b_se_excite (Multipl  (None, None, None, 144)      0         ['block2b_activation[0][0]',  \n",
      " y)                                                                  'block2b_se_expand[0][0]']   \n",
      "                                                                                                  \n",
      " block2b_project_conv (Conv  (None, None, None, 24)       3456      ['block2b_se_excite[0][0]']   \n",
      " 2D)                                                                                              \n",
      "                                                                                                  \n",
      " block2b_project_bn (BatchN  (None, None, None, 24)       96        ['block2b_project_conv[0][0]']\n",
      " ormalization)                                                                                    \n",
      "                                                                                                  \n",
      " block2b_drop (Dropout)      (None, None, None, 24)       0         ['block2b_project_bn[0][0]']  \n",
      "                                                                                                  \n",
      " block2b_add (Add)           (None, None, None, 24)       0         ['block2b_drop[0][0]',        \n",
      "                                                                     'block2a_project_bn[0][0]']  \n",
      "                                                                                                  \n",
      " block3a_expand_conv (Conv2  (None, None, None, 144)      3456      ['block2b_add[0][0]']         \n",
      " D)                                                                                               \n",
      "                                                                                                  \n",
      " block3a_expand_bn (BatchNo  (None, None, None, 144)      576       ['block3a_expand_conv[0][0]'] \n",
      " rmalization)                                                                                     \n",
      "                                                                                                  \n",
      " block3a_expand_activation   (None, None, None, 144)      0         ['block3a_expand_bn[0][0]']   \n",
      " (Activation)                                                                                     \n",
      "                                                                                                  \n",
      " block3a_dwconv_pad (ZeroPa  (None, None, None, 144)      0         ['block3a_expand_activation[0]\n",
      " dding2D)                                                           [0]']                         \n",
      "                                                                                                  \n",
      " block3a_dwconv (DepthwiseC  (None, None, None, 144)      3600      ['block3a_dwconv_pad[0][0]']  \n",
      " onv2D)                                                                                           \n",
      "                                                                                                  \n",
      " block3a_bn (BatchNormaliza  (None, None, None, 144)      576       ['block3a_dwconv[0][0]']      \n",
      " tion)                                                                                            \n",
      "                                                                                                  \n",
      " block3a_activation (Activa  (None, None, None, 144)      0         ['block3a_bn[0][0]']          \n",
      " tion)                                                                                            \n",
      "                                                                                                  \n",
      " block3a_se_squeeze (Global  (None, 144)                  0         ['block3a_activation[0][0]']  \n",
      " AveragePooling2D)                                                                                \n",
      "                                                                                                  \n",
      " block3a_se_reshape (Reshap  (None, 1, 1, 144)            0         ['block3a_se_squeeze[0][0]']  \n",
      " e)                                                                                               \n",
      "                                                                                                  \n",
      " block3a_se_reduce (Conv2D)  (None, 1, 1, 6)              870       ['block3a_se_reshape[0][0]']  \n",
      "                                                                                                  \n",
      " block3a_se_expand (Conv2D)  (None, 1, 1, 144)            1008      ['block3a_se_reduce[0][0]']   \n",
      "                                                                                                  \n",
      " block3a_se_excite (Multipl  (None, None, None, 144)      0         ['block3a_activation[0][0]',  \n",
      " y)                                                                  'block3a_se_expand[0][0]']   \n",
      "                                                                                                  \n",
      " block3a_project_conv (Conv  (None, None, None, 40)       5760      ['block3a_se_excite[0][0]']   \n",
      " 2D)                                                                                              \n",
      "                                                                                                  \n",
      " block3a_project_bn (BatchN  (None, None, None, 40)       160       ['block3a_project_conv[0][0]']\n",
      " ormalization)                                                                                    \n",
      "                                                                                                  \n",
      " block3b_expand_conv (Conv2  (None, None, None, 240)      9600      ['block3a_project_bn[0][0]']  \n",
      " D)                                                                                               \n",
      "                                                                                                  \n",
      " block3b_expand_bn (BatchNo  (None, None, None, 240)      960       ['block3b_expand_conv[0][0]'] \n",
      " rmalization)                                                                                     \n",
      "                                                                                                  \n",
      " block3b_expand_activation   (None, None, None, 240)      0         ['block3b_expand_bn[0][0]']   \n",
      " (Activation)                                                                                     \n",
      "                                                                                                  \n",
      " block3b_dwconv (DepthwiseC  (None, None, None, 240)      6000      ['block3b_expand_activation[0]\n",
      " onv2D)                                                             [0]']                         \n",
      "                                                                                                  \n",
      " block3b_bn (BatchNormaliza  (None, None, None, 240)      960       ['block3b_dwconv[0][0]']      \n",
      " tion)                                                                                            \n",
      "                                                                                                  \n",
      " block3b_activation (Activa  (None, None, None, 240)      0         ['block3b_bn[0][0]']          \n",
      " tion)                                                                                            \n",
      "                                                                                                  \n",
      " block3b_se_squeeze (Global  (None, 240)                  0         ['block3b_activation[0][0]']  \n",
      " AveragePooling2D)                                                                                \n",
      "                                                                                                  \n",
      " block3b_se_reshape (Reshap  (None, 1, 1, 240)            0         ['block3b_se_squeeze[0][0]']  \n",
      " e)                                                                                               \n",
      "                                                                                                  \n",
      " block3b_se_reduce (Conv2D)  (None, 1, 1, 10)             2410      ['block3b_se_reshape[0][0]']  \n",
      "                                                                                                  \n",
      " block3b_se_expand (Conv2D)  (None, 1, 1, 240)            2640      ['block3b_se_reduce[0][0]']   \n",
      "                                                                                                  \n",
      " block3b_se_excite (Multipl  (None, None, None, 240)      0         ['block3b_activation[0][0]',  \n",
      " y)                                                                  'block3b_se_expand[0][0]']   \n",
      "                                                                                                  \n",
      " block3b_project_conv (Conv  (None, None, None, 40)       9600      ['block3b_se_excite[0][0]']   \n",
      " 2D)                                                                                              \n",
      "                                                                                                  \n",
      " block3b_project_bn (BatchN  (None, None, None, 40)       160       ['block3b_project_conv[0][0]']\n",
      " ormalization)                                                                                    \n",
      "                                                                                                  \n",
      " block3b_drop (Dropout)      (None, None, None, 40)       0         ['block3b_project_bn[0][0]']  \n",
      "                                                                                                  \n",
      " block3b_add (Add)           (None, None, None, 40)       0         ['block3b_drop[0][0]',        \n",
      "                                                                     'block3a_project_bn[0][0]']  \n",
      "                                                                                                  \n",
      " block4a_expand_conv (Conv2  (None, None, None, 240)      9600      ['block3b_add[0][0]']         \n",
      " D)                                                                                               \n",
      "                                                                                                  \n",
      " block4a_expand_bn (BatchNo  (None, None, None, 240)      960       ['block4a_expand_conv[0][0]'] \n",
      " rmalization)                                                                                     \n",
      "                                                                                                  \n",
      " block4a_expand_activation   (None, None, None, 240)      0         ['block4a_expand_bn[0][0]']   \n",
      " (Activation)                                                                                     \n",
      "                                                                                                  \n",
      " block4a_dwconv_pad (ZeroPa  (None, None, None, 240)      0         ['block4a_expand_activation[0]\n",
      " dding2D)                                                           [0]']                         \n",
      "                                                                                                  \n",
      " block4a_dwconv (DepthwiseC  (None, None, None, 240)      2160      ['block4a_dwconv_pad[0][0]']  \n",
      " onv2D)                                                                                           \n",
      "                                                                                                  \n",
      " block4a_bn (BatchNormaliza  (None, None, None, 240)      960       ['block4a_dwconv[0][0]']      \n",
      " tion)                                                                                            \n",
      "                                                                                                  \n",
      " block4a_activation (Activa  (None, None, None, 240)      0         ['block4a_bn[0][0]']          \n",
      " tion)                                                                                            \n",
      "                                                                                                  \n",
      " block4a_se_squeeze (Global  (None, 240)                  0         ['block4a_activation[0][0]']  \n",
      " AveragePooling2D)                                                                                \n",
      "                                                                                                  \n",
      " block4a_se_reshape (Reshap  (None, 1, 1, 240)            0         ['block4a_se_squeeze[0][0]']  \n",
      " e)                                                                                               \n",
      "                                                                                                  \n",
      " block4a_se_reduce (Conv2D)  (None, 1, 1, 10)             2410      ['block4a_se_reshape[0][0]']  \n",
      "                                                                                                  \n",
      " block4a_se_expand (Conv2D)  (None, 1, 1, 240)            2640      ['block4a_se_reduce[0][0]']   \n",
      "                                                                                                  \n",
      " block4a_se_excite (Multipl  (None, None, None, 240)      0         ['block4a_activation[0][0]',  \n",
      " y)                                                                  'block4a_se_expand[0][0]']   \n",
      "                                                                                                  \n",
      " block4a_project_conv (Conv  (None, None, None, 80)       19200     ['block4a_se_excite[0][0]']   \n",
      " 2D)                                                                                              \n",
      "                                                                                                  \n",
      " block4a_project_bn (BatchN  (None, None, None, 80)       320       ['block4a_project_conv[0][0]']\n",
      " ormalization)                                                                                    \n",
      "                                                                                                  \n",
      " block4b_expand_conv (Conv2  (None, None, None, 480)      38400     ['block4a_project_bn[0][0]']  \n",
      " D)                                                                                               \n",
      "                                                                                                  \n",
      " block4b_expand_bn (BatchNo  (None, None, None, 480)      1920      ['block4b_expand_conv[0][0]'] \n",
      " rmalization)                                                                                     \n",
      "                                                                                                  \n",
      " block4b_expand_activation   (None, None, None, 480)      0         ['block4b_expand_bn[0][0]']   \n",
      " (Activation)                                                                                     \n",
      "                                                                                                  \n",
      " block4b_dwconv (DepthwiseC  (None, None, None, 480)      4320      ['block4b_expand_activation[0]\n",
      " onv2D)                                                             [0]']                         \n",
      "                                                                                                  \n",
      " block4b_bn (BatchNormaliza  (None, None, None, 480)      1920      ['block4b_dwconv[0][0]']      \n",
      " tion)                                                                                            \n",
      "                                                                                                  \n",
      " block4b_activation (Activa  (None, None, None, 480)      0         ['block4b_bn[0][0]']          \n",
      " tion)                                                                                            \n",
      "                                                                                                  \n",
      " block4b_se_squeeze (Global  (None, 480)                  0         ['block4b_activation[0][0]']  \n",
      " AveragePooling2D)                                                                                \n",
      "                                                                                                  \n",
      " block4b_se_reshape (Reshap  (None, 1, 1, 480)            0         ['block4b_se_squeeze[0][0]']  \n",
      " e)                                                                                               \n",
      "                                                                                                  \n",
      " block4b_se_reduce (Conv2D)  (None, 1, 1, 20)             9620      ['block4b_se_reshape[0][0]']  \n",
      "                                                                                                  \n",
      " block4b_se_expand (Conv2D)  (None, 1, 1, 480)            10080     ['block4b_se_reduce[0][0]']   \n",
      "                                                                                                  \n",
      " block4b_se_excite (Multipl  (None, None, None, 480)      0         ['block4b_activation[0][0]',  \n",
      " y)                                                                  'block4b_se_expand[0][0]']   \n",
      "                                                                                                  \n",
      " block4b_project_conv (Conv  (None, None, None, 80)       38400     ['block4b_se_excite[0][0]']   \n",
      " 2D)                                                                                              \n",
      "                                                                                                  \n",
      " block4b_project_bn (BatchN  (None, None, None, 80)       320       ['block4b_project_conv[0][0]']\n",
      " ormalization)                                                                                    \n",
      "                                                                                                  \n",
      " block4b_drop (Dropout)      (None, None, None, 80)       0         ['block4b_project_bn[0][0]']  \n",
      "                                                                                                  \n",
      " block4b_add (Add)           (None, None, None, 80)       0         ['block4b_drop[0][0]',        \n",
      "                                                                     'block4a_project_bn[0][0]']  \n",
      "                                                                                                  \n",
      " block4c_expand_conv (Conv2  (None, None, None, 480)      38400     ['block4b_add[0][0]']         \n",
      " D)                                                                                               \n",
      "                                                                                                  \n",
      " block4c_expand_bn (BatchNo  (None, None, None, 480)      1920      ['block4c_expand_conv[0][0]'] \n",
      " rmalization)                                                                                     \n",
      "                                                                                                  \n",
      " block4c_expand_activation   (None, None, None, 480)      0         ['block4c_expand_bn[0][0]']   \n",
      " (Activation)                                                                                     \n",
      "                                                                                                  \n",
      " block4c_dwconv (DepthwiseC  (None, None, None, 480)      4320      ['block4c_expand_activation[0]\n",
      " onv2D)                                                             [0]']                         \n",
      "                                                                                                  \n",
      " block4c_bn (BatchNormaliza  (None, None, None, 480)      1920      ['block4c_dwconv[0][0]']      \n",
      " tion)                                                                                            \n",
      "                                                                                                  \n",
      " block4c_activation (Activa  (None, None, None, 480)      0         ['block4c_bn[0][0]']          \n",
      " tion)                                                                                            \n",
      "                                                                                                  \n",
      " block4c_se_squeeze (Global  (None, 480)                  0         ['block4c_activation[0][0]']  \n",
      " AveragePooling2D)                                                                                \n",
      "                                                                                                  \n",
      " block4c_se_reshape (Reshap  (None, 1, 1, 480)            0         ['block4c_se_squeeze[0][0]']  \n",
      " e)                                                                                               \n",
      "                                                                                                  \n",
      " block4c_se_reduce (Conv2D)  (None, 1, 1, 20)             9620      ['block4c_se_reshape[0][0]']  \n",
      "                                                                                                  \n",
      " block4c_se_expand (Conv2D)  (None, 1, 1, 480)            10080     ['block4c_se_reduce[0][0]']   \n",
      "                                                                                                  \n",
      " block4c_se_excite (Multipl  (None, None, None, 480)      0         ['block4c_activation[0][0]',  \n",
      " y)                                                                  'block4c_se_expand[0][0]']   \n",
      "                                                                                                  \n",
      " block4c_project_conv (Conv  (None, None, None, 80)       38400     ['block4c_se_excite[0][0]']   \n",
      " 2D)                                                                                              \n",
      "                                                                                                  \n",
      " block4c_project_bn (BatchN  (None, None, None, 80)       320       ['block4c_project_conv[0][0]']\n",
      " ormalization)                                                                                    \n",
      "                                                                                                  \n",
      " block4c_drop (Dropout)      (None, None, None, 80)       0         ['block4c_project_bn[0][0]']  \n",
      "                                                                                                  \n",
      " block4c_add (Add)           (None, None, None, 80)       0         ['block4c_drop[0][0]',        \n",
      "                                                                     'block4b_add[0][0]']         \n",
      "                                                                                                  \n",
      " block5a_expand_conv (Conv2  (None, None, None, 480)      38400     ['block4c_add[0][0]']         \n",
      " D)                                                                                               \n",
      "                                                                                                  \n",
      " block5a_expand_bn (BatchNo  (None, None, None, 480)      1920      ['block5a_expand_conv[0][0]'] \n",
      " rmalization)                                                                                     \n",
      "                                                                                                  \n",
      " block5a_expand_activation   (None, None, None, 480)      0         ['block5a_expand_bn[0][0]']   \n",
      " (Activation)                                                                                     \n",
      "                                                                                                  \n",
      " block5a_dwconv (DepthwiseC  (None, None, None, 480)      12000     ['block5a_expand_activation[0]\n",
      " onv2D)                                                             [0]']                         \n",
      "                                                                                                  \n",
      " block5a_bn (BatchNormaliza  (None, None, None, 480)      1920      ['block5a_dwconv[0][0]']      \n",
      " tion)                                                                                            \n",
      "                                                                                                  \n",
      " block5a_activation (Activa  (None, None, None, 480)      0         ['block5a_bn[0][0]']          \n",
      " tion)                                                                                            \n",
      "                                                                                                  \n",
      " block5a_se_squeeze (Global  (None, 480)                  0         ['block5a_activation[0][0]']  \n",
      " AveragePooling2D)                                                                                \n",
      "                                                                                                  \n",
      " block5a_se_reshape (Reshap  (None, 1, 1, 480)            0         ['block5a_se_squeeze[0][0]']  \n",
      " e)                                                                                               \n",
      "                                                                                                  \n",
      " block5a_se_reduce (Conv2D)  (None, 1, 1, 20)             9620      ['block5a_se_reshape[0][0]']  \n",
      "                                                                                                  \n",
      " block5a_se_expand (Conv2D)  (None, 1, 1, 480)            10080     ['block5a_se_reduce[0][0]']   \n",
      "                                                                                                  \n",
      " block5a_se_excite (Multipl  (None, None, None, 480)      0         ['block5a_activation[0][0]',  \n",
      " y)                                                                  'block5a_se_expand[0][0]']   \n",
      "                                                                                                  \n",
      " block5a_project_conv (Conv  (None, None, None, 112)      53760     ['block5a_se_excite[0][0]']   \n",
      " 2D)                                                                                              \n",
      "                                                                                                  \n",
      " block5a_project_bn (BatchN  (None, None, None, 112)      448       ['block5a_project_conv[0][0]']\n",
      " ormalization)                                                                                    \n",
      "                                                                                                  \n",
      " block5b_expand_conv (Conv2  (None, None, None, 672)      75264     ['block5a_project_bn[0][0]']  \n",
      " D)                                                                                               \n",
      "                                                                                                  \n",
      " block5b_expand_bn (BatchNo  (None, None, None, 672)      2688      ['block5b_expand_conv[0][0]'] \n",
      " rmalization)                                                                                     \n",
      "                                                                                                  \n",
      " block5b_expand_activation   (None, None, None, 672)      0         ['block5b_expand_bn[0][0]']   \n",
      " (Activation)                                                                                     \n",
      "                                                                                                  \n",
      " block5b_dwconv (DepthwiseC  (None, None, None, 672)      16800     ['block5b_expand_activation[0]\n",
      " onv2D)                                                             [0]']                         \n",
      "                                                                                                  \n",
      " block5b_bn (BatchNormaliza  (None, None, None, 672)      2688      ['block5b_dwconv[0][0]']      \n",
      " tion)                                                                                            \n",
      "                                                                                                  \n",
      " block5b_activation (Activa  (None, None, None, 672)      0         ['block5b_bn[0][0]']          \n",
      " tion)                                                                                            \n",
      "                                                                                                  \n",
      " block5b_se_squeeze (Global  (None, 672)                  0         ['block5b_activation[0][0]']  \n",
      " AveragePooling2D)                                                                                \n",
      "                                                                                                  \n",
      " block5b_se_reshape (Reshap  (None, 1, 1, 672)            0         ['block5b_se_squeeze[0][0]']  \n",
      " e)                                                                                               \n",
      "                                                                                                  \n",
      " block5b_se_reduce (Conv2D)  (None, 1, 1, 28)             18844     ['block5b_se_reshape[0][0]']  \n",
      "                                                                                                  \n",
      " block5b_se_expand (Conv2D)  (None, 1, 1, 672)            19488     ['block5b_se_reduce[0][0]']   \n",
      "                                                                                                  \n",
      " block5b_se_excite (Multipl  (None, None, None, 672)      0         ['block5b_activation[0][0]',  \n",
      " y)                                                                  'block5b_se_expand[0][0]']   \n",
      "                                                                                                  \n",
      " block5b_project_conv (Conv  (None, None, None, 112)      75264     ['block5b_se_excite[0][0]']   \n",
      " 2D)                                                                                              \n",
      "                                                                                                  \n",
      " block5b_project_bn (BatchN  (None, None, None, 112)      448       ['block5b_project_conv[0][0]']\n",
      " ormalization)                                                                                    \n",
      "                                                                                                  \n",
      " block5b_drop (Dropout)      (None, None, None, 112)      0         ['block5b_project_bn[0][0]']  \n",
      "                                                                                                  \n",
      " block5b_add (Add)           (None, None, None, 112)      0         ['block5b_drop[0][0]',        \n",
      "                                                                     'block5a_project_bn[0][0]']  \n",
      "                                                                                                  \n",
      " block5c_expand_conv (Conv2  (None, None, None, 672)      75264     ['block5b_add[0][0]']         \n",
      " D)                                                                                               \n",
      "                                                                                                  \n",
      " block5c_expand_bn (BatchNo  (None, None, None, 672)      2688      ['block5c_expand_conv[0][0]'] \n",
      " rmalization)                                                                                     \n",
      "                                                                                                  \n",
      " block5c_expand_activation   (None, None, None, 672)      0         ['block5c_expand_bn[0][0]']   \n",
      " (Activation)                                                                                     \n",
      "                                                                                                  \n",
      " block5c_dwconv (DepthwiseC  (None, None, None, 672)      16800     ['block5c_expand_activation[0]\n",
      " onv2D)                                                             [0]']                         \n",
      "                                                                                                  \n",
      " block5c_bn (BatchNormaliza  (None, None, None, 672)      2688      ['block5c_dwconv[0][0]']      \n",
      " tion)                                                                                            \n",
      "                                                                                                  \n",
      " block5c_activation (Activa  (None, None, None, 672)      0         ['block5c_bn[0][0]']          \n",
      " tion)                                                                                            \n",
      "                                                                                                  \n",
      " block5c_se_squeeze (Global  (None, 672)                  0         ['block5c_activation[0][0]']  \n",
      " AveragePooling2D)                                                                                \n",
      "                                                                                                  \n",
      " block5c_se_reshape (Reshap  (None, 1, 1, 672)            0         ['block5c_se_squeeze[0][0]']  \n",
      " e)                                                                                               \n",
      "                                                                                                  \n",
      " block5c_se_reduce (Conv2D)  (None, 1, 1, 28)             18844     ['block5c_se_reshape[0][0]']  \n",
      "                                                                                                  \n",
      " block5c_se_expand (Conv2D)  (None, 1, 1, 672)            19488     ['block5c_se_reduce[0][0]']   \n",
      "                                                                                                  \n",
      " block5c_se_excite (Multipl  (None, None, None, 672)      0         ['block5c_activation[0][0]',  \n",
      " y)                                                                  'block5c_se_expand[0][0]']   \n",
      "                                                                                                  \n",
      " block5c_project_conv (Conv  (None, None, None, 112)      75264     ['block5c_se_excite[0][0]']   \n",
      " 2D)                                                                                              \n",
      "                                                                                                  \n",
      " block5c_project_bn (BatchN  (None, None, None, 112)      448       ['block5c_project_conv[0][0]']\n",
      " ormalization)                                                                                    \n",
      "                                                                                                  \n",
      " block5c_drop (Dropout)      (None, None, None, 112)      0         ['block5c_project_bn[0][0]']  \n",
      "                                                                                                  \n",
      " block5c_add (Add)           (None, None, None, 112)      0         ['block5c_drop[0][0]',        \n",
      "                                                                     'block5b_add[0][0]']         \n",
      "                                                                                                  \n",
      " block6a_expand_conv (Conv2  (None, None, None, 672)      75264     ['block5c_add[0][0]']         \n",
      " D)                                                                                               \n",
      "                                                                                                  \n",
      " block6a_expand_bn (BatchNo  (None, None, None, 672)      2688      ['block6a_expand_conv[0][0]'] \n",
      " rmalization)                                                                                     \n",
      "                                                                                                  \n",
      " block6a_expand_activation   (None, None, None, 672)      0         ['block6a_expand_bn[0][0]']   \n",
      " (Activation)                                                                                     \n",
      "                                                                                                  \n",
      " block6a_dwconv_pad (ZeroPa  (None, None, None, 672)      0         ['block6a_expand_activation[0]\n",
      " dding2D)                                                           [0]']                         \n",
      "                                                                                                  \n",
      " block6a_dwconv (DepthwiseC  (None, None, None, 672)      16800     ['block6a_dwconv_pad[0][0]']  \n",
      " onv2D)                                                                                           \n",
      "                                                                                                  \n",
      " block6a_bn (BatchNormaliza  (None, None, None, 672)      2688      ['block6a_dwconv[0][0]']      \n",
      " tion)                                                                                            \n",
      "                                                                                                  \n",
      " block6a_activation (Activa  (None, None, None, 672)      0         ['block6a_bn[0][0]']          \n",
      " tion)                                                                                            \n",
      "                                                                                                  \n",
      " block6a_se_squeeze (Global  (None, 672)                  0         ['block6a_activation[0][0]']  \n",
      " AveragePooling2D)                                                                                \n",
      "                                                                                                  \n",
      " block6a_se_reshape (Reshap  (None, 1, 1, 672)            0         ['block6a_se_squeeze[0][0]']  \n",
      " e)                                                                                               \n",
      "                                                                                                  \n",
      " block6a_se_reduce (Conv2D)  (None, 1, 1, 28)             18844     ['block6a_se_reshape[0][0]']  \n",
      "                                                                                                  \n",
      " block6a_se_expand (Conv2D)  (None, 1, 1, 672)            19488     ['block6a_se_reduce[0][0]']   \n",
      "                                                                                                  \n",
      " block6a_se_excite (Multipl  (None, None, None, 672)      0         ['block6a_activation[0][0]',  \n",
      " y)                                                                  'block6a_se_expand[0][0]']   \n",
      "                                                                                                  \n",
      " block6a_project_conv (Conv  (None, None, None, 192)      129024    ['block6a_se_excite[0][0]']   \n",
      " 2D)                                                                                              \n",
      "                                                                                                  \n",
      " block6a_project_bn (BatchN  (None, None, None, 192)      768       ['block6a_project_conv[0][0]']\n",
      " ormalization)                                                                                    \n",
      "                                                                                                  \n",
      " block6b_expand_conv (Conv2  (None, None, None, 1152)     221184    ['block6a_project_bn[0][0]']  \n",
      " D)                                                                                               \n",
      "                                                                                                  \n",
      " block6b_expand_bn (BatchNo  (None, None, None, 1152)     4608      ['block6b_expand_conv[0][0]'] \n",
      " rmalization)                                                                                     \n",
      "                                                                                                  \n",
      " block6b_expand_activation   (None, None, None, 1152)     0         ['block6b_expand_bn[0][0]']   \n",
      " (Activation)                                                                                     \n",
      "                                                                                                  \n",
      " block6b_dwconv (DepthwiseC  (None, None, None, 1152)     28800     ['block6b_expand_activation[0]\n",
      " onv2D)                                                             [0]']                         \n",
      "                                                                                                  \n",
      " block6b_bn (BatchNormaliza  (None, None, None, 1152)     4608      ['block6b_dwconv[0][0]']      \n",
      " tion)                                                                                            \n",
      "                                                                                                  \n",
      " block6b_activation (Activa  (None, None, None, 1152)     0         ['block6b_bn[0][0]']          \n",
      " tion)                                                                                            \n",
      "                                                                                                  \n",
      " block6b_se_squeeze (Global  (None, 1152)                 0         ['block6b_activation[0][0]']  \n",
      " AveragePooling2D)                                                                                \n",
      "                                                                                                  \n",
      " block6b_se_reshape (Reshap  (None, 1, 1, 1152)           0         ['block6b_se_squeeze[0][0]']  \n",
      " e)                                                                                               \n",
      "                                                                                                  \n",
      " block6b_se_reduce (Conv2D)  (None, 1, 1, 48)             55344     ['block6b_se_reshape[0][0]']  \n",
      "                                                                                                  \n",
      " block6b_se_expand (Conv2D)  (None, 1, 1, 1152)           56448     ['block6b_se_reduce[0][0]']   \n",
      "                                                                                                  \n",
      " block6b_se_excite (Multipl  (None, None, None, 1152)     0         ['block6b_activation[0][0]',  \n",
      " y)                                                                  'block6b_se_expand[0][0]']   \n",
      "                                                                                                  \n",
      " block6b_project_conv (Conv  (None, None, None, 192)      221184    ['block6b_se_excite[0][0]']   \n",
      " 2D)                                                                                              \n",
      "                                                                                                  \n",
      " block6b_project_bn (BatchN  (None, None, None, 192)      768       ['block6b_project_conv[0][0]']\n",
      " ormalization)                                                                                    \n",
      "                                                                                                  \n",
      " block6b_drop (Dropout)      (None, None, None, 192)      0         ['block6b_project_bn[0][0]']  \n",
      "                                                                                                  \n",
      " block6b_add (Add)           (None, None, None, 192)      0         ['block6b_drop[0][0]',        \n",
      "                                                                     'block6a_project_bn[0][0]']  \n",
      "                                                                                                  \n",
      " block6c_expand_conv (Conv2  (None, None, None, 1152)     221184    ['block6b_add[0][0]']         \n",
      " D)                                                                                               \n",
      "                                                                                                  \n",
      " block6c_expand_bn (BatchNo  (None, None, None, 1152)     4608      ['block6c_expand_conv[0][0]'] \n",
      " rmalization)                                                                                     \n",
      "                                                                                                  \n",
      " block6c_expand_activation   (None, None, None, 1152)     0         ['block6c_expand_bn[0][0]']   \n",
      " (Activation)                                                                                     \n",
      "                                                                                                  \n",
      " block6c_dwconv (DepthwiseC  (None, None, None, 1152)     28800     ['block6c_expand_activation[0]\n",
      " onv2D)                                                             [0]']                         \n",
      "                                                                                                  \n",
      " block6c_bn (BatchNormaliza  (None, None, None, 1152)     4608      ['block6c_dwconv[0][0]']      \n",
      " tion)                                                                                            \n",
      "                                                                                                  \n",
      " block6c_activation (Activa  (None, None, None, 1152)     0         ['block6c_bn[0][0]']          \n",
      " tion)                                                                                            \n",
      "                                                                                                  \n",
      " block6c_se_squeeze (Global  (None, 1152)                 0         ['block6c_activation[0][0]']  \n",
      " AveragePooling2D)                                                                                \n",
      "                                                                                                  \n",
      " block6c_se_reshape (Reshap  (None, 1, 1, 1152)           0         ['block6c_se_squeeze[0][0]']  \n",
      " e)                                                                                               \n",
      "                                                                                                  \n",
      " block6c_se_reduce (Conv2D)  (None, 1, 1, 48)             55344     ['block6c_se_reshape[0][0]']  \n",
      "                                                                                                  \n",
      " block6c_se_expand (Conv2D)  (None, 1, 1, 1152)           56448     ['block6c_se_reduce[0][0]']   \n",
      "                                                                                                  \n",
      " block6c_se_excite (Multipl  (None, None, None, 1152)     0         ['block6c_activation[0][0]',  \n",
      " y)                                                                  'block6c_se_expand[0][0]']   \n",
      "                                                                                                  \n",
      " block6c_project_conv (Conv  (None, None, None, 192)      221184    ['block6c_se_excite[0][0]']   \n",
      " 2D)                                                                                              \n",
      "                                                                                                  \n",
      " block6c_project_bn (BatchN  (None, None, None, 192)      768       ['block6c_project_conv[0][0]']\n",
      " ormalization)                                                                                    \n",
      "                                                                                                  \n",
      " block6c_drop (Dropout)      (None, None, None, 192)      0         ['block6c_project_bn[0][0]']  \n",
      "                                                                                                  \n",
      " block6c_add (Add)           (None, None, None, 192)      0         ['block6c_drop[0][0]',        \n",
      "                                                                     'block6b_add[0][0]']         \n",
      "                                                                                                  \n",
      " block6d_expand_conv (Conv2  (None, None, None, 1152)     221184    ['block6c_add[0][0]']         \n",
      " D)                                                                                               \n",
      "                                                                                                  \n",
      " block6d_expand_bn (BatchNo  (None, None, None, 1152)     4608      ['block6d_expand_conv[0][0]'] \n",
      " rmalization)                                                                                     \n",
      "                                                                                                  \n",
      " block6d_expand_activation   (None, None, None, 1152)     0         ['block6d_expand_bn[0][0]']   \n",
      " (Activation)                                                                                     \n",
      "                                                                                                  \n",
      " block6d_dwconv (DepthwiseC  (None, None, None, 1152)     28800     ['block6d_expand_activation[0]\n",
      " onv2D)                                                             [0]']                         \n",
      "                                                                                                  \n",
      " block6d_bn (BatchNormaliza  (None, None, None, 1152)     4608      ['block6d_dwconv[0][0]']      \n",
      " tion)                                                                                            \n",
      "                                                                                                  \n",
      " block6d_activation (Activa  (None, None, None, 1152)     0         ['block6d_bn[0][0]']          \n",
      " tion)                                                                                            \n",
      "                                                                                                  \n",
      " block6d_se_squeeze (Global  (None, 1152)                 0         ['block6d_activation[0][0]']  \n",
      " AveragePooling2D)                                                                                \n",
      "                                                                                                  \n",
      " block6d_se_reshape (Reshap  (None, 1, 1, 1152)           0         ['block6d_se_squeeze[0][0]']  \n",
      " e)                                                                                               \n",
      "                                                                                                  \n",
      " block6d_se_reduce (Conv2D)  (None, 1, 1, 48)             55344     ['block6d_se_reshape[0][0]']  \n",
      "                                                                                                  \n",
      " block6d_se_expand (Conv2D)  (None, 1, 1, 1152)           56448     ['block6d_se_reduce[0][0]']   \n",
      "                                                                                                  \n",
      " block6d_se_excite (Multipl  (None, None, None, 1152)     0         ['block6d_activation[0][0]',  \n",
      " y)                                                                  'block6d_se_expand[0][0]']   \n",
      "                                                                                                  \n",
      " block6d_project_conv (Conv  (None, None, None, 192)      221184    ['block6d_se_excite[0][0]']   \n",
      " 2D)                                                                                              \n",
      "                                                                                                  \n",
      " block6d_project_bn (BatchN  (None, None, None, 192)      768       ['block6d_project_conv[0][0]']\n",
      " ormalization)                                                                                    \n",
      "                                                                                                  \n",
      " block6d_drop (Dropout)      (None, None, None, 192)      0         ['block6d_project_bn[0][0]']  \n",
      "                                                                                                  \n",
      " block6d_add (Add)           (None, None, None, 192)      0         ['block6d_drop[0][0]',        \n",
      "                                                                     'block6c_add[0][0]']         \n",
      "                                                                                                  \n",
      " block7a_expand_conv (Conv2  (None, None, None, 1152)     221184    ['block6d_add[0][0]']         \n",
      " D)                                                                                               \n",
      "                                                                                                  \n",
      " block7a_expand_bn (BatchNo  (None, None, None, 1152)     4608      ['block7a_expand_conv[0][0]'] \n",
      " rmalization)                                                                                     \n",
      "                                                                                                  \n",
      " block7a_expand_activation   (None, None, None, 1152)     0         ['block7a_expand_bn[0][0]']   \n",
      " (Activation)                                                                                     \n",
      "                                                                                                  \n",
      " block7a_dwconv (DepthwiseC  (None, None, None, 1152)     10368     ['block7a_expand_activation[0]\n",
      " onv2D)                                                             [0]']                         \n",
      "                                                                                                  \n",
      " block7a_bn (BatchNormaliza  (None, None, None, 1152)     4608      ['block7a_dwconv[0][0]']      \n",
      " tion)                                                                                            \n",
      "                                                                                                  \n",
      " block7a_activation (Activa  (None, None, None, 1152)     0         ['block7a_bn[0][0]']          \n",
      " tion)                                                                                            \n",
      "                                                                                                  \n",
      " block7a_se_squeeze (Global  (None, 1152)                 0         ['block7a_activation[0][0]']  \n",
      " AveragePooling2D)                                                                                \n",
      "                                                                                                  \n",
      " block7a_se_reshape (Reshap  (None, 1, 1, 1152)           0         ['block7a_se_squeeze[0][0]']  \n",
      " e)                                                                                               \n",
      "                                                                                                  \n",
      " block7a_se_reduce (Conv2D)  (None, 1, 1, 48)             55344     ['block7a_se_reshape[0][0]']  \n",
      "                                                                                                  \n",
      " block7a_se_expand (Conv2D)  (None, 1, 1, 1152)           56448     ['block7a_se_reduce[0][0]']   \n",
      "                                                                                                  \n",
      " block7a_se_excite (Multipl  (None, None, None, 1152)     0         ['block7a_activation[0][0]',  \n",
      " y)                                                                  'block7a_se_expand[0][0]']   \n",
      "                                                                                                  \n",
      " block7a_project_conv (Conv  (None, None, None, 320)      368640    ['block7a_se_excite[0][0]']   \n",
      " 2D)                                                                                              \n",
      "                                                                                                  \n",
      " block7a_project_bn (BatchN  (None, None, None, 320)      1280      ['block7a_project_conv[0][0]']\n",
      " ormalization)                                                                                    \n",
      "                                                                                                  \n",
      " top_conv (Conv2D)           (None, None, None, 1280)     409600    ['block7a_project_bn[0][0]']  \n",
      "                                                                                                  \n",
      " top_bn (BatchNormalization  (None, None, None, 1280)     5120      ['top_conv[0][0]']            \n",
      " )                                                                                                \n",
      "                                                                                                  \n",
      " top_activation (Activation  (None, None, None, 1280)     0         ['top_bn[0][0]']              \n",
      " )                                                                                                \n",
      "                                                                                                  \n",
      " avg_pool (GlobalAveragePoo  (None, 1280)                 0         ['top_activation[0][0]']      \n",
      " ling2D)                                                                                          \n",
      "                                                                                                  \n",
      "==================================================================================================\n",
      "Total params: 4049571 (15.45 MB)\n",
      "Trainable params: 4007548 (15.29 MB)\n",
      "Non-trainable params: 42023 (164.16 KB)\n",
      "__________________________________________________________________________________________________\n"
     ]
    }
   ],
   "source": [
    "# Opcional: Visualizar la distribución de algunos embeddings\n",
    "import matplotlib.pyplot as plt\n",
    "\n",
    "plt.figure(figsize=(12, 4))\n",
    "\n",
    "# Histograma del primer frame\n",
    "plt.subplot(1, 2, 1)\n",
    "plt.hist(features[0], bins=50)\n",
    "plt.title('Distribución del embedding del primer frame')\n",
    "plt.xlabel('Valor')\n",
    "plt.ylabel('Frecuencia')\n",
    "\n",
    "# Visualizar la variación temporal de algunas dimensiones\n",
    "plt.subplot(1, 2, 2)\n",
    "for i in range(5):  # Mostrar 5 dimensiones diferentes\n",
    "    plt.plot(features[:, i], label=f'Dim {i}')\n",
    "plt.title('Variación temporal de 5 dimensiones')\n",
    "plt.xlabel('Frame')\n",
    "plt.ylabel('Valor')\n",
    "plt.legend()\n",
    "plt.tight_layout()\n",
    "plt.show()\n",
    "\n",
    "# Verificar que el modelo está cargando correctamente\n",
    "print(\"\\nResumen del modelo:\")\n",
    "extractor.model.summary()"
   ]
  },
  {
   "cell_type": "markdown",
   "metadata": {},
   "source": [
    "# Videos count"
   ]
  },
  {
   "cell_type": "code",
   "execution_count": 1,
   "metadata": {},
   "outputs": [],
   "source": [
    "import os"
   ]
  },
  {
   "cell_type": "code",
   "execution_count": 2,
   "metadata": {},
   "outputs": [
    {
     "data": {
      "text/plain": [
       "'d:\\\\Projects_D\\\\013_OpenCV_Learning\\\\OpenCV_Learning'"
      ]
     },
     "execution_count": 2,
     "metadata": {},
     "output_type": "execute_result"
    }
   ],
   "source": [
    "os.getcwd()\n",
    "os.chdir(\"../\")\n",
    "os.getcwd()\n",
    "\n"
   ]
  },
  {
   "cell_type": "code",
   "execution_count": 3,
   "metadata": {},
   "outputs": [
    {
     "name": "stdout",
     "output_type": "stream",
     "text": [
      "\n",
      "VAL set:\n",
      "Total videos: 1673\n",
      "\n",
      "Videos por clase:\n",
      "ApplyEyeMakeup: 18\n",
      "ApplyLipstick: 14\n",
      "Archery: 18\n",
      "BabyCrawling: 16\n",
      "BalanceBeam: 13\n",
      "BandMarching: 19\n",
      "BaseballPitch: 19\n",
      "Basketball: 33\n",
      "BasketballDunk: 16\n",
      "BenchPress: 20\n",
      "Biking: 17\n",
      "Billiards: 19\n",
      "BlowDryHair: 16\n",
      "BlowingCandles: 14\n",
      "BodyWeightSquats: 14\n",
      "Bowling: 19\n",
      "BoxingPunchingBag: 20\n",
      "BoxingSpeedBag: 17\n",
      "BreastStroke: 13\n",
      "BrushingTeeth: 16\n",
      "CleanAndJerk: 14\n",
      "CliffDiving: 17\n",
      "CricketBowling: 17\n",
      "CricketShot: 21\n",
      "CuttingInKitchen: 14\n",
      "Diving: 19\n",
      "Drumming: 20\n",
      "Fencing: 14\n",
      "FieldHockeyPenalty: 16\n",
      "FloorGymnastics: 16\n",
      "FrisbeeCatch: 16\n",
      "FrontCrawl: 17\n",
      "GolfSwing: 17\n",
      "Haircut: 16\n",
      "HammerThrow: 19\n",
      "Hammering: 17\n",
      "HandstandPushups: 16\n",
      "HandstandWalking: 14\n",
      "HeadMassage: 18\n",
      "HighJump: 15\n",
      "HorseRace: 15\n",
      "HorseRiding: 20\n",
      "HulaHoop: 16\n",
      "IceDancing: 20\n",
      "JavelinThrow: 15\n",
      "JugglingBalls: 15\n",
      "JumpRope: 18\n",
      "JumpingJack: 15\n",
      "Kayaking: 18\n",
      "Knitting: 15\n",
      "LongJump: 16\n",
      "Lunges: 16\n",
      "MilitaryParade: 16\n",
      "Mixing: 17\n",
      "MoppingFloor: 14\n",
      "Nunchucks: 16\n",
      "ParallelBars: 14\n",
      "PizzaTossing: 14\n",
      "PlayingCello: 20\n",
      "PlayingDaf: 19\n",
      "PlayingDhol: 20\n",
      "PlayingFlute: 19\n",
      "PlayingGuitar: 20\n",
      "PlayingPiano: 13\n",
      "PlayingSitar: 20\n",
      "PlayingTabla: 14\n",
      "PlayingViolin: 12\n",
      "PoleVault: 19\n",
      "PommelHorse: 15\n",
      "PullUps: 12\n",
      "Punch: 20\n",
      "PushUps: 13\n",
      "Rafting: 14\n",
      "RockClimbingIndoor: 18\n",
      "RopeClimbing: 15\n",
      "Rowing: 17\n",
      "SalsaSpin: 17\n",
      "ShavingBeard: 20\n",
      "Shotput: 18\n",
      "SkateBoarding: 15\n",
      "Skiing: 17\n",
      "Skijet: 12\n",
      "SkyDiving: 14\n",
      "SoccerJuggling: 18\n",
      "SoccerPenalty: 17\n",
      "StillRings: 14\n",
      "SumoWrestling: 14\n",
      "Surfing: 16\n",
      "Swing: 16\n",
      "TableTennisShot: 17\n",
      "TaiChi: 12\n",
      "TennisSwing: 21\n",
      "ThrowDiscus: 16\n",
      "TrampolineJumping: 15\n",
      "Typing: 17\n",
      "UnevenBars: 13\n",
      "VolleyballSpiking: 14\n",
      "WalkingWithDog: 15\n",
      "WallPushups: 16\n",
      "WritingOnBoard: 19\n",
      "YoYo: 16\n",
      "\n",
      "TEST set:\n",
      "Total videos: 1723\n",
      "\n",
      "Videos por clase:\n",
      "ApplyEyeMakeup: 19\n",
      "ApplyLipstick: 15\n",
      "Archery: 19\n",
      "BabyCrawling: 17\n",
      "BalanceBeam: 14\n",
      "BandMarching: 20\n",
      "BaseballPitch: 19\n",
      "Basketball: 34\n",
      "BasketballDunk: 17\n",
      "BenchPress: 20\n",
      "Biking: 17\n",
      "Billiards: 19\n",
      "BlowDryHair: 17\n",
      "BlowingCandles: 14\n",
      "BodyWeightSquats: 14\n",
      "Bowling: 20\n",
      "BoxingPunchingBag: 21\n",
      "BoxingSpeedBag: 17\n",
      "BreastStroke: 13\n",
      "BrushingTeeth: 17\n",
      "CleanAndJerk: 14\n",
      "CliffDiving: 18\n",
      "CricketBowling: 18\n",
      "CricketShot: 21\n",
      "CuttingInKitchen: 14\n",
      "Diving: 19\n",
      "Drumming: 21\n",
      "Fencing: 14\n",
      "FieldHockeyPenalty: 16\n",
      "FloorGymnastics: 16\n",
      "FrisbeeCatch: 16\n",
      "FrontCrawl: 18\n",
      "GolfSwing: 18\n",
      "Haircut: 17\n",
      "HammerThrow: 19\n",
      "Hammering: 18\n",
      "HandstandPushups: 16\n",
      "HandstandWalking: 14\n",
      "HeadMassage: 19\n",
      "HighJump: 16\n",
      "HorseRace: 16\n",
      "HorseRiding: 21\n",
      "HulaHoop: 16\n",
      "IceDancing: 20\n",
      "JavelinThrow: 15\n",
      "JugglingBalls: 16\n",
      "JumpRope: 18\n",
      "JumpingJack: 16\n",
      "Kayaking: 18\n",
      "Knitting: 16\n",
      "LongJump: 17\n",
      "Lunges: 16\n",
      "MilitaryParade: 16\n",
      "Mixing: 17\n",
      "MoppingFloor: 14\n",
      "Nunchucks: 17\n",
      "ParallelBars: 15\n",
      "PizzaTossing: 15\n",
      "PlayingCello: 21\n",
      "PlayingDaf: 19\n",
      "PlayingDhol: 21\n",
      "PlayingFlute: 20\n",
      "PlayingGuitar: 20\n",
      "PlayingPiano: 14\n",
      "PlayingSitar: 20\n",
      "PlayingTabla: 14\n",
      "PlayingViolin: 13\n",
      "PoleVault: 19\n",
      "PommelHorse: 16\n",
      "PullUps: 13\n",
      "Punch: 20\n",
      "PushUps: 13\n",
      "Rafting: 14\n",
      "RockClimbingIndoor: 18\n",
      "RopeClimbing: 15\n",
      "Rowing: 18\n",
      "SalsaSpin: 17\n",
      "ShavingBeard: 21\n",
      "Shotput: 18\n",
      "SkateBoarding: 15\n",
      "Skiing: 17\n",
      "Skijet: 13\n",
      "SkyDiving: 14\n",
      "SoccerJuggling: 19\n",
      "SoccerPenalty: 18\n",
      "StillRings: 14\n",
      "SumoWrestling: 15\n",
      "Surfing: 16\n",
      "Swing: 17\n",
      "TableTennisShot: 18\n",
      "TaiChi: 13\n",
      "TennisSwing: 21\n",
      "ThrowDiscus: 17\n",
      "TrampolineJumping: 15\n",
      "Typing: 17\n",
      "UnevenBars: 13\n",
      "VolleyballSpiking: 15\n",
      "WalkingWithDog: 16\n",
      "WallPushups: 17\n",
      "WritingOnBoard: 19\n",
      "YoYo: 16\n"
     ]
    }
   ],
   "source": [
    "from pathlib import Path\n",
    "\n",
    "def count_videos(directory: Path):\n",
    "    \"\"\"\n",
    "    Cuenta videos en un directorio y sus subdirectorios\n",
    "    \"\"\"\n",
    "    video_extensions = ['.mp4', '.avi', '.mov']\n",
    "    videos_by_class = {}\n",
    "    total_videos = 0\n",
    "    \n",
    "    # Contar videos por clase\n",
    "    for class_dir in directory.iterdir():\n",
    "        if class_dir.is_dir():\n",
    "            class_name = class_dir.name\n",
    "            video_count = sum(1 for _ in class_dir.rglob(\"*\") if _.suffix.lower() in video_extensions)\n",
    "            videos_by_class[class_name] = video_count\n",
    "            total_videos += video_count\n",
    "    \n",
    "    return videos_by_class, total_videos\n",
    "\n",
    "# Directorio raíz\n",
    "data_dir = Path(\"artifacts/data/raw\")\n",
    "\n",
    "# Contar videos en cada split\n",
    "for split in ['train', 'val', 'test']:\n",
    "    split_dir = data_dir / split\n",
    "    if split_dir.exists():\n",
    "        videos_by_class, total = count_videos(split_dir)\n",
    "        \n",
    "        print(f\"\\n{split.upper()} set:\")\n",
    "        print(f\"Total videos: {total}\")\n",
    "        print(\"\\nVideos por clase:\")\n",
    "        for class_name, count in sorted(videos_by_class.items()):\n",
    "            print(f\"{class_name}: {count}\")"
   ]
  },
  {
   "cell_type": "code",
   "execution_count": 4,
   "metadata": {},
   "outputs": [
    {
     "name": "stdout",
     "output_type": "stream",
     "text": [
      "\n",
      "Total global de videos: 13451\n",
      "\n",
      "Tiempo estimado de procesamiento:\n",
      "- En segundos: 403530\n",
      "- En minutos: 6725.50\n",
      "- En horas: 112.09\n"
     ]
    }
   ],
   "source": [
    "# Contar total global\n",
    "total_global = sum(count_videos(data_dir / split)[1] for split in ['train', 'val', 'test'] if (data_dir / split).exists())\n",
    "print(f\"\\nTotal global de videos: {total_global}\")\n",
    "\n",
    "# Estimar tiempo de procesamiento\n",
    "# Asumiendo ~1 segundo por video (esto es una estimación, el tiempo real dependerá de tu hardware)\n",
    "estimated_time = total_global * 30  # segundos\n",
    "print(f\"\\nTiempo estimado de procesamiento:\")\n",
    "print(f\"- En segundos: {estimated_time}\")\n",
    "print(f\"- En minutos: {estimated_time/60:.2f}\")\n",
    "print(f\"- En horas: {estimated_time/3600:.2f}\")"
   ]
  },
  {
   "cell_type": "markdown",
   "metadata": {},
   "source": [
    "# Embeddings for Val and Test"
   ]
  },
  {
   "cell_type": "code",
   "execution_count": 5,
   "metadata": {},
   "outputs": [],
   "source": [
    "import cv2\n",
    "import numpy as np\n",
    "import tensorflow as tf\n",
    "from pathlib import Path\n",
    "from tqdm import tqdm\n",
    "from src.actionDetection.components.data.preprocessing import FeatureExtractor"
   ]
  },
  {
   "cell_type": "code",
   "execution_count": 8,
   "metadata": {},
   "outputs": [],
   "source": [
    "import time"
   ]
  },
  {
   "cell_type": "code",
   "execution_count": 6,
   "metadata": {},
   "outputs": [],
   "source": [
    "# Crear el extractor\n",
    "extractor = FeatureExtractor(frame_size=(224, 224))\n",
    "\n",
    "# Directorios base\n",
    "raw_dir = Path(\"artifacts/data/raw\")\n",
    "processed_dir = Path(\"artifacts/data/processed\")"
   ]
  },
  {
   "cell_type": "code",
   "execution_count": 7,
   "metadata": {},
   "outputs": [],
   "source": [
    "# Procesar solo val y test\n",
    "splits_to_process = ['val', 'test']"
   ]
  },
  {
   "cell_type": "code",
   "execution_count": null,
   "metadata": {},
   "outputs": [],
   "source": [
    "# import cv2\n",
    "# import numpy as np\n",
    "# import tensorflow as tf\n",
    "# from pathlib import Path\n",
    "# from tqdm import tqdm\n",
    "# from src.actionDetection.components.data.preprocessing import FeatureExtractor\n",
    "# import time\n",
    "# # Crear el extractor\n",
    "# extractor = FeatureExtractor(frame_size=(224, 224))\n",
    "\n",
    "# # Directorios base\n",
    "# raw_dir = Path(\"artifacts/data/raw\")\n",
    "# processed_dir = Path(\"artifacts/data/processed\")\n",
    "# # Procesar solo val y test\n",
    "# splits_to_process = ['val', 'test']\n",
    "\n",
    "# for split in splits_to_process:\n",
    "#     print(f\"\\nProcesando split: {split}\")\n",
    "    \n",
    "#     input_dir = raw_dir / split\n",
    "#     output_dir = processed_dir / split\n",
    "    \n",
    "#     # Obtener lista de todos los videos a procesar\n",
    "#     video_paths = []\n",
    "#     video_extensions = ['.avi', '.mp4', '.mov', '.mkv']  # Añadimos más extensiones comunes\n",
    "    \n",
    "#     for class_dir in input_dir.iterdir():\n",
    "#         if class_dir.is_dir():\n",
    "#             # Crear directorio de salida para esta clase\n",
    "#             (output_dir / class_dir.name).mkdir(parents=True, exist_ok=True)\n",
    "            \n",
    "#             # Añadir videos de esta clase a la lista, buscando múltiples extensiones\n",
    "#             for ext in video_extensions:\n",
    "#                 video_paths.extend([\n",
    "#                     (video_path, class_dir.name) \n",
    "#                     for video_path in class_dir.glob(f\"*{ext}\")\n",
    "#                 ])\n",
    "    \n",
    "#     print(f\"Encontrados {len(video_paths)} videos en {split}\")\n",
    "    \n",
    "#     # Variables para estadísticas\n",
    "#     total_process_time = 0\n",
    "#     total_video_duration = 0\n",
    "#     processed_count = 0\n",
    "    \n",
    "#     # Crear/cargar archivo de progreso\n",
    "#     progress_file = processed_dir / f\"{split}_progress.txt\"\n",
    "#     processed_videos = set()\n",
    "#     if progress_file.exists():\n",
    "#         with open(progress_file, 'r') as f:\n",
    "#             processed_videos = set(f.read().splitlines())\n",
    "        \n",
    "#         # Actualizar contador con videos ya procesados\n",
    "#         processed_count = len(processed_videos)\n",
    "#         print(f\"Reanudando desde {processed_count} videos procesados anteriormente\")\n",
    "    \n",
    "#     try:\n",
    "#         # Procesar cada video con barra de progreso\n",
    "#         for video_path, class_name in tqdm(video_paths, desc=f\"Procesando {split}\"):\n",
    "#             # Saltar videos ya procesados\n",
    "#             if str(video_path) in processed_videos:\n",
    "#                 continue\n",
    "                \n",
    "#             try:\n",
    "#                 start_time = time.time()\n",
    "                \n",
    "#                 # Obtener duración del video\n",
    "#                 cap = cv2.VideoCapture(str(video_path))\n",
    "#                 fps = cap.get(cv2.CAP_PROP_FPS)\n",
    "#                 frame_count = int(cap.get(cv2.CAP_PROP_FRAME_COUNT))\n",
    "#                 video_duration = frame_count / fps\n",
    "#                 cap.release()\n",
    "                \n",
    "#                 # Crear ruta de salida manteniendo la estructura\n",
    "#                 output_path = output_dir / class_name / f\"{video_path.stem}_features.npy\"\n",
    "                \n",
    "#                 # Extraer y guardar features\n",
    "#                 extractor.extract_features(str(video_path), output_path)\n",
    "                \n",
    "#                 # Actualizar estadísticas\n",
    "#                 process_time = time.time() - start_time\n",
    "#                 total_process_time += process_time\n",
    "#                 total_video_duration += video_duration\n",
    "#                 processed_count += 1\n",
    "                \n",
    "#                 # Guardar progreso\n",
    "#                 with open(progress_file, 'a') as f:\n",
    "#                     f.write(f\"{str(video_path)}\\n\")\n",
    "                \n",
    "#                 # Mostrar estadísticas actualizadas\n",
    "#                 remaining = len(video_paths) - processed_count\n",
    "#                 avg_process_time = total_process_time / processed_count\n",
    "#                 avg_video_duration = total_video_duration / processed_count\n",
    "                \n",
    "#                 print(f\"\\nEstadísticas actualizadas:\")\n",
    "#                 print(f\"- Videos procesados: {processed_count}/{len(video_paths)} (Quedan {remaining})\")\n",
    "#                 print(f\"- Tiempo medio de procesamiento: {avg_process_time:.2f} segundos\")\n",
    "#                 print(f\"- Duración media de los videos: {avg_video_duration:.2f} segundos\")\n",
    "#                 print(f\"- Tiempo estimado restante: {remaining * avg_process_time:.2f} segundos\")\n",
    "                \n",
    "#             except Exception as e:\n",
    "#                 print(f\"Error procesando {video_path}: {str(e)}\")\n",
    "                \n",
    "#     except KeyboardInterrupt:\n",
    "#         print(f\"\\nProceso interrumpido. Progreso guardado en {progress_file}\")\n",
    "#         print(f\"Para continuar, simplemente ejecuta el script de nuevo.\")\n",
    "#         # Re-lanzar la excepción para asegurar que el notebook se detiene\n",
    "#         raise KeyboardInterrupt\n",
    "\n",
    "#     # Mostrar estadísticas finales del split\n",
    "#     if processed_count > 0:\n",
    "#         print(f\"\\nEstadísticas finales para {split}:\")\n",
    "#         print(f\"- Total de videos procesados: {processed_count}\")\n",
    "#         print(f\"- Tiempo medio de procesamiento: {total_process_time/processed_count:.2f} segundos\")\n",
    "#         print(f\"- Duración media de los videos: {total_video_duration/processed_count:.2f} segundos\")\n",
    "\n",
    "# print(\"\\n¡Procesamiento completado!\")"
   ]
  },
  {
   "cell_type": "code",
   "execution_count": 10,
   "metadata": {},
   "outputs": [
    {
     "name": "stdout",
     "output_type": "stream",
     "text": [
      "\n",
      "Procesando split: val\n",
      "Encontrados 1673 videos en val\n"
     ]
    },
    {
     "name": "stderr",
     "output_type": "stream",
     "text": [
      "Procesando val:   0%|          | 1/1673 [00:34<16:10:46, 34.84s/it]"
     ]
    },
    {
     "name": "stdout",
     "output_type": "stream",
     "text": [
      "\n",
      "Estadísticas actualizadas:\n",
      "- Videos procesados: 1/1673 (Quedan 1672)\n",
      "- Tiempo medio de procesamiento: 34.55 segundos\n",
      "- Duración media de los videos: 5.84 segundos\n",
      "- Tiempo estimado restante: 57760.38 segundos\n"
     ]
    },
    {
     "name": "stderr",
     "output_type": "stream",
     "text": [
      "Procesando val:   0%|          | 2/1673 [01:37<23:43:35, 51.12s/it]"
     ]
    },
    {
     "name": "stdout",
     "output_type": "stream",
     "text": [
      "\n",
      "Estadísticas actualizadas:\n",
      "- Videos procesados: 2/1673 (Quedan 1671)\n",
      "- Tiempo medio de procesamiento: 48.38 segundos\n",
      "- Duración media de los videos: 8.28 segundos\n",
      "- Tiempo estimado restante: 80842.33 segundos\n"
     ]
    },
    {
     "name": "stderr",
     "output_type": "stream",
     "text": [
      "Procesando val:   0%|          | 3/1673 [02:31<24:25:51, 52.67s/it]"
     ]
    },
    {
     "name": "stdout",
     "output_type": "stream",
     "text": [
      "\n",
      "Estadísticas actualizadas:\n",
      "- Videos procesados: 3/1673 (Quedan 1670)\n",
      "- Tiempo medio de procesamiento: 50.42 segundos\n",
      "- Duración media de los videos: 8.65 segundos\n",
      "- Tiempo estimado restante: 84205.90 segundos\n"
     ]
    },
    {
     "name": "stderr",
     "output_type": "stream",
     "text": [
      "Procesando val:   0%|          | 4/1673 [03:12<22:14:40, 47.98s/it]"
     ]
    },
    {
     "name": "stdout",
     "output_type": "stream",
     "text": [
      "\n",
      "Estadísticas actualizadas:\n",
      "- Videos procesados: 4/1673 (Quedan 1669)\n",
      "- Tiempo medio de procesamiento: 48.02 segundos\n",
      "- Duración media de los videos: 8.16 segundos\n",
      "- Tiempo estimado restante: 80139.40 segundos\n"
     ]
    },
    {
     "name": "stderr",
     "output_type": "stream",
     "text": [
      "Procesando val:   0%|          | 5/1673 [03:44<19:33:44, 42.22s/it]"
     ]
    },
    {
     "name": "stdout",
     "output_type": "stream",
     "text": [
      "\n",
      "Estadísticas actualizadas:\n",
      "- Videos procesados: 5/1673 (Quedan 1668)\n",
      "- Tiempo medio de procesamiento: 44.81 segundos\n",
      "- Duración media de los videos: 7.66 segundos\n",
      "- Tiempo estimado restante: 74749.90 segundos\n"
     ]
    },
    {
     "name": "stderr",
     "output_type": "stream",
     "text": [
      "Procesando val:   0%|          | 6/1673 [04:20<18:35:53, 40.16s/it]"
     ]
    },
    {
     "name": "stdout",
     "output_type": "stream",
     "text": [
      "\n",
      "Estadísticas actualizadas:\n",
      "- Videos procesados: 6/1673 (Quedan 1667)\n",
      "- Tiempo medio de procesamiento: 43.37 segundos\n",
      "- Duración media de los videos: 7.36 segundos\n",
      "- Tiempo estimado restante: 72303.30 segundos\n"
     ]
    },
    {
     "name": "stderr",
     "output_type": "stream",
     "text": [
      "Procesando val:   0%|          | 7/1673 [05:21<21:44:00, 46.96s/it]"
     ]
    },
    {
     "name": "stdout",
     "output_type": "stream",
     "text": [
      "\n",
      "Estadísticas actualizadas:\n",
      "- Videos procesados: 7/1673 (Quedan 1666)\n",
      "- Tiempo medio de procesamiento: 45.89 segundos\n",
      "- Duración media de los videos: 7.59 segundos\n",
      "- Tiempo estimado restante: 76445.47 segundos\n"
     ]
    },
    {
     "name": "stderr",
     "output_type": "stream",
     "text": [
      "Procesando val:   0%|          | 8/1673 [06:07<21:33:07, 46.60s/it]"
     ]
    },
    {
     "name": "stdout",
     "output_type": "stream",
     "text": [
      "\n",
      "Estadísticas actualizadas:\n",
      "- Videos procesados: 8/1673 (Quedan 1665)\n",
      "- Tiempo medio de procesamiento: 45.88 segundos\n",
      "- Duración media de los videos: 7.58 segundos\n",
      "- Tiempo estimado restante: 76385.68 segundos\n"
     ]
    },
    {
     "name": "stderr",
     "output_type": "stream",
     "text": [
      "Procesando val:   1%|          | 9/1673 [06:50<21:00:54, 45.47s/it]"
     ]
    },
    {
     "name": "stdout",
     "output_type": "stream",
     "text": [
      "\n",
      "Estadísticas actualizadas:\n",
      "- Videos procesados: 9/1673 (Quedan 1664)\n",
      "- Tiempo medio de procesamiento: 45.55 segundos\n",
      "- Duración media de los videos: 7.53 segundos\n",
      "- Tiempo estimado restante: 75802.41 segundos\n"
     ]
    },
    {
     "name": "stderr",
     "output_type": "stream",
     "text": [
      "Procesando val:   1%|          | 10/1673 [07:22<19:05:26, 41.33s/it]"
     ]
    },
    {
     "name": "stdout",
     "output_type": "stream",
     "text": [
      "\n",
      "Estadísticas actualizadas:\n",
      "- Videos procesados: 10/1673 (Quedan 1663)\n",
      "- Tiempo medio de procesamiento: 44.20 segundos\n",
      "- Duración media de los videos: 7.28 segundos\n",
      "- Tiempo estimado restante: 73512.54 segundos\n"
     ]
    },
    {
     "name": "stderr",
     "output_type": "stream",
     "text": [
      "Procesando val:   1%|          | 11/1673 [08:03<18:56:32, 41.03s/it]"
     ]
    },
    {
     "name": "stdout",
     "output_type": "stream",
     "text": [
      "\n",
      "Estadísticas actualizadas:\n",
      "- Videos procesados: 11/1673 (Quedan 1662)\n",
      "- Tiempo medio de procesamiento: 43.85 segundos\n",
      "- Duración media de los videos: 7.24 segundos\n",
      "- Tiempo estimado restante: 72886.87 segundos\n"
     ]
    },
    {
     "name": "stderr",
     "output_type": "stream",
     "text": [
      "Procesando val:   1%|          | 12/1673 [08:47<19:26:46, 42.15s/it]"
     ]
    },
    {
     "name": "stdout",
     "output_type": "stream",
     "text": [
      "\n",
      "Estadísticas actualizadas:\n",
      "- Videos procesados: 12/1673 (Quedan 1661)\n",
      "- Tiempo medio de procesamiento: 43.93 segundos\n",
      "- Duración media de los videos: 7.24 segundos\n",
      "- Tiempo estimado restante: 72960.03 segundos\n"
     ]
    },
    {
     "name": "stderr",
     "output_type": "stream",
     "text": [
      "Procesando val:   1%|          | 13/1673 [09:12<17:00:56, 36.90s/it]"
     ]
    },
    {
     "name": "stdout",
     "output_type": "stream",
     "text": [
      "\n",
      "Estadísticas actualizadas:\n",
      "- Videos procesados: 13/1673 (Quedan 1660)\n",
      "- Tiempo medio de procesamiento: 42.46 segundos\n",
      "- Duración media de los videos: 6.98 segundos\n",
      "- Tiempo estimado restante: 70477.82 segundos\n"
     ]
    },
    {
     "name": "stderr",
     "output_type": "stream",
     "text": [
      "Procesando val:   1%|          | 14/1673 [09:53<17:35:32, 38.18s/it]"
     ]
    },
    {
     "name": "stdout",
     "output_type": "stream",
     "text": [
      "\n",
      "Estadísticas actualizadas:\n",
      "- Videos procesados: 14/1673 (Quedan 1659)\n",
      "- Tiempo medio de procesamiento: 42.36 segundos\n",
      "- Duración media de los videos: 6.97 segundos\n",
      "- Tiempo estimado restante: 70276.50 segundos\n"
     ]
    },
    {
     "name": "stderr",
     "output_type": "stream",
     "text": [
      "Procesando val:   1%|          | 15/1673 [10:46<19:38:19, 42.64s/it]"
     ]
    },
    {
     "name": "stdout",
     "output_type": "stream",
     "text": [
      "\n",
      "Estadísticas actualizadas:\n",
      "- Videos procesados: 15/1673 (Quedan 1658)\n",
      "- Tiempo medio de procesamiento: 43.07 segundos\n",
      "- Duración media de los videos: 7.09 segundos\n",
      "- Tiempo estimado restante: 71409.18 segundos\n"
     ]
    },
    {
     "name": "stderr",
     "output_type": "stream",
     "text": [
      "Procesando val:   1%|          | 16/1673 [11:28<19:30:00, 42.37s/it]"
     ]
    },
    {
     "name": "stdout",
     "output_type": "stream",
     "text": [
      "\n",
      "Estadísticas actualizadas:\n",
      "- Videos procesados: 16/1673 (Quedan 1657)\n",
      "- Tiempo medio de procesamiento: 42.99 segundos\n",
      "- Duración media de los videos: 7.08 segundos\n",
      "- Tiempo estimado restante: 71226.77 segundos\n"
     ]
    },
    {
     "name": "stderr",
     "output_type": "stream",
     "text": [
      "Procesando val:   1%|          | 17/1673 [12:22<21:04:11, 45.80s/it]"
     ]
    },
    {
     "name": "stdout",
     "output_type": "stream",
     "text": [
      "\n",
      "Estadísticas actualizadas:\n",
      "- Videos procesados: 17/1673 (Quedan 1656)\n",
      "- Tiempo medio de procesamiento: 43.62 segundos\n",
      "- Duración media de los videos: 7.18 segundos\n",
      "- Tiempo estimado restante: 72237.15 segundos\n"
     ]
    },
    {
     "name": "stderr",
     "output_type": "stream",
     "text": [
      "Procesando val:   1%|          | 18/1673 [12:58<19:43:21, 42.90s/it]"
     ]
    },
    {
     "name": "stdout",
     "output_type": "stream",
     "text": [
      "\n",
      "Estadísticas actualizadas:\n",
      "- Videos procesados: 18/1673 (Quedan 1655)\n",
      "- Tiempo medio de procesamiento: 43.21 segundos\n",
      "- Duración media de los videos: 7.10 segundos\n",
      "- Tiempo estimado restante: 71505.73 segundos\n"
     ]
    },
    {
     "name": "stderr",
     "output_type": "stream",
     "text": [
      "Procesando val:   1%|          | 19/1673 [13:48<20:39:19, 44.96s/it]"
     ]
    },
    {
     "name": "stdout",
     "output_type": "stream",
     "text": [
      "\n",
      "Estadísticas actualizadas:\n",
      "- Videos procesados: 19/1673 (Quedan 1654)\n",
      "- Tiempo medio de procesamiento: 43.55 segundos\n",
      "- Duración media de los videos: 7.18 segundos\n",
      "- Tiempo estimado restante: 72031.84 segundos\n"
     ]
    },
    {
     "name": "stderr",
     "output_type": "stream",
     "text": [
      "Procesando val:   1%|          | 20/1673 [14:19<18:50:09, 41.02s/it]"
     ]
    },
    {
     "name": "stdout",
     "output_type": "stream",
     "text": [
      "\n",
      "Estadísticas actualizadas:\n",
      "- Videos procesados: 20/1673 (Quedan 1653)\n",
      "- Tiempo medio de procesamiento: 42.97 segundos\n",
      "- Duración media de los videos: 7.07 segundos\n",
      "- Tiempo estimado restante: 71021.18 segundos\n"
     ]
    },
    {
     "name": "stderr",
     "output_type": "stream",
     "text": [
      "Procesando val:   1%|▏         | 21/1673 [15:12<20:25:26, 44.51s/it]"
     ]
    },
    {
     "name": "stdout",
     "output_type": "stream",
     "text": [
      "\n",
      "Estadísticas actualizadas:\n",
      "- Videos procesados: 21/1673 (Quedan 1652)\n",
      "- Tiempo medio de procesamiento: 43.43 segundos\n",
      "- Duración media de los videos: 7.13 segundos\n",
      "- Tiempo estimado restante: 71738.84 segundos\n"
     ]
    },
    {
     "name": "stderr",
     "output_type": "stream",
     "text": [
      "Procesando val:   1%|▏         | 22/1673 [15:40<18:10:17, 39.62s/it]"
     ]
    },
    {
     "name": "stdout",
     "output_type": "stream",
     "text": [
      "\n",
      "Estadísticas actualizadas:\n",
      "- Videos procesados: 22/1673 (Quedan 1651)\n",
      "- Tiempo medio de procesamiento: 42.73 segundos\n",
      "- Duración media de los videos: 7.02 segundos\n",
      "- Tiempo estimado restante: 70552.87 segundos\n"
     ]
    },
    {
     "name": "stderr",
     "output_type": "stream",
     "text": [
      "Procesando val:   1%|▏         | 23/1673 [16:06<16:14:04, 35.42s/it]"
     ]
    },
    {
     "name": "stdout",
     "output_type": "stream",
     "text": [
      "\n",
      "Estadísticas actualizadas:\n",
      "- Videos procesados: 23/1673 (Quedan 1650)\n",
      "- Tiempo medio de procesamiento: 41.99 segundos\n",
      "- Duración media de los videos: 6.90 segundos\n",
      "- Tiempo estimado restante: 69282.16 segundos\n"
     ]
    },
    {
     "name": "stderr",
     "output_type": "stream",
     "text": [
      "Procesando val:   1%|▏         | 24/1673 [16:58<18:27:31, 40.30s/it]"
     ]
    },
    {
     "name": "stdout",
     "output_type": "stream",
     "text": [
      "\n",
      "Estadísticas actualizadas:\n",
      "- Videos procesados: 24/1673 (Quedan 1649)\n",
      "- Tiempo medio de procesamiento: 42.39 segundos\n",
      "- Duración media de los videos: 6.97 segundos\n",
      "- Tiempo estimado restante: 69905.49 segundos\n"
     ]
    },
    {
     "name": "stderr",
     "output_type": "stream",
     "text": [
      "Procesando val:   1%|▏         | 25/1673 [17:41<18:51:27, 41.19s/it]"
     ]
    },
    {
     "name": "stdout",
     "output_type": "stream",
     "text": [
      "\n",
      "Estadísticas actualizadas:\n",
      "- Videos procesados: 25/1673 (Quedan 1648)\n",
      "- Tiempo medio de procesamiento: 42.43 segundos\n",
      "- Duración media de los videos: 6.97 segundos\n",
      "- Tiempo estimado restante: 69921.91 segundos\n"
     ]
    },
    {
     "name": "stderr",
     "output_type": "stream",
     "text": [
      "Procesando val:   2%|▏         | 26/1673 [18:21<18:38:11, 40.74s/it]"
     ]
    },
    {
     "name": "stdout",
     "output_type": "stream",
     "text": [
      "\n",
      "Estadísticas actualizadas:\n",
      "- Videos procesados: 26/1673 (Quedan 1647)\n",
      "- Tiempo medio de procesamiento: 42.32 segundos\n",
      "- Duración media de los videos: 6.95 segundos\n",
      "- Tiempo estimado restante: 69704.31 segundos\n"
     ]
    },
    {
     "name": "stderr",
     "output_type": "stream",
     "text": [
      "Procesando val:   2%|▏         | 27/1673 [18:53<17:31:40, 38.34s/it]"
     ]
    },
    {
     "name": "stdout",
     "output_type": "stream",
     "text": [
      "\n",
      "Estadísticas actualizadas:\n",
      "- Videos procesados: 27/1673 (Quedan 1646)\n",
      "- Tiempo medio de procesamiento: 41.97 segundos\n",
      "- Duración media de los videos: 6.89 segundos\n",
      "- Tiempo estimado restante: 69077.51 segundos\n"
     ]
    },
    {
     "name": "stderr",
     "output_type": "stream",
     "text": [
      "Procesando val:   2%|▏         | 28/1673 [19:33<17:39:56, 38.66s/it]"
     ]
    },
    {
     "name": "stdout",
     "output_type": "stream",
     "text": [
      "\n",
      "Estadísticas actualizadas:\n",
      "- Videos procesados: 28/1673 (Quedan 1645)\n",
      "- Tiempo medio de procesamiento: 41.88 segundos\n",
      "- Duración media de los videos: 6.87 segundos\n",
      "- Tiempo estimado restante: 68885.74 segundos\n"
     ]
    },
    {
     "name": "stderr",
     "output_type": "stream",
     "text": [
      "Procesando val:   2%|▏         | 29/1673 [20:06<16:52:27, 36.95s/it]"
     ]
    },
    {
     "name": "stdout",
     "output_type": "stream",
     "text": [
      "\n",
      "Estadísticas actualizadas:\n",
      "- Videos procesados: 29/1673 (Quedan 1644)\n",
      "- Tiempo medio de procesamiento: 41.57 segundos\n",
      "- Duración media de los videos: 6.82 segundos\n",
      "- Tiempo estimado restante: 68338.61 segundos\n"
     ]
    },
    {
     "name": "stderr",
     "output_type": "stream",
     "text": [
      "Procesando val:   2%|▏         | 30/1673 [20:48<17:35:58, 38.56s/it]"
     ]
    },
    {
     "name": "stdout",
     "output_type": "stream",
     "text": [
      "\n",
      "Estadísticas actualizadas:\n",
      "- Videos procesados: 30/1673 (Quedan 1643)\n",
      "- Tiempo medio de procesamiento: 41.59 segundos\n",
      "- Duración media de los videos: 6.83 segundos\n",
      "- Tiempo estimado restante: 68338.27 segundos\n"
     ]
    },
    {
     "name": "stderr",
     "output_type": "stream",
     "text": [
      "Procesando val:   2%|▏         | 31/1673 [21:44<19:57:28, 43.76s/it]"
     ]
    },
    {
     "name": "stdout",
     "output_type": "stream",
     "text": [
      "\n",
      "Estadísticas actualizadas:\n",
      "- Videos procesados: 31/1673 (Quedan 1642)\n",
      "- Tiempo medio de procesamiento: 42.05 segundos\n",
      "- Duración media de los videos: 6.88 segundos\n",
      "- Tiempo estimado restante: 69053.13 segundos\n"
     ]
    },
    {
     "name": "stderr",
     "output_type": "stream",
     "text": [
      "Procesando val:   2%|▏         | 32/1673 [22:14<18:01:53, 39.56s/it]"
     ]
    },
    {
     "name": "stdout",
     "output_type": "stream",
     "text": [
      "\n",
      "Estadísticas actualizadas:\n",
      "- Videos procesados: 32/1673 (Quedan 1641)\n",
      "- Tiempo medio de procesamiento: 41.67 segundos\n",
      "- Duración media de los videos: 6.82 segundos\n",
      "- Tiempo estimado restante: 68380.53 segundos\n"
     ]
    },
    {
     "name": "stderr",
     "output_type": "stream",
     "text": [
      "Procesando val:   2%|▏         | 33/1673 [22:55<18:18:45, 40.20s/it]"
     ]
    },
    {
     "name": "stdout",
     "output_type": "stream",
     "text": [
      "\n",
      "Estadísticas actualizadas:\n",
      "- Videos procesados: 33/1673 (Quedan 1640)\n",
      "- Tiempo medio de procesamiento: 41.67 segundos\n",
      "- Duración media de los videos: 6.80 segundos\n",
      "- Tiempo estimado restante: 68339.98 segundos\n"
     ]
    },
    {
     "name": "stderr",
     "output_type": "stream",
     "text": [
      "Procesando val:   2%|▏         | 34/1673 [23:31<17:40:17, 38.81s/it]"
     ]
    },
    {
     "name": "stdout",
     "output_type": "stream",
     "text": [
      "\n",
      "Estadísticas actualizadas:\n",
      "- Videos procesados: 34/1673 (Quedan 1639)\n",
      "- Tiempo medio de procesamiento: 41.49 segundos\n",
      "- Duración media de los videos: 6.76 segundos\n",
      "- Tiempo estimado restante: 68004.94 segundos\n"
     ]
    },
    {
     "name": "stderr",
     "output_type": "stream",
     "text": [
      "Procesando val:   2%|▏         | 35/1673 [23:52<15:12:23, 33.42s/it]"
     ]
    },
    {
     "name": "stdout",
     "output_type": "stream",
     "text": [
      "\n",
      "Estadísticas actualizadas:\n",
      "- Videos procesados: 35/1673 (Quedan 1638)\n",
      "- Tiempo medio de procesamiento: 40.90 segundos\n",
      "- Duración media de los videos: 6.66 segundos\n",
      "- Tiempo estimado restante: 66996.64 segundos\n"
     ]
    },
    {
     "name": "stderr",
     "output_type": "stream",
     "text": [
      "Procesando val:   2%|▏         | 36/1673 [24:10<13:06:43, 28.84s/it]"
     ]
    },
    {
     "name": "stdout",
     "output_type": "stream",
     "text": [
      "\n",
      "Estadísticas actualizadas:\n",
      "- Videos procesados: 36/1673 (Quedan 1637)\n",
      "- Tiempo medio de procesamiento: 40.27 segundos\n",
      "- Duración media de los videos: 6.56 segundos\n",
      "- Tiempo estimado restante: 65920.46 segundos\n"
     ]
    },
    {
     "name": "stderr",
     "output_type": "stream",
     "text": [
      "Procesando val:   2%|▏         | 37/1673 [24:31<12:04:53, 26.59s/it]"
     ]
    },
    {
     "name": "stdout",
     "output_type": "stream",
     "text": [
      "\n",
      "Estadísticas actualizadas:\n",
      "- Videos procesados: 37/1673 (Quedan 1636)\n",
      "- Tiempo medio de procesamiento: 39.76 segundos\n",
      "- Duración media de los videos: 6.47 segundos\n",
      "- Tiempo estimado restante: 65042.97 segundos\n"
     ]
    },
    {
     "name": "stderr",
     "output_type": "stream",
     "text": [
      "Procesando val:   2%|▏         | 38/1673 [24:53<11:26:42, 25.20s/it]"
     ]
    },
    {
     "name": "stdout",
     "output_type": "stream",
     "text": [
      "\n",
      "Estadísticas actualizadas:\n",
      "- Videos procesados: 38/1673 (Quedan 1635)\n",
      "- Tiempo medio de procesamiento: 39.29 segundos\n",
      "- Duración media de los videos: 6.39 segundos\n",
      "- Tiempo estimado restante: 64237.82 segundos\n"
     ]
    },
    {
     "name": "stderr",
     "output_type": "stream",
     "text": [
      "Procesando val:   2%|▏         | 39/1673 [25:40<14:19:33, 31.56s/it]"
     ]
    },
    {
     "name": "stdout",
     "output_type": "stream",
     "text": [
      "\n",
      "Estadísticas actualizadas:\n",
      "- Videos procesados: 39/1673 (Quedan 1634)\n",
      "- Tiempo medio de procesamiento: 39.47 segundos\n",
      "- Duración media de los videos: 6.40 segundos\n",
      "- Tiempo estimado restante: 64496.72 segundos\n"
     ]
    },
    {
     "name": "stderr",
     "output_type": "stream",
     "text": [
      "Procesando val:   2%|▏         | 40/1673 [26:49<19:24:51, 42.80s/it]"
     ]
    },
    {
     "name": "stdout",
     "output_type": "stream",
     "text": [
      "\n",
      "Estadísticas actualizadas:\n",
      "- Videos procesados: 40/1673 (Quedan 1633)\n",
      "- Tiempo medio de procesamiento: 40.21 segundos\n",
      "- Duración media de los videos: 6.51 segundos\n",
      "- Tiempo estimado restante: 65663.38 segundos\n"
     ]
    },
    {
     "name": "stderr",
     "output_type": "stream",
     "text": [
      "Procesando val:   2%|▏         | 41/1673 [27:32<19:26:38, 42.89s/it]"
     ]
    },
    {
     "name": "stdout",
     "output_type": "stream",
     "text": [
      "\n",
      "Estadísticas actualizadas:\n",
      "- Videos procesados: 41/1673 (Quedan 1632)\n",
      "- Tiempo medio de procesamiento: 40.28 segundos\n",
      "- Duración media de los videos: 6.51 segundos\n",
      "- Tiempo estimado restante: 65738.37 segundos\n"
     ]
    },
    {
     "name": "stderr",
     "output_type": "stream",
     "text": [
      "Procesando val:   3%|▎         | 42/1673 [28:35<22:14:53, 49.11s/it]"
     ]
    },
    {
     "name": "stdout",
     "output_type": "stream",
     "text": [
      "\n",
      "Estadísticas actualizadas:\n",
      "- Videos procesados: 42/1673 (Quedan 1631)\n",
      "- Tiempo medio de procesamiento: 40.84 segundos\n",
      "- Duración media de los videos: 6.58 segundos\n",
      "- Tiempo estimado restante: 66603.97 segundos\n"
     ]
    },
    {
     "name": "stderr",
     "output_type": "stream",
     "text": [
      "Procesando val:   3%|▎         | 43/1673 [29:20<21:34:42, 47.66s/it]"
     ]
    },
    {
     "name": "stdout",
     "output_type": "stream",
     "text": [
      "\n",
      "Estadísticas actualizadas:\n",
      "- Videos procesados: 43/1673 (Quedan 1630)\n",
      "- Tiempo medio de procesamiento: 40.92 segundos\n",
      "- Duración media de los videos: 6.59 segundos\n",
      "- Tiempo estimado restante: 66693.48 segundos\n"
     ]
    },
    {
     "name": "stderr",
     "output_type": "stream",
     "text": [
      "Procesando val:   3%|▎         | 44/1673 [29:50<19:09:35, 42.34s/it]"
     ]
    },
    {
     "name": "stdout",
     "output_type": "stream",
     "text": [
      "\n",
      "Estadísticas actualizadas:\n",
      "- Videos procesados: 44/1673 (Quedan 1629)\n",
      "- Tiempo medio de procesamiento: 40.67 segundos\n",
      "- Duración media de los videos: 6.55 segundos\n",
      "- Tiempo estimado restante: 66246.20 segundos\n"
     ]
    },
    {
     "name": "stderr",
     "output_type": "stream",
     "text": [
      "Procesando val:   3%|▎         | 45/1673 [30:59<22:45:45, 50.33s/it]"
     ]
    },
    {
     "name": "stdout",
     "output_type": "stream",
     "text": [
      "\n",
      "Estadísticas actualizadas:\n",
      "- Videos procesados: 45/1673 (Quedan 1628)\n",
      "- Tiempo medio de procesamiento: 41.30 segundos\n",
      "- Duración media de los videos: 6.66 segundos\n",
      "- Tiempo estimado restante: 67229.93 segundos\n"
     ]
    },
    {
     "name": "stderr",
     "output_type": "stream",
     "text": [
      "Procesando val:   3%|▎         | 46/1673 [31:39<21:23:02, 47.32s/it]"
     ]
    },
    {
     "name": "stdout",
     "output_type": "stream",
     "text": [
      "\n",
      "Estadísticas actualizadas:\n",
      "- Videos procesados: 46/1673 (Quedan 1627)\n",
      "- Tiempo medio de procesamiento: 41.27 segundos\n",
      "- Duración media de los videos: 6.67 segundos\n",
      "- Tiempo estimado restante: 67152.34 segundos\n"
     ]
    },
    {
     "name": "stderr",
     "output_type": "stream",
     "text": [
      "Procesando val:   3%|▎         | 47/1673 [32:20<20:33:32, 45.52s/it]"
     ]
    },
    {
     "name": "stdout",
     "output_type": "stream",
     "text": [
      "\n",
      "Estadísticas actualizadas:\n",
      "- Videos procesados: 47/1673 (Quedan 1626)\n",
      "- Tiempo medio de procesamiento: 41.27 segundos\n",
      "- Duración media de los videos: 6.67 segundos\n",
      "- Tiempo estimado restante: 67112.75 segundos\n"
     ]
    },
    {
     "name": "stderr",
     "output_type": "stream",
     "text": [
      "Procesando val:   3%|▎         | 48/1673 [32:45<17:47:53, 39.43s/it]"
     ]
    },
    {
     "name": "stdout",
     "output_type": "stream",
     "text": [
      "\n",
      "Estadísticas actualizadas:\n",
      "- Videos procesados: 48/1673 (Quedan 1625)\n",
      "- Tiempo medio de procesamiento: 40.94 segundos\n",
      "- Duración media de los videos: 6.62 segundos\n",
      "- Tiempo estimado restante: 66528.03 segundos\n"
     ]
    },
    {
     "name": "stderr",
     "output_type": "stream",
     "text": [
      "Procesando val:   3%|▎         | 49/1673 [33:35<19:10:08, 42.49s/it]"
     ]
    },
    {
     "name": "stdout",
     "output_type": "stream",
     "text": [
      "\n",
      "Estadísticas actualizadas:\n",
      "- Videos procesados: 49/1673 (Quedan 1624)\n",
      "- Tiempo medio de procesamiento: 41.12 segundos\n",
      "- Duración media de los videos: 6.66 segundos\n",
      "- Tiempo estimado restante: 66775.42 segundos\n"
     ]
    },
    {
     "name": "stderr",
     "output_type": "stream",
     "text": [
      "Procesando val:   3%|▎         | 50/1673 [34:20<19:30:39, 43.28s/it]"
     ]
    },
    {
     "name": "stdout",
     "output_type": "stream",
     "text": [
      "\n",
      "Estadísticas actualizadas:\n",
      "- Videos procesados: 50/1673 (Quedan 1623)\n",
      "- Tiempo medio de procesamiento: 41.20 segundos\n",
      "- Duración media de los videos: 6.67 segundos\n",
      "- Tiempo estimado restante: 66863.79 segundos\n"
     ]
    },
    {
     "name": "stderr",
     "output_type": "stream",
     "text": [
      "Procesando val:   3%|▎         | 51/1673 [34:59<18:58:09, 42.10s/it]"
     ]
    },
    {
     "name": "stdout",
     "output_type": "stream",
     "text": [
      "\n",
      "Estadísticas actualizadas:\n",
      "- Videos procesados: 51/1673 (Quedan 1622)\n",
      "- Tiempo medio de procesamiento: 41.16 segundos\n",
      "- Duración media de los videos: 6.67 segundos\n",
      "- Tiempo estimado restante: 66764.10 segundos\n"
     ]
    },
    {
     "name": "stderr",
     "output_type": "stream",
     "text": [
      "Procesando val:   3%|▎         | 52/1673 [35:52<20:18:48, 45.11s/it]"
     ]
    },
    {
     "name": "stdout",
     "output_type": "stream",
     "text": [
      "\n",
      "Estadísticas actualizadas:\n",
      "- Videos procesados: 52/1673 (Quedan 1621)\n",
      "- Tiempo medio de procesamiento: 41.37 segundos\n",
      "- Duración media de los videos: 6.71 segundos\n",
      "- Tiempo estimado restante: 67065.06 segundos\n"
     ]
    },
    {
     "name": "stderr",
     "output_type": "stream",
     "text": [
      "Procesando val:   3%|▎         | 53/1673 [36:40<20:42:04, 46.00s/it]"
     ]
    },
    {
     "name": "stdout",
     "output_type": "stream",
     "text": [
      "\n",
      "Estadísticas actualizadas:\n",
      "- Videos procesados: 53/1673 (Quedan 1620)\n",
      "- Tiempo medio de procesamiento: 41.50 segundos\n",
      "- Duración media de los videos: 6.73 segundos\n",
      "- Tiempo estimado restante: 67228.59 segundos\n"
     ]
    },
    {
     "name": "stderr",
     "output_type": "stream",
     "text": [
      "Procesando val:   3%|▎         | 54/1673 [37:13<19:00:16, 42.26s/it]"
     ]
    },
    {
     "name": "stdout",
     "output_type": "stream",
     "text": [
      "\n",
      "Estadísticas actualizadas:\n",
      "- Videos procesados: 54/1673 (Quedan 1619)\n",
      "- Tiempo medio de procesamiento: 41.35 segundos\n",
      "- Duración media de los videos: 6.71 segundos\n",
      "- Tiempo estimado restante: 66947.86 segundos\n"
     ]
    },
    {
     "name": "stderr",
     "output_type": "stream",
     "text": [
      "Procesando val:   3%|▎         | 55/1673 [38:02<19:51:26, 44.18s/it]"
     ]
    },
    {
     "name": "stdout",
     "output_type": "stream",
     "text": [
      "\n",
      "Estadísticas actualizadas:\n",
      "- Videos procesados: 55/1673 (Quedan 1618)\n",
      "- Tiempo medio de procesamiento: 41.48 segundos\n",
      "- Duración media de los videos: 6.74 segundos\n",
      "- Tiempo estimado restante: 67121.76 segundos\n"
     ]
    },
    {
     "name": "stderr",
     "output_type": "stream",
     "text": [
      "Procesando val:   3%|▎         | 56/1673 [38:29<17:32:24, 39.05s/it]"
     ]
    },
    {
     "name": "stdout",
     "output_type": "stream",
     "text": [
      "\n",
      "Estadísticas actualizadas:\n",
      "- Videos procesados: 56/1673 (Quedan 1617)\n",
      "- Tiempo medio de procesamiento: 41.23 segundos\n",
      "- Duración media de los videos: 6.70 segundos\n",
      "- Tiempo estimado restante: 66664.21 segundos\n"
     ]
    },
    {
     "name": "stderr",
     "output_type": "stream",
     "text": [
      "Procesando val:   3%|▎         | 57/1673 [38:53<15:30:56, 34.56s/it]"
     ]
    },
    {
     "name": "stdout",
     "output_type": "stream",
     "text": [
      "\n",
      "Estadísticas actualizadas:\n",
      "- Videos procesados: 57/1673 (Quedan 1616)\n",
      "- Tiempo medio de procesamiento: 40.93 segundos\n",
      "- Duración media de los videos: 6.65 segundos\n",
      "- Tiempo estimado restante: 66137.34 segundos\n"
     ]
    },
    {
     "name": "stderr",
     "output_type": "stream",
     "text": [
      "Procesando val:   3%|▎         | 58/1673 [39:16<13:55:24, 31.04s/it]"
     ]
    },
    {
     "name": "stdout",
     "output_type": "stream",
     "text": [
      "\n",
      "Estadísticas actualizadas:\n",
      "- Videos procesados: 58/1673 (Quedan 1615)\n",
      "- Tiempo medio de procesamiento: 40.61 segundos\n",
      "- Duración media de los videos: 6.61 segundos\n",
      "- Tiempo estimado restante: 65591.74 segundos\n"
     ]
    },
    {
     "name": "stderr",
     "output_type": "stream",
     "text": [
      "Procesando val:   4%|▎         | 59/1673 [39:39<12:48:24, 28.57s/it]"
     ]
    },
    {
     "name": "stdout",
     "output_type": "stream",
     "text": [
      "\n",
      "Estadísticas actualizadas:\n",
      "- Videos procesados: 59/1673 (Quedan 1614)\n",
      "- Tiempo medio de procesamiento: 40.31 segundos\n",
      "- Duración media de los videos: 6.57 segundos\n",
      "- Tiempo estimado restante: 65063.76 segundos\n"
     ]
    },
    {
     "name": "stderr",
     "output_type": "stream",
     "text": [
      "Procesando val:   4%|▎         | 60/1673 [39:57<11:26:35, 25.54s/it]"
     ]
    },
    {
     "name": "stdout",
     "output_type": "stream",
     "text": [
      "\n",
      "Estadísticas actualizadas:\n",
      "- Videos procesados: 60/1673 (Quedan 1613)\n",
      "- Tiempo medio de procesamiento: 39.95 segundos\n",
      "- Duración media de los videos: 6.51 segundos\n",
      "- Tiempo estimado restante: 64436.52 segundos\n"
     ]
    },
    {
     "name": "stderr",
     "output_type": "stream",
     "text": [
      "Procesando val:   4%|▎         | 61/1673 [40:46<14:34:55, 32.57s/it]"
     ]
    },
    {
     "name": "stdout",
     "output_type": "stream",
     "text": [
      "\n",
      "Estadísticas actualizadas:\n",
      "- Videos procesados: 61/1673 (Quedan 1612)\n",
      "- Tiempo medio de procesamiento: 40.10 segundos\n",
      "- Duración media de los videos: 6.55 segundos\n",
      "- Tiempo estimado restante: 64634.66 segundos\n"
     ]
    },
    {
     "name": "stderr",
     "output_type": "stream",
     "text": [
      "Procesando val:   4%|▎         | 62/1673 [41:23<15:12:27, 33.98s/it]"
     ]
    },
    {
     "name": "stdout",
     "output_type": "stream",
     "text": [
      "\n",
      "Estadísticas actualizadas:\n",
      "- Videos procesados: 62/1673 (Quedan 1611)\n",
      "- Tiempo medio de procesamiento: 40.05 segundos\n",
      "- Duración media de los videos: 6.56 segundos\n",
      "- Tiempo estimado restante: 64521.64 segundos\n"
     ]
    },
    {
     "name": "stderr",
     "output_type": "stream",
     "text": [
      "Procesando val:   4%|▍         | 63/1673 [42:22<18:26:50, 41.25s/it]"
     ]
    },
    {
     "name": "stdout",
     "output_type": "stream",
     "text": [
      "\n",
      "Estadísticas actualizadas:\n",
      "- Videos procesados: 63/1673 (Quedan 1610)\n",
      "- Tiempo medio de procesamiento: 40.34 segundos\n",
      "- Duración media de los videos: 6.62 segundos\n",
      "- Tiempo estimado restante: 64945.41 segundos\n"
     ]
    },
    {
     "name": "stderr",
     "output_type": "stream",
     "text": [
      "Procesando val:   4%|▍         | 64/1673 [43:01<18:11:15, 40.69s/it]"
     ]
    },
    {
     "name": "stdout",
     "output_type": "stream",
     "text": [
      "\n",
      "Estadísticas actualizadas:\n",
      "- Videos procesados: 64/1673 (Quedan 1609)\n",
      "- Tiempo medio de procesamiento: 40.32 segundos\n",
      "- Duración media de los videos: 6.63 segundos\n",
      "- Tiempo estimado restante: 64881.36 segundos\n"
     ]
    },
    {
     "name": "stderr",
     "output_type": "stream",
     "text": [
      "Procesando val:   4%|▍         | 65/1673 [43:36<17:28:54, 39.14s/it]"
     ]
    },
    {
     "name": "stdout",
     "output_type": "stream",
     "text": [
      "\n",
      "Estadísticas actualizadas:\n",
      "- Videos procesados: 65/1673 (Quedan 1608)\n",
      "- Tiempo medio de procesamiento: 40.25 segundos\n",
      "- Duración media de los videos: 6.62 segundos\n",
      "- Tiempo estimado restante: 64721.94 segundos\n"
     ]
    },
    {
     "name": "stderr",
     "output_type": "stream",
     "text": [
      "Procesando val:   4%|▍         | 66/1673 [44:01<15:29:57, 34.72s/it]"
     ]
    },
    {
     "name": "stdout",
     "output_type": "stream",
     "text": [
      "\n",
      "Estadísticas actualizadas:\n",
      "- Videos procesados: 66/1673 (Quedan 1607)\n",
      "- Tiempo medio de procesamiento: 40.01 segundos\n",
      "- Duración media de los videos: 6.59 segundos\n",
      "- Tiempo estimado restante: 64296.14 segundos\n"
     ]
    },
    {
     "name": "stderr",
     "output_type": "stream",
     "text": [
      "Procesando val:   4%|▍         | 67/1673 [44:19<13:18:48, 29.84s/it]"
     ]
    },
    {
     "name": "stdout",
     "output_type": "stream",
     "text": [
      "\n",
      "Estadísticas actualizadas:\n",
      "- Videos procesados: 67/1673 (Quedan 1606)\n",
      "- Tiempo medio de procesamiento: 39.69 segundos\n",
      "- Duración media de los videos: 6.54 segundos\n",
      "- Tiempo estimado restante: 63739.56 segundos\n"
     ]
    },
    {
     "name": "stderr",
     "output_type": "stream",
     "text": [
      "Procesando val:   4%|▍         | 68/1673 [44:49<13:12:59, 29.64s/it]"
     ]
    },
    {
     "name": "stdout",
     "output_type": "stream",
     "text": [
      "\n",
      "Estadísticas actualizadas:\n",
      "- Videos procesados: 68/1673 (Quedan 1605)\n",
      "- Tiempo medio de procesamiento: 39.53 segundos\n",
      "- Duración media de los videos: 6.52 segundos\n",
      "- Tiempo estimado restante: 63451.82 segundos\n"
     ]
    },
    {
     "name": "stderr",
     "output_type": "stream",
     "text": [
      "Procesando val:   4%|▍         | 69/1673 [45:41<16:13:28, 36.41s/it]"
     ]
    },
    {
     "name": "stdout",
     "output_type": "stream",
     "text": [
      "\n",
      "Estadísticas actualizadas:\n",
      "- Videos procesados: 69/1673 (Quedan 1604)\n",
      "- Tiempo medio de procesamiento: 39.72 segundos\n",
      "- Duración media de los videos: 6.56 segundos\n",
      "- Tiempo estimado restante: 63706.93 segundos\n"
     ]
    },
    {
     "name": "stderr",
     "output_type": "stream",
     "text": [
      "Procesando val:   4%|▍         | 70/1673 [46:05<14:36:03, 32.79s/it]"
     ]
    },
    {
     "name": "stdout",
     "output_type": "stream",
     "text": [
      "\n",
      "Estadísticas actualizadas:\n",
      "- Videos procesados: 70/1673 (Quedan 1603)\n",
      "- Tiempo medio de procesamiento: 39.50 segundos\n",
      "- Duración media de los videos: 6.53 segundos\n",
      "- Tiempo estimado restante: 63314.94 segundos\n"
     ]
    },
    {
     "name": "stderr",
     "output_type": "stream",
     "text": [
      "Procesando val:   4%|▍         | 71/1673 [46:28<13:19:06, 29.93s/it]"
     ]
    },
    {
     "name": "stdout",
     "output_type": "stream",
     "text": [
      "\n",
      "Estadísticas actualizadas:\n",
      "- Videos procesados: 71/1673 (Quedan 1602)\n",
      "- Tiempo medio de procesamiento: 39.27 segundos\n",
      "- Duración media de los videos: 6.50 segundos\n",
      "- Tiempo estimado restante: 62908.84 segundos\n"
     ]
    },
    {
     "name": "stderr",
     "output_type": "stream",
     "text": [
      "Procesando val:   4%|▍         | 72/1673 [46:46<11:37:29, 26.14s/it]"
     ]
    },
    {
     "name": "stdout",
     "output_type": "stream",
     "text": [
      "\n",
      "Estadísticas actualizadas:\n",
      "- Videos procesados: 72/1673 (Quedan 1601)\n",
      "- Tiempo medio de procesamiento: 38.96 segundos\n",
      "- Duración media de los videos: 6.45 segundos\n",
      "- Tiempo estimado restante: 62380.96 segundos\n"
     ]
    },
    {
     "name": "stderr",
     "output_type": "stream",
     "text": [
      "Procesando val:   4%|▍         | 73/1673 [47:16<12:13:03, 27.49s/it]"
     ]
    },
    {
     "name": "stdout",
     "output_type": "stream",
     "text": [
      "\n",
      "Estadísticas actualizadas:\n",
      "- Videos procesados: 73/1673 (Quedan 1600)\n",
      "- Tiempo medio de procesamiento: 38.85 segundos\n",
      "- Duración media de los videos: 6.44 segundos\n",
      "- Tiempo estimado restante: 62159.54 segundos\n"
     ]
    },
    {
     "name": "stderr",
     "output_type": "stream",
     "text": [
      "Procesando val:   4%|▍         | 74/1673 [47:54<13:38:25, 30.71s/it]"
     ]
    },
    {
     "name": "stdout",
     "output_type": "stream",
     "text": [
      "\n",
      "Estadísticas actualizadas:\n",
      "- Videos procesados: 74/1673 (Quedan 1599)\n",
      "- Tiempo medio de procesamiento: 38.84 segundos\n",
      "- Duración media de los videos: 6.45 segundos\n",
      "- Tiempo estimado restante: 62107.15 segundos\n"
     ]
    },
    {
     "name": "stderr",
     "output_type": "stream",
     "text": [
      "Procesando val:   4%|▍         | 75/1673 [48:19<12:45:55, 28.76s/it]"
     ]
    },
    {
     "name": "stdout",
     "output_type": "stream",
     "text": [
      "\n",
      "Estadísticas actualizadas:\n",
      "- Videos procesados: 75/1673 (Quedan 1598)\n",
      "- Tiempo medio de procesamiento: 38.65 segundos\n",
      "- Duración media de los videos: 6.42 segundos\n",
      "- Tiempo estimado restante: 61756.39 segundos\n"
     ]
    },
    {
     "name": "stderr",
     "output_type": "stream",
     "text": [
      "Procesando val:   5%|▍         | 76/1673 [49:00<14:28:46, 32.64s/it]"
     ]
    },
    {
     "name": "stdout",
     "output_type": "stream",
     "text": [
      "\n",
      "Estadísticas actualizadas:\n",
      "- Videos procesados: 76/1673 (Quedan 1597)\n",
      "- Tiempo medio de procesamiento: 38.69 segundos\n",
      "- Duración media de los videos: 6.44 segundos\n",
      "- Tiempo estimado restante: 61781.84 segundos\n"
     ]
    },
    {
     "name": "stderr",
     "output_type": "stream",
     "text": [
      "Procesando val:   5%|▍         | 77/1673 [49:28<13:50:20, 31.22s/it]"
     ]
    },
    {
     "name": "stdout",
     "output_type": "stream",
     "text": [
      "\n",
      "Estadísticas actualizadas:\n",
      "- Videos procesados: 77/1673 (Quedan 1596)\n",
      "- Tiempo medio de procesamiento: 38.55 segundos\n",
      "- Duración media de los videos: 6.42 segundos\n",
      "- Tiempo estimado restante: 61519.41 segundos\n"
     ]
    },
    {
     "name": "stderr",
     "output_type": "stream",
     "text": [
      "Procesando val:   5%|▍         | 78/1673 [49:52<12:46:19, 28.83s/it]"
     ]
    },
    {
     "name": "stdout",
     "output_type": "stream",
     "text": [
      "\n",
      "Estadísticas actualizadas:\n",
      "- Videos procesados: 78/1673 (Quedan 1595)\n",
      "- Tiempo medio de procesamiento: 38.35 segundos\n",
      "- Duración media de los videos: 6.39 segundos\n",
      "- Tiempo estimado restante: 61168.12 segundos\n"
     ]
    },
    {
     "name": "stderr",
     "output_type": "stream",
     "text": [
      "Procesando val:   5%|▍         | 79/1673 [50:16<12:11:04, 27.52s/it]"
     ]
    },
    {
     "name": "stdout",
     "output_type": "stream",
     "text": [
      "\n",
      "Estadísticas actualizadas:\n",
      "- Videos procesados: 79/1673 (Quedan 1594)\n",
      "- Tiempo medio de procesamiento: 38.17 segundos\n",
      "- Duración media de los videos: 6.37 segundos\n",
      "- Tiempo estimado restante: 60849.61 segundos\n"
     ]
    },
    {
     "name": "stderr",
     "output_type": "stream",
     "text": [
      "Procesando val:   5%|▍         | 80/1673 [50:51<13:11:36, 29.82s/it]"
     ]
    },
    {
     "name": "stdout",
     "output_type": "stream",
     "text": [
      "\n",
      "Estadísticas actualizadas:\n",
      "- Videos procesados: 80/1673 (Quedan 1593)\n",
      "- Tiempo medio de procesamiento: 38.14 segundos\n",
      "- Duración media de los videos: 6.37 segundos\n",
      "- Tiempo estimado restante: 60751.69 segundos\n"
     ]
    },
    {
     "name": "stderr",
     "output_type": "stream",
     "text": [
      "Procesando val:   5%|▍         | 81/1673 [51:25<13:42:40, 31.01s/it]"
     ]
    },
    {
     "name": "stdout",
     "output_type": "stream",
     "text": [
      "\n",
      "Estadísticas actualizadas:\n",
      "- Videos procesados: 81/1673 (Quedan 1592)\n",
      "- Tiempo medio de procesamiento: 38.08 segundos\n",
      "- Duración media de los videos: 6.36 segundos\n",
      "- Tiempo estimado restante: 60627.92 segundos\n"
     ]
    },
    {
     "name": "stderr",
     "output_type": "stream",
     "text": [
      "Procesando val:   5%|▍         | 82/1673 [51:52<13:13:40, 29.93s/it]"
     ]
    },
    {
     "name": "stdout",
     "output_type": "stream",
     "text": [
      "\n",
      "Estadísticas actualizadas:\n",
      "- Videos procesados: 82/1673 (Quedan 1591)\n",
      "- Tiempo medio de procesamiento: 37.95 segundos\n",
      "- Duración media de los videos: 6.34 segundos\n",
      "- Tiempo estimado restante: 60383.03 segundos\n"
     ]
    },
    {
     "name": "stderr",
     "output_type": "stream",
     "text": [
      "Procesando val:   5%|▍         | 83/1673 [52:03<10:38:14, 24.08s/it]"
     ]
    },
    {
     "name": "stdout",
     "output_type": "stream",
     "text": [
      "\n",
      "Estadísticas actualizadas:\n",
      "- Videos procesados: 83/1673 (Quedan 1590)\n",
      "- Tiempo medio de procesamiento: 37.62 segundos\n",
      "- Duración media de los videos: 6.29 segundos\n",
      "- Tiempo estimado restante: 59818.06 segundos\n"
     ]
    },
    {
     "name": "stderr",
     "output_type": "stream",
     "text": [
      "Procesando val:   5%|▌         | 84/1673 [52:21<9:54:57, 22.47s/it] "
     ]
    },
    {
     "name": "stdout",
     "output_type": "stream",
     "text": [
      "\n",
      "Estadísticas actualizadas:\n",
      "- Videos procesados: 84/1673 (Quedan 1589)\n",
      "- Tiempo medio de procesamiento: 37.40 segundos\n",
      "- Duración media de los videos: 6.26 segundos\n",
      "- Tiempo estimado restante: 59422.25 segundos\n"
     ]
    },
    {
     "name": "stderr",
     "output_type": "stream",
     "text": [
      "Procesando val:   5%|▌         | 85/1673 [52:35<8:44:16, 19.81s/it]"
     ]
    },
    {
     "name": "stdout",
     "output_type": "stream",
     "text": [
      "\n",
      "Estadísticas actualizadas:\n",
      "- Videos procesados: 85/1673 (Quedan 1588)\n",
      "- Tiempo medio de procesamiento: 37.12 segundos\n",
      "- Duración media de los videos: 6.21 segundos\n",
      "- Tiempo estimado restante: 58940.48 segundos\n"
     ]
    },
    {
     "name": "stderr",
     "output_type": "stream",
     "text": [
      "Procesando val:   5%|▌         | 86/1673 [53:04<9:56:42, 22.56s/it]"
     ]
    },
    {
     "name": "stdout",
     "output_type": "stream",
     "text": [
      "\n",
      "Estadísticas actualizadas:\n",
      "- Videos procesados: 86/1673 (Quedan 1587)\n",
      "- Tiempo medio de procesamiento: 37.02 segundos\n",
      "- Duración media de los videos: 6.20 segundos\n",
      "- Tiempo estimado restante: 58753.17 segundos\n"
     ]
    },
    {
     "name": "stderr",
     "output_type": "stream",
     "text": [
      "Procesando val:   5%|▌         | 87/1673 [53:31<10:27:37, 23.74s/it]"
     ]
    },
    {
     "name": "stdout",
     "output_type": "stream",
     "text": [
      "\n",
      "Estadísticas actualizadas:\n",
      "- Videos procesados: 87/1673 (Quedan 1586)\n",
      "- Tiempo medio de procesamiento: 36.90 segundos\n",
      "- Duración media de los videos: 6.18 segundos\n",
      "- Tiempo estimado restante: 58524.45 segundos\n"
     ]
    },
    {
     "name": "stderr",
     "output_type": "stream",
     "text": [
      "Procesando val:   5%|▌         | 88/1673 [54:30<15:11:36, 34.51s/it]"
     ]
    },
    {
     "name": "stdout",
     "output_type": "stream",
     "text": [
      "\n",
      "Estadísticas actualizadas:\n",
      "- Videos procesados: 88/1673 (Quedan 1585)\n",
      "- Tiempo medio de procesamiento: 37.16 segundos\n",
      "- Duración media de los videos: 6.24 segundos\n",
      "- Tiempo estimado restante: 58896.86 segundos\n"
     ]
    },
    {
     "name": "stderr",
     "output_type": "stream",
     "text": [
      "Procesando val:   5%|▌         | 89/1673 [56:06<23:17:54, 52.95s/it]"
     ]
    },
    {
     "name": "stdout",
     "output_type": "stream",
     "text": [
      "\n",
      "Estadísticas actualizadas:\n",
      "- Videos procesados: 89/1673 (Quedan 1584)\n",
      "- Tiempo medio de procesamiento: 37.82 segundos\n",
      "- Duración media de los videos: 6.36 segundos\n",
      "- Tiempo estimado restante: 59906.58 segundos\n"
     ]
    },
    {
     "name": "stderr",
     "output_type": "stream",
     "text": [
      "Procesando val:   5%|▌         | 90/1673 [57:36<28:11:41, 64.12s/it]"
     ]
    },
    {
     "name": "stdout",
     "output_type": "stream",
     "text": [
      "\n",
      "Estadísticas actualizadas:\n",
      "- Videos procesados: 90/1673 (Quedan 1583)\n",
      "- Tiempo medio de procesamiento: 38.40 segundos\n",
      "- Duración media de los videos: 6.47 segundos\n",
      "- Tiempo estimado restante: 60789.67 segundos\n"
     ]
    },
    {
     "name": "stderr",
     "output_type": "stream",
     "text": [
      "Procesando val:   5%|▌         | 91/1673 [58:08<23:56:05, 54.47s/it]"
     ]
    },
    {
     "name": "stdout",
     "output_type": "stream",
     "text": [
      "\n",
      "Estadísticas actualizadas:\n",
      "- Videos procesados: 91/1673 (Quedan 1582)\n",
      "- Tiempo medio de procesamiento: 38.33 segundos\n",
      "- Duración media de los videos: 6.46 segundos\n",
      "- Tiempo estimado restante: 60638.94 segundos\n"
     ]
    },
    {
     "name": "stderr",
     "output_type": "stream",
     "text": [
      "Procesando val:   5%|▌         | 92/1673 [58:59<23:26:01, 53.36s/it]"
     ]
    },
    {
     "name": "stdout",
     "output_type": "stream",
     "text": [
      "\n",
      "Estadísticas actualizadas:\n",
      "- Videos procesados: 92/1673 (Quedan 1581)\n",
      "- Tiempo medio de procesamiento: 38.47 segundos\n",
      "- Duración media de los videos: 6.49 segundos\n",
      "- Tiempo estimado restante: 60814.52 segundos\n"
     ]
    },
    {
     "name": "stderr",
     "output_type": "stream",
     "text": [
      "Procesando val:   6%|▌         | 93/1673 [1:00:18<26:46:14, 61.00s/it]"
     ]
    },
    {
     "name": "stdout",
     "output_type": "stream",
     "text": [
      "\n",
      "Estadísticas actualizadas:\n",
      "- Videos procesados: 93/1673 (Quedan 1580)\n",
      "- Tiempo medio de procesamiento: 38.90 segundos\n",
      "- Duración media de los videos: 6.58 segundos\n",
      "- Tiempo estimado restante: 61461.53 segundos\n"
     ]
    },
    {
     "name": "stderr",
     "output_type": "stream",
     "text": [
      "Procesando val:   6%|▌         | 94/1673 [1:01:51<30:57:05, 70.57s/it]"
     ]
    },
    {
     "name": "stdout",
     "output_type": "stream",
     "text": [
      "\n",
      "Estadísticas actualizadas:\n",
      "- Videos procesados: 94/1673 (Quedan 1579)\n",
      "- Tiempo medio de procesamiento: 39.47 segundos\n",
      "- Duración media de los videos: 6.67 segundos\n",
      "- Tiempo estimado restante: 62329.70 segundos\n"
     ]
    },
    {
     "name": "stderr",
     "output_type": "stream",
     "text": [
      "Procesando val:   6%|▌         | 95/1673 [1:02:51<29:37:55, 67.60s/it]"
     ]
    },
    {
     "name": "stdout",
     "output_type": "stream",
     "text": [
      "\n",
      "Estadísticas actualizadas:\n",
      "- Videos procesados: 95/1673 (Quedan 1578)\n",
      "- Tiempo medio de procesamiento: 39.70 segundos\n",
      "- Duración media de los videos: 6.71 segundos\n",
      "- Tiempo estimado restante: 62642.49 segundos\n"
     ]
    },
    {
     "name": "stderr",
     "output_type": "stream",
     "text": [
      "Procesando val:   6%|▌         | 96/1673 [1:03:52<28:43:41, 65.58s/it]"
     ]
    },
    {
     "name": "stdout",
     "output_type": "stream",
     "text": [
      "\n",
      "Estadísticas actualizadas:\n",
      "- Videos procesados: 96/1673 (Quedan 1577)\n",
      "- Tiempo medio de procesamiento: 39.92 segundos\n",
      "- Duración media de los videos: 6.74 segundos\n",
      "- Tiempo estimado restante: 62950.50 segundos\n"
     ]
    },
    {
     "name": "stderr",
     "output_type": "stream",
     "text": [
      "Procesando val:   6%|▌         | 97/1673 [1:04:21<23:48:05, 54.37s/it]"
     ]
    },
    {
     "name": "stdout",
     "output_type": "stream",
     "text": [
      "\n",
      "Estadísticas actualizadas:\n",
      "- Videos procesados: 97/1673 (Quedan 1576)\n",
      "- Tiempo medio de procesamiento: 39.80 segundos\n",
      "- Duración media de los videos: 6.72 segundos\n",
      "- Tiempo estimado restante: 62720.27 segundos\n"
     ]
    },
    {
     "name": "stderr",
     "output_type": "stream",
     "text": [
      "Procesando val:   6%|▌         | 98/1673 [1:04:43<19:32:59, 44.69s/it]"
     ]
    },
    {
     "name": "stdout",
     "output_type": "stream",
     "text": [
      "\n",
      "Estadísticas actualizadas:\n",
      "- Videos procesados: 98/1673 (Quedan 1575)\n",
      "- Tiempo medio de procesamiento: 39.62 segundos\n",
      "- Duración media de los videos: 6.69 segundos\n",
      "- Tiempo estimado restante: 62395.88 segundos\n"
     ]
    },
    {
     "name": "stderr",
     "output_type": "stream",
     "text": [
      "Procesando val:   6%|▌         | 99/1673 [1:05:08<17:00:08, 38.89s/it]"
     ]
    },
    {
     "name": "stdout",
     "output_type": "stream",
     "text": [
      "\n",
      "Estadísticas actualizadas:\n",
      "- Videos procesados: 99/1673 (Quedan 1574)\n",
      "- Tiempo medio de procesamiento: 39.47 segundos\n",
      "- Duración media de los videos: 6.66 segundos\n",
      "- Tiempo estimado restante: 62129.58 segundos\n"
     ]
    },
    {
     "name": "stderr",
     "output_type": "stream",
     "text": [
      "Procesando val:   6%|▌         | 100/1673 [1:05:34<15:16:27, 34.96s/it]"
     ]
    },
    {
     "name": "stdout",
     "output_type": "stream",
     "text": [
      "\n",
      "Estadísticas actualizadas:\n",
      "- Videos procesados: 100/1673 (Quedan 1573)\n",
      "- Tiempo medio de procesamiento: 39.34 segundos\n",
      "- Duración media de los videos: 6.62 segundos\n",
      "- Tiempo estimado restante: 61874.80 segundos\n"
     ]
    },
    {
     "name": "stderr",
     "output_type": "stream",
     "text": [
      "Procesando val:   6%|▌         | 101/1673 [1:05:53<13:08:04, 30.08s/it]"
     ]
    },
    {
     "name": "stdout",
     "output_type": "stream",
     "text": [
      "\n",
      "Estadísticas actualizadas:\n",
      "- Videos procesados: 101/1673 (Quedan 1572)\n",
      "- Tiempo medio de procesamiento: 39.13 segundos\n",
      "- Duración media de los videos: 6.58 segundos\n",
      "- Tiempo estimado restante: 61514.24 segundos\n"
     ]
    },
    {
     "name": "stderr",
     "output_type": "stream",
     "text": [
      "Procesando val:   6%|▌         | 102/1673 [1:06:13<11:55:31, 27.33s/it]"
     ]
    },
    {
     "name": "stdout",
     "output_type": "stream",
     "text": [
      "\n",
      "Estadísticas actualizadas:\n",
      "- Videos procesados: 102/1673 (Quedan 1571)\n",
      "- Tiempo medio de procesamiento: 38.95 segundos\n",
      "- Duración media de los videos: 6.55 segundos\n",
      "- Tiempo estimado restante: 61194.40 segundos\n"
     ]
    },
    {
     "name": "stderr",
     "output_type": "stream",
     "text": [
      "Procesando val:   6%|▌         | 103/1673 [1:06:32<10:45:18, 24.66s/it]"
     ]
    },
    {
     "name": "stdout",
     "output_type": "stream",
     "text": [
      "\n",
      "Estadísticas actualizadas:\n",
      "- Videos procesados: 103/1673 (Quedan 1570)\n",
      "- Tiempo medio de procesamiento: 38.75 segundos\n",
      "- Duración media de los videos: 6.51 segundos\n",
      "- Tiempo estimado restante: 60842.76 segundos\n"
     ]
    },
    {
     "name": "stderr",
     "output_type": "stream",
     "text": [
      "Procesando val:   6%|▌         | 104/1673 [1:06:57<10:46:34, 24.73s/it]"
     ]
    },
    {
     "name": "stdout",
     "output_type": "stream",
     "text": [
      "\n",
      "Estadísticas actualizadas:\n",
      "- Videos procesados: 104/1673 (Quedan 1569)\n",
      "- Tiempo medio de procesamiento: 38.62 segundos\n",
      "- Duración media de los videos: 6.48 segundos\n",
      "- Tiempo estimado restante: 60594.60 segundos\n"
     ]
    },
    {
     "name": "stderr",
     "output_type": "stream",
     "text": [
      "Procesando val:   6%|▋         | 105/1673 [1:07:20<10:33:30, 24.24s/it]"
     ]
    },
    {
     "name": "stdout",
     "output_type": "stream",
     "text": [
      "\n",
      "Estadísticas actualizadas:\n",
      "- Videos procesados: 105/1673 (Quedan 1568)\n",
      "- Tiempo medio de procesamiento: 38.47 segundos\n",
      "- Duración media de los videos: 6.45 segundos\n",
      "- Tiempo estimado restante: 60324.37 segundos\n"
     ]
    },
    {
     "name": "stderr",
     "output_type": "stream",
     "text": [
      "Procesando val:   6%|▋         | 106/1673 [1:07:37<9:40:11, 22.22s/it] "
     ]
    },
    {
     "name": "stdout",
     "output_type": "stream",
     "text": [
      "\n",
      "Estadísticas actualizadas:\n",
      "- Videos procesados: 106/1673 (Quedan 1567)\n",
      "- Tiempo medio de procesamiento: 38.27 segundos\n",
      "- Duración media de los videos: 6.41 segundos\n",
      "- Tiempo estimado restante: 59975.67 segundos\n"
     ]
    },
    {
     "name": "stderr",
     "output_type": "stream",
     "text": [
      "Procesando val:   6%|▋         | 107/1673 [1:07:58<9:29:36, 21.82s/it]"
     ]
    },
    {
     "name": "stdout",
     "output_type": "stream",
     "text": [
      "\n",
      "Estadísticas actualizadas:\n",
      "- Videos procesados: 107/1673 (Quedan 1566)\n",
      "- Tiempo medio de procesamiento: 38.11 segundos\n",
      "- Duración media de los videos: 6.38 segundos\n",
      "- Tiempo estimado restante: 59683.24 segundos\n"
     ]
    },
    {
     "name": "stderr",
     "output_type": "stream",
     "text": [
      "Procesando val:   6%|▋         | 108/1673 [1:08:23<9:55:57, 22.85s/it]"
     ]
    },
    {
     "name": "stdout",
     "output_type": "stream",
     "text": [
      "\n",
      "Estadísticas actualizadas:\n",
      "- Videos procesados: 108/1673 (Quedan 1565)\n",
      "- Tiempo medio de procesamiento: 37.99 segundos\n",
      "- Duración media de los videos: 6.35 segundos\n",
      "- Tiempo estimado restante: 59458.54 segundos\n"
     ]
    },
    {
     "name": "stderr",
     "output_type": "stream",
     "text": [
      "Procesando val:   7%|▋         | 109/1673 [1:08:48<10:08:36, 23.35s/it]"
     ]
    },
    {
     "name": "stdout",
     "output_type": "stream",
     "text": [
      "\n",
      "Estadísticas actualizadas:\n",
      "- Videos procesados: 109/1673 (Quedan 1564)\n",
      "- Tiempo medio de procesamiento: 37.87 segundos\n",
      "- Duración media de los videos: 6.32 segundos\n",
      "- Tiempo estimado restante: 59227.16 segundos\n"
     ]
    },
    {
     "name": "stderr",
     "output_type": "stream",
     "text": [
      "Procesando val:   7%|▋         | 110/1673 [1:09:05<9:21:47, 21.57s/it] "
     ]
    },
    {
     "name": "stdout",
     "output_type": "stream",
     "text": [
      "\n",
      "Estadísticas actualizadas:\n",
      "- Videos procesados: 110/1673 (Quedan 1563)\n",
      "- Tiempo medio de procesamiento: 37.68 segundos\n",
      "- Duración media de los videos: 6.29 segundos\n",
      "- Tiempo estimado restante: 58898.53 segundos\n"
     ]
    },
    {
     "name": "stderr",
     "output_type": "stream",
     "text": [
      "Procesando val:   7%|▋         | 111/1673 [1:09:38<10:46:01, 24.82s/it]"
     ]
    },
    {
     "name": "stdout",
     "output_type": "stream",
     "text": [
      "\n",
      "Estadísticas actualizadas:\n",
      "- Videos procesados: 111/1673 (Quedan 1562)\n",
      "- Tiempo medio de procesamiento: 37.64 segundos\n",
      "- Duración media de los videos: 6.27 segundos\n",
      "- Tiempo estimado restante: 58786.43 segundos\n"
     ]
    },
    {
     "name": "stderr",
     "output_type": "stream",
     "text": [
      "Procesando val:   7%|▋         | 112/1673 [1:09:57<10:03:40, 23.20s/it]"
     ]
    },
    {
     "name": "stdout",
     "output_type": "stream",
     "text": [
      "\n",
      "Estadísticas actualizadas:\n",
      "- Videos procesados: 112/1673 (Quedan 1561)\n",
      "- Tiempo medio de procesamiento: 37.47 segundos\n",
      "- Duración media de los videos: 6.24 segundos\n",
      "- Tiempo estimado restante: 58495.21 segundos\n"
     ]
    },
    {
     "name": "stderr",
     "output_type": "stream",
     "text": [
      "Procesando val:   7%|▋         | 113/1673 [1:10:20<9:58:52, 23.03s/it] "
     ]
    },
    {
     "name": "stdout",
     "output_type": "stream",
     "text": [
      "\n",
      "Estadísticas actualizadas:\n",
      "- Videos procesados: 113/1673 (Quedan 1560)\n",
      "- Tiempo medio de procesamiento: 37.34 segundos\n",
      "- Duración media de los videos: 6.21 segundos\n",
      "- Tiempo estimado restante: 58252.93 segundos\n"
     ]
    },
    {
     "name": "stderr",
     "output_type": "stream",
     "text": [
      "Procesando val:   7%|▋         | 114/1673 [1:10:41<9:40:36, 22.35s/it]"
     ]
    },
    {
     "name": "stdout",
     "output_type": "stream",
     "text": [
      "\n",
      "Estadísticas actualizadas:\n",
      "- Videos procesados: 114/1673 (Quedan 1559)\n",
      "- Tiempo medio de procesamiento: 37.20 segundos\n",
      "- Duración media de los videos: 6.18 segundos\n",
      "- Tiempo estimado restante: 57988.52 segundos\n"
     ]
    },
    {
     "name": "stderr",
     "output_type": "stream",
     "text": [
      "Procesando val:   7%|▋         | 115/1673 [1:11:01<9:25:21, 21.77s/it]"
     ]
    },
    {
     "name": "stdout",
     "output_type": "stream",
     "text": [
      "\n",
      "Estadísticas actualizadas:\n",
      "- Videos procesados: 115/1673 (Quedan 1558)\n",
      "- Tiempo medio de procesamiento: 37.05 segundos\n",
      "- Duración media de los videos: 6.16 segundos\n",
      "- Tiempo estimado restante: 57724.26 segundos\n"
     ]
    },
    {
     "name": "stderr",
     "output_type": "stream",
     "text": [
      "Procesando val:   7%|▋         | 116/1673 [1:11:24<9:37:33, 22.26s/it]"
     ]
    },
    {
     "name": "stdout",
     "output_type": "stream",
     "text": [
      "\n",
      "Estadísticas actualizadas:\n",
      "- Videos procesados: 116/1673 (Quedan 1557)\n",
      "- Tiempo medio de procesamiento: 36.93 segundos\n",
      "- Duración media de los videos: 6.13 segundos\n",
      "- Tiempo estimado restante: 57503.76 segundos\n"
     ]
    },
    {
     "name": "stderr",
     "output_type": "stream",
     "text": [
      "Procesando val:   7%|▋         | 117/1673 [1:11:44<9:12:25, 21.30s/it]"
     ]
    },
    {
     "name": "stdout",
     "output_type": "stream",
     "text": [
      "\n",
      "Estadísticas actualizadas:\n",
      "- Videos procesados: 117/1673 (Quedan 1556)\n",
      "- Tiempo medio de procesamiento: 36.78 segundos\n",
      "- Duración media de los videos: 6.10 segundos\n",
      "- Tiempo estimado restante: 57229.30 segundos\n"
     ]
    },
    {
     "name": "stderr",
     "output_type": "stream",
     "text": [
      "Procesando val:   7%|▋         | 118/1673 [1:12:00<8:36:08, 19.92s/it]"
     ]
    },
    {
     "name": "stdout",
     "output_type": "stream",
     "text": [
      "\n",
      "Estadísticas actualizadas:\n",
      "- Videos procesados: 118/1673 (Quedan 1555)\n",
      "- Tiempo medio de procesamiento: 36.61 segundos\n",
      "- Duración media de los videos: 6.07 segundos\n",
      "- Tiempo estimado restante: 56927.64 segundos\n"
     ]
    },
    {
     "name": "stderr",
     "output_type": "stream",
     "text": [
      "Procesando val:   7%|▋         | 119/1673 [1:12:13<7:41:07, 17.80s/it]"
     ]
    },
    {
     "name": "stdout",
     "output_type": "stream",
     "text": [
      "\n",
      "Estadísticas actualizadas:\n",
      "- Videos procesados: 119/1673 (Quedan 1554)\n",
      "- Tiempo medio de procesamiento: 36.41 segundos\n",
      "- Duración media de los videos: 6.04 segundos\n",
      "- Tiempo estimado restante: 56581.11 segundos\n"
     ]
    },
    {
     "name": "stderr",
     "output_type": "stream",
     "text": [
      "Procesando val:   7%|▋         | 120/1673 [1:12:29<7:24:47, 17.18s/it]"
     ]
    },
    {
     "name": "stdout",
     "output_type": "stream",
     "text": [
      "\n",
      "Estadísticas actualizadas:\n",
      "- Videos procesados: 120/1673 (Quedan 1553)\n",
      "- Tiempo medio de procesamiento: 36.24 segundos\n",
      "- Duración media de los videos: 6.01 segundos\n",
      "- Tiempo estimado restante: 56277.16 segundos\n"
     ]
    },
    {
     "name": "stderr",
     "output_type": "stream",
     "text": [
      "Procesando val:   7%|▋         | 121/1673 [1:12:45<7:17:44, 16.92s/it]"
     ]
    },
    {
     "name": "stdout",
     "output_type": "stream",
     "text": [
      "\n",
      "Estadísticas actualizadas:\n",
      "- Videos procesados: 121/1673 (Quedan 1552)\n",
      "- Tiempo medio de procesamiento: 36.07 segundos\n",
      "- Duración media de los videos: 5.98 segundos\n",
      "- Tiempo estimado restante: 55985.33 segundos\n"
     ]
    },
    {
     "name": "stderr",
     "output_type": "stream",
     "text": [
      "Procesando val:   7%|▋         | 122/1673 [1:13:05<7:37:37, 17.70s/it]"
     ]
    },
    {
     "name": "stdout",
     "output_type": "stream",
     "text": [
      "\n",
      "Estadísticas actualizadas:\n",
      "- Videos procesados: 122/1673 (Quedan 1551)\n",
      "- Tiempo medio de procesamiento: 35.94 segundos\n",
      "- Duración media de los videos: 5.96 segundos\n",
      "- Tiempo estimado restante: 55738.85 segundos\n"
     ]
    },
    {
     "name": "stderr",
     "output_type": "stream",
     "text": [
      "Procesando val:   7%|▋         | 123/1673 [1:13:23<7:46:01, 18.04s/it]"
     ]
    },
    {
     "name": "stdout",
     "output_type": "stream",
     "text": [
      "\n",
      "Estadísticas actualizadas:\n",
      "- Videos procesados: 123/1673 (Quedan 1550)\n",
      "- Tiempo medio de procesamiento: 35.80 segundos\n",
      "- Duración media de los videos: 5.94 segundos\n",
      "- Tiempo estimado restante: 55487.26 segundos\n"
     ]
    },
    {
     "name": "stderr",
     "output_type": "stream",
     "text": [
      "Procesando val:   7%|▋         | 124/1673 [1:13:41<7:39:57, 17.82s/it]"
     ]
    },
    {
     "name": "stdout",
     "output_type": "stream",
     "text": [
      "\n",
      "Estadísticas actualizadas:\n",
      "- Videos procesados: 124/1673 (Quedan 1549)\n",
      "- Tiempo medio de procesamiento: 35.65 segundos\n",
      "- Duración media de los videos: 5.92 segundos\n",
      "- Tiempo estimado restante: 55220.31 segundos\n"
     ]
    },
    {
     "name": "stderr",
     "output_type": "stream",
     "text": [
      "Procesando val:   7%|▋         | 125/1673 [1:13:58<7:35:07, 17.64s/it]"
     ]
    },
    {
     "name": "stdout",
     "output_type": "stream",
     "text": [
      "\n",
      "Estadísticas actualizadas:\n",
      "- Videos procesados: 125/1673 (Quedan 1548)\n",
      "- Tiempo medio de procesamiento: 35.50 segundos\n",
      "- Duración media de los videos: 5.89 segundos\n",
      "- Tiempo estimado restante: 54956.55 segundos\n"
     ]
    },
    {
     "name": "stderr",
     "output_type": "stream",
     "text": [
      "Procesando val:   8%|▊         | 126/1673 [1:14:15<7:33:22, 17.58s/it]"
     ]
    },
    {
     "name": "stdout",
     "output_type": "stream",
     "text": [
      "\n",
      "Estadísticas actualizadas:\n",
      "- Videos procesados: 126/1673 (Quedan 1547)\n",
      "- Tiempo medio de procesamiento: 35.36 segundos\n",
      "- Duración media de los videos: 5.87 segundos\n",
      "- Tiempo estimado restante: 54699.44 segundos\n"
     ]
    },
    {
     "name": "stderr",
     "output_type": "stream",
     "text": [
      "Procesando val:   8%|▊         | 127/1673 [1:14:31<7:15:57, 16.92s/it]"
     ]
    },
    {
     "name": "stdout",
     "output_type": "stream",
     "text": [
      "\n",
      "Estadísticas actualizadas:\n",
      "- Videos procesados: 127/1673 (Quedan 1546)\n",
      "- Tiempo medio de procesamiento: 35.20 segundos\n",
      "- Duración media de los videos: 5.85 segundos\n",
      "- Tiempo estimado restante: 54420.71 segundos\n"
     ]
    },
    {
     "name": "stderr",
     "output_type": "stream",
     "text": [
      "Procesando val:   8%|▊         | 128/1673 [1:14:45<6:53:22, 16.05s/it]"
     ]
    },
    {
     "name": "stdout",
     "output_type": "stream",
     "text": [
      "\n",
      "Estadísticas actualizadas:\n",
      "- Videos procesados: 128/1673 (Quedan 1545)\n",
      "- Tiempo medio de procesamiento: 35.04 segundos\n",
      "- Duración media de los videos: 5.82 segundos\n",
      "- Tiempo estimado restante: 54130.00 segundos\n"
     ]
    },
    {
     "name": "stderr",
     "output_type": "stream",
     "text": [
      "Procesando val:   8%|▊         | 129/1673 [1:15:02<6:57:53, 16.24s/it]"
     ]
    },
    {
     "name": "stdout",
     "output_type": "stream",
     "text": [
      "\n",
      "Estadísticas actualizadas:\n",
      "- Videos procesados: 129/1673 (Quedan 1544)\n",
      "- Tiempo medio de procesamiento: 34.89 segundos\n",
      "- Duración media de los videos: 5.79 segundos\n",
      "- Tiempo estimado restante: 53875.14 segundos\n"
     ]
    },
    {
     "name": "stderr",
     "output_type": "stream",
     "text": [
      "Procesando val:   8%|▊         | 130/1673 [1:15:43<10:13:37, 23.86s/it]"
     ]
    },
    {
     "name": "stdout",
     "output_type": "stream",
     "text": [
      "\n",
      "Estadísticas actualizadas:\n",
      "- Videos procesados: 130/1673 (Quedan 1543)\n",
      "- Tiempo medio de procesamiento: 34.95 segundos\n",
      "- Duración media de los videos: 5.80 segundos\n",
      "- Tiempo estimado restante: 53920.39 segundos\n"
     ]
    },
    {
     "name": "stderr",
     "output_type": "stream",
     "text": [
      "Procesando val:   8%|▊         | 131/1673 [1:16:21<11:57:18, 27.91s/it]"
     ]
    },
    {
     "name": "stdout",
     "output_type": "stream",
     "text": [
      "\n",
      "Estadísticas actualizadas:\n",
      "- Videos procesados: 131/1673 (Quedan 1542)\n",
      "- Tiempo medio de procesamiento: 34.96 segundos\n",
      "- Duración media de los videos: 5.79 segundos\n",
      "- Tiempo estimado restante: 53913.85 segundos\n"
     ]
    },
    {
     "name": "stderr",
     "output_type": "stream",
     "text": [
      "Procesando val:   8%|▊         | 132/1673 [1:16:40<10:53:17, 25.44s/it]"
     ]
    },
    {
     "name": "stdout",
     "output_type": "stream",
     "text": [
      "\n",
      "Estadísticas actualizadas:\n",
      "- Videos procesados: 132/1673 (Quedan 1541)\n",
      "- Tiempo medio de procesamiento: 34.85 segundos\n",
      "- Duración media de los videos: 5.77 segundos\n",
      "- Tiempo estimado restante: 53700.25 segundos\n"
     ]
    },
    {
     "name": "stderr",
     "output_type": "stream",
     "text": [
      "Procesando val:   8%|▊         | 133/1673 [1:17:06<10:57:26, 25.61s/it]"
     ]
    },
    {
     "name": "stdout",
     "output_type": "stream",
     "text": [
      "\n",
      "Estadísticas actualizadas:\n",
      "- Videos procesados: 133/1673 (Quedan 1540)\n",
      "- Tiempo medio de procesamiento: 34.78 segundos\n",
      "- Duración media de los videos: 5.75 segundos\n",
      "- Tiempo estimado restante: 53563.31 segundos\n"
     ]
    },
    {
     "name": "stderr",
     "output_type": "stream",
     "text": [
      "Procesando val:   8%|▊         | 134/1673 [1:17:26<10:08:43, 23.73s/it]"
     ]
    },
    {
     "name": "stdout",
     "output_type": "stream",
     "text": [
      "\n",
      "Estadísticas actualizadas:\n",
      "- Videos procesados: 134/1673 (Quedan 1539)\n",
      "- Tiempo medio de procesamiento: 34.67 segundos\n",
      "- Duración media de los videos: 5.73 segundos\n",
      "- Tiempo estimado restante: 53351.16 segundos\n"
     ]
    },
    {
     "name": "stderr",
     "output_type": "stream",
     "text": [
      "Procesando val:   8%|▊         | 135/1673 [1:18:00<11:29:05, 26.88s/it]"
     ]
    },
    {
     "name": "stdout",
     "output_type": "stream",
     "text": [
      "\n",
      "Estadísticas actualizadas:\n",
      "- Videos procesados: 135/1673 (Quedan 1538)\n",
      "- Tiempo medio de procesamiento: 34.66 segundos\n",
      "- Duración media de los videos: 5.72 segundos\n",
      "- Tiempo estimado restante: 53311.57 segundos\n"
     ]
    },
    {
     "name": "stderr",
     "output_type": "stream",
     "text": [
      "Procesando val:   8%|▊         | 136/1673 [1:18:28<11:41:20, 27.38s/it]"
     ]
    },
    {
     "name": "stdout",
     "output_type": "stream",
     "text": [
      "\n",
      "Estadísticas actualizadas:\n",
      "- Videos procesados: 136/1673 (Quedan 1537)\n",
      "- Tiempo medio de procesamiento: 34.62 segundos\n",
      "- Duración media de los videos: 5.70 segundos\n",
      "- Tiempo estimado restante: 53207.63 segundos\n"
     ]
    },
    {
     "name": "stderr",
     "output_type": "stream",
     "text": [
      "Procesando val:   8%|▊         | 137/1673 [1:18:50<10:59:31, 25.76s/it]"
     ]
    },
    {
     "name": "stdout",
     "output_type": "stream",
     "text": [
      "\n",
      "Estadísticas actualizadas:\n",
      "- Videos procesados: 137/1673 (Quedan 1536)\n",
      "- Tiempo medio de procesamiento: 34.53 segundos\n",
      "- Duración media de los videos: 5.68 segundos\n",
      "- Tiempo estimado restante: 53031.45 segundos\n"
     ]
    },
    {
     "name": "stderr",
     "output_type": "stream",
     "text": [
      "Procesando val:   8%|▊         | 138/1673 [1:19:10<10:13:46, 23.99s/it]"
     ]
    },
    {
     "name": "stdout",
     "output_type": "stream",
     "text": [
      "\n",
      "Estadísticas actualizadas:\n",
      "- Videos procesados: 138/1673 (Quedan 1535)\n",
      "- Tiempo medio de procesamiento: 34.42 segundos\n",
      "- Duración media de los videos: 5.66 segundos\n",
      "- Tiempo estimado restante: 52833.74 segundos\n"
     ]
    },
    {
     "name": "stderr",
     "output_type": "stream",
     "text": [
      "Procesando val:   8%|▊         | 139/1673 [1:19:38<10:39:16, 25.00s/it]"
     ]
    },
    {
     "name": "stdout",
     "output_type": "stream",
     "text": [
      "\n",
      "Estadísticas actualizadas:\n",
      "- Videos procesados: 139/1673 (Quedan 1534)\n",
      "- Tiempo medio de procesamiento: 34.37 segundos\n",
      "- Duración media de los videos: 5.65 segundos\n",
      "- Tiempo estimado restante: 52721.48 segundos\n"
     ]
    },
    {
     "name": "stderr",
     "output_type": "stream",
     "text": [
      "Procesando val:   8%|▊         | 140/1673 [1:19:55<9:41:17, 22.75s/it] "
     ]
    },
    {
     "name": "stdout",
     "output_type": "stream",
     "text": [
      "\n",
      "Estadísticas actualizadas:\n",
      "- Videos procesados: 140/1673 (Quedan 1533)\n",
      "- Tiempo medio de procesamiento: 34.25 segundos\n",
      "- Duración media de los videos: 5.63 segundos\n",
      "- Tiempo estimado restante: 52502.33 segundos\n"
     ]
    },
    {
     "name": "stderr",
     "output_type": "stream",
     "text": [
      "Procesando val:   8%|▊         | 141/1673 [1:21:09<16:09:53, 37.99s/it]"
     ]
    },
    {
     "name": "stdout",
     "output_type": "stream",
     "text": [
      "\n",
      "Estadísticas actualizadas:\n",
      "- Videos procesados: 141/1673 (Quedan 1532)\n",
      "- Tiempo medio de procesamiento: 34.53 segundos\n",
      "- Duración media de los videos: 5.67 segundos\n",
      "- Tiempo estimado restante: 52894.88 segundos\n"
     ]
    },
    {
     "name": "stderr",
     "output_type": "stream",
     "text": [
      "Procesando val:   8%|▊         | 142/1673 [1:21:31<14:09:32, 33.29s/it]"
     ]
    },
    {
     "name": "stdout",
     "output_type": "stream",
     "text": [
      "\n",
      "Estadísticas actualizadas:\n",
      "- Videos procesados: 142/1673 (Quedan 1531)\n",
      "- Tiempo medio de procesamiento: 34.44 segundos\n",
      "- Duración media de los videos: 5.65 segundos\n",
      "- Tiempo estimado restante: 52729.02 segundos\n"
     ]
    },
    {
     "name": "stderr",
     "output_type": "stream",
     "text": [
      "Procesando val:   9%|▊         | 143/1673 [1:23:23<24:13:23, 57.00s/it]"
     ]
    },
    {
     "name": "stdout",
     "output_type": "stream",
     "text": [
      "\n",
      "Estadísticas actualizadas:\n",
      "- Videos procesados: 143/1673 (Quedan 1530)\n",
      "- Tiempo medio de procesamiento: 34.99 segundos\n",
      "- Duración media de los videos: 5.73 segundos\n",
      "- Tiempo estimado restante: 53527.61 segundos\n"
     ]
    },
    {
     "name": "stderr",
     "output_type": "stream",
     "text": [
      "Procesando val:   9%|▊         | 144/1673 [1:23:50<20:24:58, 48.07s/it]"
     ]
    },
    {
     "name": "stdout",
     "output_type": "stream",
     "text": [
      "\n",
      "Estadísticas actualizadas:\n",
      "- Videos procesados: 144/1673 (Quedan 1529)\n",
      "- Tiempo medio de procesamiento: 34.93 segundos\n",
      "- Duración media de los videos: 5.72 segundos\n",
      "- Tiempo estimado restante: 53410.41 segundos\n"
     ]
    },
    {
     "name": "stderr",
     "output_type": "stream",
     "text": [
      "Procesando val:   9%|▊         | 145/1673 [1:24:12<17:02:09, 40.14s/it]"
     ]
    },
    {
     "name": "stdout",
     "output_type": "stream",
     "text": [
      "\n",
      "Estadísticas actualizadas:\n",
      "- Videos procesados: 145/1673 (Quedan 1528)\n",
      "- Tiempo medio de procesamiento: 34.84 segundos\n",
      "- Duración media de los videos: 5.70 segundos\n",
      "- Tiempo estimado restante: 53235.26 segundos\n"
     ]
    },
    {
     "name": "stderr",
     "output_type": "stream",
     "text": [
      "Procesando val:   9%|▊         | 146/1673 [1:24:30<14:12:41, 33.50s/it]"
     ]
    },
    {
     "name": "stdout",
     "output_type": "stream",
     "text": [
      "\n",
      "Estadísticas actualizadas:\n",
      "- Videos procesados: 146/1673 (Quedan 1527)\n",
      "- Tiempo medio de procesamiento: 34.72 segundos\n",
      "- Duración media de los videos: 5.68 segundos\n",
      "- Tiempo estimado restante: 53024.59 segundos\n"
     ]
    },
    {
     "name": "stderr",
     "output_type": "stream",
     "text": [
      "Procesando val:   9%|▉         | 147/1673 [1:24:51<12:33:04, 29.61s/it]"
     ]
    },
    {
     "name": "stdout",
     "output_type": "stream",
     "text": [
      "\n",
      "Estadísticas actualizadas:\n",
      "- Videos procesados: 147/1673 (Quedan 1526)\n",
      "- Tiempo medio de procesamiento: 34.63 segundos\n",
      "- Duración media de los videos: 5.66 segundos\n",
      "- Tiempo estimado restante: 52842.39 segundos\n"
     ]
    },
    {
     "name": "stderr",
     "output_type": "stream",
     "text": [
      "Procesando val:   9%|▉         | 148/1673 [1:25:20<12:29:40, 29.50s/it]"
     ]
    },
    {
     "name": "stdout",
     "output_type": "stream",
     "text": [
      "\n",
      "Estadísticas actualizadas:\n",
      "- Videos procesados: 148/1673 (Quedan 1525)\n",
      "- Tiempo medio de procesamiento: 34.59 segundos\n",
      "- Duración media de los videos: 5.65 segundos\n",
      "- Tiempo estimado restante: 52752.13 segundos\n"
     ]
    },
    {
     "name": "stderr",
     "output_type": "stream",
     "text": [
      "Procesando val:   9%|▉         | 149/1673 [1:26:00<13:52:49, 32.79s/it]"
     ]
    },
    {
     "name": "stdout",
     "output_type": "stream",
     "text": [
      "\n",
      "Estadísticas actualizadas:\n",
      "- Videos procesados: 149/1673 (Quedan 1524)\n",
      "- Tiempo medio de procesamiento: 34.63 segundos\n",
      "- Duración media de los videos: 5.65 segundos\n",
      "- Tiempo estimado restante: 52777.66 segundos\n"
     ]
    },
    {
     "name": "stderr",
     "output_type": "stream",
     "text": [
      "Procesando val:   9%|▉         | 150/1673 [1:26:26<12:59:36, 30.71s/it]"
     ]
    },
    {
     "name": "stdout",
     "output_type": "stream",
     "text": [
      "\n",
      "Estadísticas actualizadas:\n",
      "- Videos procesados: 150/1673 (Quedan 1523)\n",
      "- Tiempo medio de procesamiento: 34.57 segundos\n",
      "- Duración media de los videos: 5.63 segundos\n",
      "- Tiempo estimado restante: 52654.07 segundos\n"
     ]
    },
    {
     "name": "stderr",
     "output_type": "stream",
     "text": [
      "Procesando val:   9%|▉         | 151/1673 [1:26:39<10:44:07, 25.39s/it]"
     ]
    },
    {
     "name": "stdout",
     "output_type": "stream",
     "text": [
      "\n",
      "Estadísticas actualizadas:\n",
      "- Videos procesados: 151/1673 (Quedan 1522)\n",
      "- Tiempo medio de procesamiento: 34.43 segundos\n",
      "- Duración media de los videos: 5.61 segundos\n",
      "- Tiempo estimado restante: 52401.82 segundos\n"
     ]
    },
    {
     "name": "stderr",
     "output_type": "stream",
     "text": [
      "Procesando val:   9%|▉         | 152/1673 [1:26:52<9:08:59, 21.66s/it] "
     ]
    },
    {
     "name": "stdout",
     "output_type": "stream",
     "text": [
      "\n",
      "Estadísticas actualizadas:\n",
      "- Videos procesados: 152/1673 (Quedan 1521)\n",
      "- Tiempo medio de procesamiento: 34.29 segundos\n",
      "- Duración media de los videos: 5.59 segundos\n",
      "- Tiempo estimado restante: 52152.33 segundos\n"
     ]
    },
    {
     "name": "stderr",
     "output_type": "stream",
     "text": [
      "Procesando val:   9%|▉         | 153/1673 [1:27:12<8:57:05, 21.20s/it]"
     ]
    },
    {
     "name": "stdout",
     "output_type": "stream",
     "text": [
      "\n",
      "Estadísticas actualizadas:\n",
      "- Videos procesados: 153/1673 (Quedan 1520)\n",
      "- Tiempo medio de procesamiento: 34.20 segundos\n",
      "- Duración media de los videos: 5.58 segundos\n",
      "- Tiempo estimado restante: 51977.44 segundos\n"
     ]
    },
    {
     "name": "stderr",
     "output_type": "stream",
     "text": [
      "Procesando val:   9%|▉         | 154/1673 [1:27:23<7:36:47, 18.04s/it]"
     ]
    },
    {
     "name": "stdout",
     "output_type": "stream",
     "text": [
      "\n",
      "Estadísticas actualizadas:\n",
      "- Videos procesados: 154/1673 (Quedan 1519)\n",
      "- Tiempo medio de procesamiento: 34.04 segundos\n",
      "- Duración media de los videos: 5.55 segundos\n",
      "- Tiempo estimado restante: 51711.23 segundos\n"
     ]
    },
    {
     "name": "stderr",
     "output_type": "stream",
     "text": [
      "Procesando val:   9%|▉         | 155/1673 [1:27:42<7:44:21, 18.35s/it]"
     ]
    },
    {
     "name": "stdout",
     "output_type": "stream",
     "text": [
      "\n",
      "Estadísticas actualizadas:\n",
      "- Videos procesados: 155/1673 (Quedan 1518)\n",
      "- Tiempo medio de procesamiento: 33.95 segundos\n",
      "- Duración media de los videos: 5.54 segundos\n",
      "- Tiempo estimado restante: 51530.63 segundos\n"
     ]
    },
    {
     "name": "stderr",
     "output_type": "stream",
     "text": [
      "Procesando val:   9%|▉         | 156/1673 [1:27:58<7:28:47, 17.75s/it]"
     ]
    },
    {
     "name": "stdout",
     "output_type": "stream",
     "text": [
      "\n",
      "Estadísticas actualizadas:\n",
      "- Videos procesados: 156/1673 (Quedan 1517)\n",
      "- Tiempo medio de procesamiento: 33.83 segundos\n",
      "- Duración media de los videos: 5.52 segundos\n",
      "- Tiempo estimado restante: 51325.48 segundos\n"
     ]
    },
    {
     "name": "stderr",
     "output_type": "stream",
     "text": [
      "Procesando val:   9%|▉         | 157/1673 [1:28:15<7:17:24, 17.31s/it]"
     ]
    },
    {
     "name": "stdout",
     "output_type": "stream",
     "text": [
      "\n",
      "Estadísticas actualizadas:\n",
      "- Videos procesados: 157/1673 (Quedan 1516)\n",
      "- Tiempo medio de procesamiento: 33.72 segundos\n",
      "- Duración media de los videos: 5.50 segundos\n",
      "- Tiempo estimado restante: 51122.20 segundos\n"
     ]
    },
    {
     "name": "stderr",
     "output_type": "stream",
     "text": [
      "Procesando val:   9%|▉         | 158/1673 [1:28:30<7:05:18, 16.84s/it]"
     ]
    },
    {
     "name": "stdout",
     "output_type": "stream",
     "text": [
      "\n",
      "Estadísticas actualizadas:\n",
      "- Videos procesados: 158/1673 (Quedan 1515)\n",
      "- Tiempo medio de procesamiento: 33.61 segundos\n",
      "- Duración media de los videos: 5.49 segundos\n",
      "- Tiempo estimado restante: 50916.18 segundos\n"
     ]
    },
    {
     "name": "stderr",
     "output_type": "stream",
     "text": [
      "Procesando val:  10%|▉         | 159/1673 [1:28:45<6:46:23, 16.11s/it]"
     ]
    },
    {
     "name": "stdout",
     "output_type": "stream",
     "text": [
      "\n",
      "Estadísticas actualizadas:\n",
      "- Videos procesados: 159/1673 (Quedan 1514)\n",
      "- Tiempo medio de procesamiento: 33.49 segundos\n",
      "- Duración media de los videos: 5.47 segundos\n",
      "- Tiempo estimado restante: 50699.47 segundos\n"
     ]
    },
    {
     "name": "stderr",
     "output_type": "stream",
     "text": [
      "Procesando val:  10%|▉         | 160/1673 [1:29:00<6:35:37, 15.69s/it]"
     ]
    },
    {
     "name": "stdout",
     "output_type": "stream",
     "text": [
      "\n",
      "Estadísticas actualizadas:\n",
      "- Videos procesados: 160/1673 (Quedan 1513)\n",
      "- Tiempo medio de procesamiento: 33.37 segundos\n",
      "- Duración media de los videos: 5.45 segundos\n",
      "- Tiempo estimado restante: 50488.48 segundos\n"
     ]
    },
    {
     "name": "stderr",
     "output_type": "stream",
     "text": [
      "Procesando val:  10%|▉         | 161/1673 [1:29:16<6:38:42, 15.82s/it]"
     ]
    },
    {
     "name": "stdout",
     "output_type": "stream",
     "text": [
      "\n",
      "Estadísticas actualizadas:\n",
      "- Videos procesados: 161/1673 (Quedan 1512)\n",
      "- Tiempo medio de procesamiento: 33.26 segundos\n",
      "- Duración media de los videos: 5.43 segundos\n",
      "- Tiempo estimado restante: 50293.21 segundos\n"
     ]
    },
    {
     "name": "stderr",
     "output_type": "stream",
     "text": [
      "Procesando val:  10%|▉         | 162/1673 [1:29:31<6:35:29, 15.70s/it]"
     ]
    },
    {
     "name": "stdout",
     "output_type": "stream",
     "text": [
      "\n",
      "Estadísticas actualizadas:\n",
      "- Videos procesados: 162/1673 (Quedan 1511)\n",
      "- Tiempo medio de procesamiento: 33.15 segundos\n",
      "- Duración media de los videos: 5.42 segundos\n",
      "- Tiempo estimado restante: 50093.61 segundos\n"
     ]
    },
    {
     "name": "stderr",
     "output_type": "stream",
     "text": [
      "Procesando val:  10%|▉         | 163/1673 [1:29:45<6:24:51, 15.29s/it]"
     ]
    },
    {
     "name": "stdout",
     "output_type": "stream",
     "text": [
      "\n",
      "Estadísticas actualizadas:\n",
      "- Videos procesados: 163/1673 (Quedan 1510)\n",
      "- Tiempo medio de procesamiento: 33.04 segundos\n",
      "- Duración media de los videos: 5.40 segundos\n",
      "- Tiempo estimado restante: 49886.09 segundos\n"
     ]
    },
    {
     "name": "stderr",
     "output_type": "stream",
     "text": [
      "Procesando val:  10%|▉         | 164/1673 [1:30:04<6:51:03, 16.34s/it]"
     ]
    },
    {
     "name": "stdout",
     "output_type": "stream",
     "text": [
      "\n",
      "Estadísticas actualizadas:\n",
      "- Videos procesados: 164/1673 (Quedan 1509)\n",
      "- Tiempo medio de procesamiento: 32.95 segundos\n",
      "- Duración media de los videos: 5.39 segundos\n",
      "- Tiempo estimado restante: 49722.03 segundos\n"
     ]
    },
    {
     "name": "stderr",
     "output_type": "stream",
     "text": [
      "Procesando val:  10%|▉         | 165/1673 [1:30:27<7:35:59, 18.14s/it]"
     ]
    },
    {
     "name": "stdout",
     "output_type": "stream",
     "text": [
      "\n",
      "Estadísticas actualizadas:\n",
      "- Videos procesados: 165/1673 (Quedan 1508)\n",
      "- Tiempo medio de procesamiento: 32.89 segundos\n",
      "- Duración media de los videos: 5.38 segundos\n",
      "- Tiempo estimado restante: 49592.09 segundos\n"
     ]
    },
    {
     "name": "stderr",
     "output_type": "stream",
     "text": [
      "Procesando val:  10%|▉         | 166/1673 [1:30:53<8:35:19, 20.52s/it]"
     ]
    },
    {
     "name": "stdout",
     "output_type": "stream",
     "text": [
      "\n",
      "Estadísticas actualizadas:\n",
      "- Videos procesados: 166/1673 (Quedan 1507)\n",
      "- Tiempo medio de procesamiento: 32.84 segundos\n",
      "- Duración media de los videos: 5.37 segundos\n",
      "- Tiempo estimado restante: 49497.18 segundos\n"
     ]
    },
    {
     "name": "stderr",
     "output_type": "stream",
     "text": [
      "Procesando val:  10%|▉         | 167/1673 [1:31:13<8:36:21, 20.57s/it]"
     ]
    },
    {
     "name": "stdout",
     "output_type": "stream",
     "text": [
      "\n",
      "Estadísticas actualizadas:\n",
      "- Videos procesados: 167/1673 (Quedan 1506)\n",
      "- Tiempo medio de procesamiento: 32.77 segundos\n",
      "- Duración media de los videos: 5.36 segundos\n",
      "- Tiempo estimado restante: 49354.81 segundos\n"
     ]
    },
    {
     "name": "stderr",
     "output_type": "stream",
     "text": [
      "Procesando val:  10%|█         | 168/1673 [1:31:32<8:23:53, 20.09s/it]"
     ]
    },
    {
     "name": "stdout",
     "output_type": "stream",
     "text": [
      "\n",
      "Estadísticas actualizadas:\n",
      "- Videos procesados: 168/1673 (Quedan 1505)\n",
      "- Tiempo medio de procesamiento: 32.69 segundos\n",
      "- Duración media de los videos: 5.34 segundos\n",
      "- Tiempo estimado restante: 49198.30 segundos\n"
     ]
    },
    {
     "name": "stderr",
     "output_type": "stream",
     "text": [
      "Procesando val:  10%|█         | 169/1673 [1:31:57<8:58:05, 21.47s/it]"
     ]
    },
    {
     "name": "stdout",
     "output_type": "stream",
     "text": [
      "\n",
      "Estadísticas actualizadas:\n",
      "- Videos procesados: 169/1673 (Quedan 1504)\n",
      "- Tiempo medio de procesamiento: 32.64 segundos\n",
      "- Duración media de los videos: 5.33 segundos\n",
      "- Tiempo estimado restante: 49094.34 segundos\n"
     ]
    },
    {
     "name": "stderr",
     "output_type": "stream",
     "text": [
      "Procesando val:  10%|█         | 170/1673 [1:32:31<10:33:44, 25.30s/it]"
     ]
    },
    {
     "name": "stdout",
     "output_type": "stream",
     "text": [
      "\n",
      "Estadísticas actualizadas:\n",
      "- Videos procesados: 170/1673 (Quedan 1503)\n",
      "- Tiempo medio de procesamiento: 32.65 segundos\n",
      "- Duración media de los videos: 5.34 segundos\n",
      "- Tiempo estimado restante: 49075.82 segundos\n"
     ]
    },
    {
     "name": "stderr",
     "output_type": "stream",
     "text": [
      "Procesando val:  10%|█         | 171/1673 [1:33:12<12:27:12, 29.85s/it]"
     ]
    },
    {
     "name": "stdout",
     "output_type": "stream",
     "text": [
      "\n",
      "Estadísticas actualizadas:\n",
      "- Videos procesados: 171/1673 (Quedan 1502)\n",
      "- Tiempo medio de procesamiento: 32.70 segundos\n",
      "- Duración media de los videos: 5.34 segundos\n",
      "- Tiempo estimado restante: 49111.77 segundos\n"
     ]
    },
    {
     "name": "stderr",
     "output_type": "stream",
     "text": [
      "Procesando val:  10%|█         | 172/1673 [1:33:44<12:45:13, 30.59s/it]"
     ]
    },
    {
     "name": "stdout",
     "output_type": "stream",
     "text": [
      "\n",
      "Estadísticas actualizadas:\n",
      "- Videos procesados: 172/1673 (Quedan 1501)\n",
      "- Tiempo medio de procesamiento: 32.70 segundos\n",
      "- Duración media de los videos: 5.34 segundos\n",
      "- Tiempo estimado restante: 49075.73 segundos\n"
     ]
    },
    {
     "name": "stderr",
     "output_type": "stream",
     "text": [
      "Procesando val:  10%|█         | 173/1673 [1:34:00<10:53:16, 26.13s/it]"
     ]
    },
    {
     "name": "stdout",
     "output_type": "stream",
     "text": [
      "\n",
      "Estadísticas actualizadas:\n",
      "- Videos procesados: 173/1673 (Quedan 1500)\n",
      "- Tiempo medio de procesamiento: 32.60 segundos\n",
      "- Duración media de los videos: 5.33 segundos\n",
      "- Tiempo estimado restante: 48895.93 segundos\n"
     ]
    },
    {
     "name": "stderr",
     "output_type": "stream",
     "text": [
      "Procesando val:  10%|█         | 174/1673 [1:34:15<9:29:32, 22.80s/it] "
     ]
    },
    {
     "name": "stdout",
     "output_type": "stream",
     "text": [
      "\n",
      "Estadísticas actualizadas:\n",
      "- Videos procesados: 174/1673 (Quedan 1499)\n",
      "- Tiempo medio de procesamiento: 32.50 segundos\n",
      "- Duración media de los videos: 5.31 segundos\n",
      "- Tiempo estimado restante: 48711.86 segundos\n"
     ]
    },
    {
     "name": "stderr",
     "output_type": "stream",
     "text": [
      "Procesando val:  10%|█         | 175/1673 [1:35:07<13:09:56, 31.64s/it]"
     ]
    },
    {
     "name": "stdout",
     "output_type": "stream",
     "text": [
      "\n",
      "Estadísticas actualizadas:\n",
      "- Videos procesados: 175/1673 (Quedan 1498)\n",
      "- Tiempo medio de procesamiento: 32.61 segundos\n",
      "- Duración media de los videos: 5.33 segundos\n",
      "- Tiempo estimado restante: 48848.66 segundos\n"
     ]
    },
    {
     "name": "stderr",
     "output_type": "stream",
     "text": [
      "Procesando val:  11%|█         | 176/1673 [1:35:57<15:25:29, 37.09s/it]"
     ]
    },
    {
     "name": "stdout",
     "output_type": "stream",
     "text": [
      "\n",
      "Estadísticas actualizadas:\n",
      "- Videos procesados: 176/1673 (Quedan 1497)\n",
      "- Tiempo medio de procesamiento: 32.71 segundos\n",
      "- Duración media de los videos: 5.34 segundos\n",
      "- Tiempo estimado restante: 48962.41 segundos\n"
     ]
    },
    {
     "name": "stderr",
     "output_type": "stream",
     "text": [
      "Procesando val:  11%|█         | 177/1673 [1:36:15<13:03:13, 31.41s/it]"
     ]
    },
    {
     "name": "stdout",
     "output_type": "stream",
     "text": [
      "\n",
      "Estadísticas actualizadas:\n",
      "- Videos procesados: 177/1673 (Quedan 1496)\n",
      "- Tiempo medio de procesamiento: 32.62 segundos\n",
      "- Duración media de los videos: 5.33 segundos\n",
      "- Tiempo estimado restante: 48806.72 segundos\n"
     ]
    },
    {
     "name": "stderr",
     "output_type": "stream",
     "text": [
      "Procesando val:  11%|█         | 178/1673 [1:36:31<11:10:16, 26.90s/it]"
     ]
    },
    {
     "name": "stdout",
     "output_type": "stream",
     "text": [
      "\n",
      "Estadísticas actualizadas:\n",
      "- Videos procesados: 178/1673 (Quedan 1495)\n",
      "- Tiempo medio de procesamiento: 32.53 segundos\n",
      "- Duración media de los videos: 5.32 segundos\n",
      "- Tiempo estimado restante: 48637.58 segundos\n"
     ]
    },
    {
     "name": "stderr",
     "output_type": "stream",
     "text": [
      "Procesando val:  11%|█         | 179/1673 [1:37:11<12:42:28, 30.62s/it]"
     ]
    },
    {
     "name": "stdout",
     "output_type": "stream",
     "text": [
      "\n",
      "Estadísticas actualizadas:\n",
      "- Videos procesados: 179/1673 (Quedan 1494)\n",
      "- Tiempo medio de procesamiento: 32.57 segundos\n",
      "- Duración media de los videos: 5.32 segundos\n",
      "- Tiempo estimado restante: 48661.54 segundos\n"
     ]
    },
    {
     "name": "stderr",
     "output_type": "stream",
     "text": [
      "Procesando val:  11%|█         | 180/1673 [1:37:37<12:09:28, 29.32s/it]"
     ]
    },
    {
     "name": "stdout",
     "output_type": "stream",
     "text": [
      "\n",
      "Estadísticas actualizadas:\n",
      "- Videos procesados: 180/1673 (Quedan 1493)\n",
      "- Tiempo medio de procesamiento: 32.54 segundos\n",
      "- Duración media de los videos: 5.32 segundos\n",
      "- Tiempo estimado restante: 48576.70 segundos\n"
     ]
    },
    {
     "name": "stderr",
     "output_type": "stream",
     "text": [
      "Procesando val:  11%|█         | 181/1673 [1:37:58<11:09:55, 26.94s/it]"
     ]
    },
    {
     "name": "stdout",
     "output_type": "stream",
     "text": [
      "\n",
      "Estadísticas actualizadas:\n",
      "- Videos procesados: 181/1673 (Quedan 1492)\n",
      "- Tiempo medio de procesamiento: 32.47 segundos\n",
      "- Duración media de los videos: 5.31 segundos\n",
      "- Tiempo estimado restante: 48452.31 segundos\n"
     ]
    },
    {
     "name": "stderr",
     "output_type": "stream",
     "text": [
      "Procesando val:  11%|█         | 182/1673 [1:38:25<11:09:20, 26.94s/it]"
     ]
    },
    {
     "name": "stdout",
     "output_type": "stream",
     "text": [
      "\n",
      "Estadísticas actualizadas:\n",
      "- Videos procesados: 182/1673 (Quedan 1491)\n",
      "- Tiempo medio de procesamiento: 32.44 segundos\n",
      "- Duración media de los videos: 5.30 segundos\n",
      "- Tiempo estimado restante: 48374.36 segundos\n"
     ]
    },
    {
     "name": "stderr",
     "output_type": "stream",
     "text": [
      "Procesando val:  11%|█         | 183/1673 [1:38:48<10:39:21, 25.75s/it]"
     ]
    },
    {
     "name": "stdout",
     "output_type": "stream",
     "text": [
      "\n",
      "Estadísticas actualizadas:\n",
      "- Videos procesados: 183/1673 (Quedan 1490)\n",
      "- Tiempo medio de procesamiento: 32.39 segundos\n",
      "- Duración media de los videos: 5.29 segundos\n",
      "- Tiempo estimado restante: 48264.77 segundos\n"
     ]
    },
    {
     "name": "stderr",
     "output_type": "stream",
     "text": [
      "Procesando val:  11%|█         | 184/1673 [1:39:08<9:55:03, 23.98s/it] "
     ]
    },
    {
     "name": "stdout",
     "output_type": "stream",
     "text": [
      "\n",
      "Estadísticas actualizadas:\n",
      "- Videos procesados: 184/1673 (Quedan 1489)\n",
      "- Tiempo medio de procesamiento: 32.32 segundos\n",
      "- Duración media de los videos: 5.28 segundos\n",
      "- Tiempo estimado restante: 48130.89 segundos\n"
     ]
    },
    {
     "name": "stderr",
     "output_type": "stream",
     "text": [
      "Procesando val:  11%|█         | 185/1673 [1:39:26<9:09:30, 22.16s/it]"
     ]
    },
    {
     "name": "stdout",
     "output_type": "stream",
     "text": [
      "\n",
      "Estadísticas actualizadas:\n",
      "- Videos procesados: 185/1673 (Quedan 1488)\n",
      "- Tiempo medio de procesamiento: 32.25 segundos\n",
      "- Duración media de los videos: 5.27 segundos\n",
      "- Tiempo estimado restante: 47982.62 segundos\n"
     ]
    },
    {
     "name": "stderr",
     "output_type": "stream",
     "text": [
      "Procesando val:  11%|█         | 186/1673 [1:39:44<8:37:40, 20.89s/it]"
     ]
    },
    {
     "name": "stdout",
     "output_type": "stream",
     "text": [
      "\n",
      "Estadísticas actualizadas:\n",
      "- Videos procesados: 186/1673 (Quedan 1487)\n",
      "- Tiempo medio de procesamiento: 32.17 segundos\n",
      "- Duración media de los videos: 5.26 segundos\n",
      "- Tiempo estimado restante: 47835.86 segundos\n"
     ]
    },
    {
     "name": "stderr",
     "output_type": "stream",
     "text": [
      "Procesando val:  11%|█         | 187/1673 [1:40:29<11:35:49, 28.10s/it]"
     ]
    },
    {
     "name": "stdout",
     "output_type": "stream",
     "text": [
      "\n",
      "Estadísticas actualizadas:\n",
      "- Videos procesados: 187/1673 (Quedan 1486)\n",
      "- Tiempo medio de procesamiento: 32.24 segundos\n",
      "- Duración media de los videos: 5.26 segundos\n",
      "- Tiempo estimado restante: 47904.95 segundos\n"
     ]
    },
    {
     "name": "stderr",
     "output_type": "stream",
     "text": [
      "Procesando val:  11%|█         | 187/1673 [1:41:04<13:23:12, 32.43s/it]\n"
     ]
    },
    {
     "name": "stdout",
     "output_type": "stream",
     "text": [
      "\n",
      "Proceso interrumpido. Progreso guardado en artifacts\\data\\processed\\val_progress.txt\n",
      "Para continuar, simplemente ejecuta el script de nuevo.\n"
     ]
    },
    {
     "ename": "KeyboardInterrupt",
     "evalue": "",
     "output_type": "error",
     "traceback": [
      "\u001b[1;31m---------------------------------------------------------------------------\u001b[0m",
      "\u001b[1;31mKeyboardInterrupt\u001b[0m                         Traceback (most recent call last)",
      "Cell \u001b[1;32mIn[10], line 62\u001b[0m\n\u001b[0;32m     61\u001b[0m \u001b[38;5;66;03m# Extraer y guardar features\u001b[39;00m\n\u001b[1;32m---> 62\u001b[0m \u001b[43mextractor\u001b[49m\u001b[38;5;241;43m.\u001b[39;49m\u001b[43mextract_features\u001b[49m\u001b[43m(\u001b[49m\u001b[38;5;28;43mstr\u001b[39;49m\u001b[43m(\u001b[49m\u001b[43mvideo_path\u001b[49m\u001b[43m)\u001b[49m\u001b[43m,\u001b[49m\u001b[43m \u001b[49m\u001b[43moutput_path\u001b[49m\u001b[43m)\u001b[49m\n\u001b[0;32m     64\u001b[0m \u001b[38;5;66;03m# Actualizar estadísticas\u001b[39;00m\n",
      "File \u001b[1;32md:\\Projects_D\\013_OpenCV_Learning\\OpenCV_Learning\\src\\actionDetection\\components\\data\\preprocessing.py:55\u001b[0m, in \u001b[0;36mFeatureExtractor.extract_features\u001b[1;34m(self, video_path, save_path)\u001b[0m\n\u001b[0;32m     54\u001b[0m \u001b[38;5;66;03m# Extraer embedding (añadir dimensión de batch)\u001b[39;00m\n\u001b[1;32m---> 55\u001b[0m frame_features \u001b[38;5;241m=\u001b[39m \u001b[38;5;28;43mself\u001b[39;49m\u001b[38;5;241;43m.\u001b[39;49m\u001b[43mmodel\u001b[49m\u001b[43m(\u001b[49m\u001b[43mtf\u001b[49m\u001b[38;5;241;43m.\u001b[39;49m\u001b[43mexpand_dims\u001b[49m\u001b[43m(\u001b[49m\u001b[43mframe\u001b[49m\u001b[43m,\u001b[49m\u001b[43m \u001b[49m\u001b[38;5;241;43m0\u001b[39;49m\u001b[43m)\u001b[49m\u001b[43m)\u001b[49m\n\u001b[0;32m     56\u001b[0m features\u001b[38;5;241m.\u001b[39mappend(frame_features[\u001b[38;5;241m0\u001b[39m])  \u001b[38;5;66;03m# Shape: (1280,)\u001b[39;00m\n",
      "File \u001b[1;32md:\\Projects_D\\013_OpenCV_Learning\\OpenCV_Learning\\venv_Awaait_v2\\lib\\site-packages\\keras\\utils\\traceback_utils.py:65\u001b[0m, in \u001b[0;36mfilter_traceback.<locals>.error_handler\u001b[1;34m(*args, **kwargs)\u001b[0m\n\u001b[0;32m     64\u001b[0m \u001b[38;5;28;01mtry\u001b[39;00m:\n\u001b[1;32m---> 65\u001b[0m     \u001b[38;5;28;01mreturn\u001b[39;00m fn(\u001b[38;5;241m*\u001b[39margs, \u001b[38;5;241m*\u001b[39m\u001b[38;5;241m*\u001b[39mkwargs)\n\u001b[0;32m     66\u001b[0m \u001b[38;5;28;01mexcept\u001b[39;00m \u001b[38;5;167;01mException\u001b[39;00m \u001b[38;5;28;01mas\u001b[39;00m e:\n",
      "File \u001b[1;32md:\\Projects_D\\013_OpenCV_Learning\\OpenCV_Learning\\venv_Awaait_v2\\lib\\site-packages\\keras\\engine\\training.py:558\u001b[0m, in \u001b[0;36mModel.__call__\u001b[1;34m(self, *args, **kwargs)\u001b[0m\n\u001b[0;32m    556\u001b[0m     layout_map_lib\u001b[38;5;241m.\u001b[39m_map_subclass_model_variable(\u001b[38;5;28mself\u001b[39m, \u001b[38;5;28mself\u001b[39m\u001b[38;5;241m.\u001b[39m_layout_map)\n\u001b[1;32m--> 558\u001b[0m \u001b[38;5;28;01mreturn\u001b[39;00m \u001b[38;5;28msuper\u001b[39m()\u001b[38;5;241m.\u001b[39m\u001b[38;5;21m__call__\u001b[39m(\u001b[38;5;241m*\u001b[39margs, \u001b[38;5;241m*\u001b[39m\u001b[38;5;241m*\u001b[39mkwargs)\n",
      "File \u001b[1;32md:\\Projects_D\\013_OpenCV_Learning\\OpenCV_Learning\\venv_Awaait_v2\\lib\\site-packages\\keras\\utils\\traceback_utils.py:65\u001b[0m, in \u001b[0;36mfilter_traceback.<locals>.error_handler\u001b[1;34m(*args, **kwargs)\u001b[0m\n\u001b[0;32m     64\u001b[0m \u001b[38;5;28;01mtry\u001b[39;00m:\n\u001b[1;32m---> 65\u001b[0m     \u001b[38;5;28;01mreturn\u001b[39;00m fn(\u001b[38;5;241m*\u001b[39margs, \u001b[38;5;241m*\u001b[39m\u001b[38;5;241m*\u001b[39mkwargs)\n\u001b[0;32m     66\u001b[0m \u001b[38;5;28;01mexcept\u001b[39;00m \u001b[38;5;167;01mException\u001b[39;00m \u001b[38;5;28;01mas\u001b[39;00m e:\n",
      "File \u001b[1;32md:\\Projects_D\\013_OpenCV_Learning\\OpenCV_Learning\\venv_Awaait_v2\\lib\\site-packages\\keras\\engine\\base_layer.py:1145\u001b[0m, in \u001b[0;36mLayer.__call__\u001b[1;34m(self, *args, **kwargs)\u001b[0m\n\u001b[0;32m   1142\u001b[0m \u001b[38;5;28;01mwith\u001b[39;00m autocast_variable\u001b[38;5;241m.\u001b[39menable_auto_cast_variables(\n\u001b[0;32m   1143\u001b[0m     \u001b[38;5;28mself\u001b[39m\u001b[38;5;241m.\u001b[39m_compute_dtype_object\n\u001b[0;32m   1144\u001b[0m ):\n\u001b[1;32m-> 1145\u001b[0m     outputs \u001b[38;5;241m=\u001b[39m call_fn(inputs, \u001b[38;5;241m*\u001b[39margs, \u001b[38;5;241m*\u001b[39m\u001b[38;5;241m*\u001b[39mkwargs)\n\u001b[0;32m   1147\u001b[0m \u001b[38;5;28;01mif\u001b[39;00m \u001b[38;5;28mself\u001b[39m\u001b[38;5;241m.\u001b[39m_activity_regularizer:\n",
      "File \u001b[1;32md:\\Projects_D\\013_OpenCV_Learning\\OpenCV_Learning\\venv_Awaait_v2\\lib\\site-packages\\keras\\utils\\traceback_utils.py:96\u001b[0m, in \u001b[0;36minject_argument_info_in_traceback.<locals>.error_handler\u001b[1;34m(*args, **kwargs)\u001b[0m\n\u001b[0;32m     95\u001b[0m \u001b[38;5;28;01mtry\u001b[39;00m:\n\u001b[1;32m---> 96\u001b[0m     \u001b[38;5;28;01mreturn\u001b[39;00m fn(\u001b[38;5;241m*\u001b[39margs, \u001b[38;5;241m*\u001b[39m\u001b[38;5;241m*\u001b[39mkwargs)\n\u001b[0;32m     97\u001b[0m \u001b[38;5;28;01mexcept\u001b[39;00m \u001b[38;5;167;01mException\u001b[39;00m \u001b[38;5;28;01mas\u001b[39;00m e:\n",
      "File \u001b[1;32md:\\Projects_D\\013_OpenCV_Learning\\OpenCV_Learning\\venv_Awaait_v2\\lib\\site-packages\\keras\\engine\\functional.py:512\u001b[0m, in \u001b[0;36mFunctional.call\u001b[1;34m(self, inputs, training, mask)\u001b[0m\n\u001b[0;32m    495\u001b[0m \u001b[38;5;250m\u001b[39m\u001b[38;5;124;03m\"\"\"Calls the model on new inputs.\u001b[39;00m\n\u001b[0;32m    496\u001b[0m \n\u001b[0;32m    497\u001b[0m \u001b[38;5;124;03mIn this case `call` just reapplies\u001b[39;00m\n\u001b[1;32m   (...)\u001b[0m\n\u001b[0;32m    510\u001b[0m \u001b[38;5;124;03m    a list of tensors if there are more than one outputs.\u001b[39;00m\n\u001b[0;32m    511\u001b[0m \u001b[38;5;124;03m\"\"\"\u001b[39;00m\n\u001b[1;32m--> 512\u001b[0m \u001b[38;5;28;01mreturn\u001b[39;00m \u001b[38;5;28;43mself\u001b[39;49m\u001b[38;5;241;43m.\u001b[39;49m\u001b[43m_run_internal_graph\u001b[49m\u001b[43m(\u001b[49m\u001b[43minputs\u001b[49m\u001b[43m,\u001b[49m\u001b[43m \u001b[49m\u001b[43mtraining\u001b[49m\u001b[38;5;241;43m=\u001b[39;49m\u001b[43mtraining\u001b[49m\u001b[43m,\u001b[49m\u001b[43m \u001b[49m\u001b[43mmask\u001b[49m\u001b[38;5;241;43m=\u001b[39;49m\u001b[43mmask\u001b[49m\u001b[43m)\u001b[49m\n",
      "File \u001b[1;32md:\\Projects_D\\013_OpenCV_Learning\\OpenCV_Learning\\venv_Awaait_v2\\lib\\site-packages\\keras\\engine\\functional.py:669\u001b[0m, in \u001b[0;36mFunctional._run_internal_graph\u001b[1;34m(self, inputs, training, mask)\u001b[0m\n\u001b[0;32m    668\u001b[0m args, kwargs \u001b[38;5;241m=\u001b[39m node\u001b[38;5;241m.\u001b[39mmap_arguments(tensor_dict)\n\u001b[1;32m--> 669\u001b[0m outputs \u001b[38;5;241m=\u001b[39m node\u001b[38;5;241m.\u001b[39mlayer(\u001b[38;5;241m*\u001b[39margs, \u001b[38;5;241m*\u001b[39m\u001b[38;5;241m*\u001b[39mkwargs)\n\u001b[0;32m    671\u001b[0m \u001b[38;5;66;03m# Update tensor_dict.\u001b[39;00m\n",
      "File \u001b[1;32md:\\Projects_D\\013_OpenCV_Learning\\OpenCV_Learning\\venv_Awaait_v2\\lib\\site-packages\\keras\\utils\\traceback_utils.py:65\u001b[0m, in \u001b[0;36mfilter_traceback.<locals>.error_handler\u001b[1;34m(*args, **kwargs)\u001b[0m\n\u001b[0;32m     64\u001b[0m \u001b[38;5;28;01mtry\u001b[39;00m:\n\u001b[1;32m---> 65\u001b[0m     \u001b[38;5;28;01mreturn\u001b[39;00m fn(\u001b[38;5;241m*\u001b[39margs, \u001b[38;5;241m*\u001b[39m\u001b[38;5;241m*\u001b[39mkwargs)\n\u001b[0;32m     66\u001b[0m \u001b[38;5;28;01mexcept\u001b[39;00m \u001b[38;5;167;01mException\u001b[39;00m \u001b[38;5;28;01mas\u001b[39;00m e:\n",
      "File \u001b[1;32md:\\Projects_D\\013_OpenCV_Learning\\OpenCV_Learning\\venv_Awaait_v2\\lib\\site-packages\\keras\\engine\\base_layer.py:1145\u001b[0m, in \u001b[0;36mLayer.__call__\u001b[1;34m(self, *args, **kwargs)\u001b[0m\n\u001b[0;32m   1142\u001b[0m \u001b[38;5;28;01mwith\u001b[39;00m autocast_variable\u001b[38;5;241m.\u001b[39menable_auto_cast_variables(\n\u001b[0;32m   1143\u001b[0m     \u001b[38;5;28mself\u001b[39m\u001b[38;5;241m.\u001b[39m_compute_dtype_object\n\u001b[0;32m   1144\u001b[0m ):\n\u001b[1;32m-> 1145\u001b[0m     outputs \u001b[38;5;241m=\u001b[39m call_fn(inputs, \u001b[38;5;241m*\u001b[39margs, \u001b[38;5;241m*\u001b[39m\u001b[38;5;241m*\u001b[39mkwargs)\n\u001b[0;32m   1147\u001b[0m \u001b[38;5;28;01mif\u001b[39;00m \u001b[38;5;28mself\u001b[39m\u001b[38;5;241m.\u001b[39m_activity_regularizer:\n",
      "File \u001b[1;32md:\\Projects_D\\013_OpenCV_Learning\\OpenCV_Learning\\venv_Awaait_v2\\lib\\site-packages\\keras\\utils\\traceback_utils.py:96\u001b[0m, in \u001b[0;36minject_argument_info_in_traceback.<locals>.error_handler\u001b[1;34m(*args, **kwargs)\u001b[0m\n\u001b[0;32m     95\u001b[0m \u001b[38;5;28;01mtry\u001b[39;00m:\n\u001b[1;32m---> 96\u001b[0m     \u001b[38;5;28;01mreturn\u001b[39;00m fn(\u001b[38;5;241m*\u001b[39margs, \u001b[38;5;241m*\u001b[39m\u001b[38;5;241m*\u001b[39mkwargs)\n\u001b[0;32m     97\u001b[0m \u001b[38;5;28;01mexcept\u001b[39;00m \u001b[38;5;167;01mException\u001b[39;00m \u001b[38;5;28;01mas\u001b[39;00m e:\n",
      "File \u001b[1;32md:\\Projects_D\\013_OpenCV_Learning\\OpenCV_Learning\\venv_Awaait_v2\\lib\\site-packages\\keras\\layers\\normalization\\batch_normalization.py:922\u001b[0m, in \u001b[0;36mBatchNormalizationBase.call\u001b[1;34m(self, inputs, training, mask)\u001b[0m\n\u001b[0;32m    921\u001b[0m \u001b[38;5;28;01mif\u001b[39;00m \u001b[38;5;28mself\u001b[39m\u001b[38;5;241m.\u001b[39mfused:\n\u001b[1;32m--> 922\u001b[0m     outputs \u001b[38;5;241m=\u001b[39m \u001b[38;5;28;43mself\u001b[39;49m\u001b[38;5;241;43m.\u001b[39;49m\u001b[43m_fused_batch_norm\u001b[49m\u001b[43m(\u001b[49m\n\u001b[0;32m    923\u001b[0m \u001b[43m        \u001b[49m\u001b[43minputs\u001b[49m\u001b[43m,\u001b[49m\u001b[43m \u001b[49m\u001b[43mmask\u001b[49m\u001b[38;5;241;43m=\u001b[39;49m\u001b[43mmask\u001b[49m\u001b[43m,\u001b[49m\u001b[43m \u001b[49m\u001b[43mtraining\u001b[49m\u001b[38;5;241;43m=\u001b[39;49m\u001b[43mtraining\u001b[49m\n\u001b[0;32m    924\u001b[0m \u001b[43m    \u001b[49m\u001b[43m)\u001b[49m\n\u001b[0;32m    925\u001b[0m     \u001b[38;5;28;01mif\u001b[39;00m \u001b[38;5;28mself\u001b[39m\u001b[38;5;241m.\u001b[39mvirtual_batch_size \u001b[38;5;129;01mis\u001b[39;00m \u001b[38;5;129;01mnot\u001b[39;00m \u001b[38;5;28;01mNone\u001b[39;00m:\n\u001b[0;32m    926\u001b[0m         \u001b[38;5;66;03m# Currently never reaches here since fused_batch_norm does not\u001b[39;00m\n\u001b[0;32m    927\u001b[0m         \u001b[38;5;66;03m# support virtual batching\u001b[39;00m\n",
      "File \u001b[1;32md:\\Projects_D\\013_OpenCV_Learning\\OpenCV_Learning\\venv_Awaait_v2\\lib\\site-packages\\keras\\layers\\normalization\\batch_normalization.py:688\u001b[0m, in \u001b[0;36mBatchNormalizationBase._fused_batch_norm\u001b[1;34m(self, inputs, mask, training)\u001b[0m\n\u001b[0;32m    677\u001b[0m     \u001b[38;5;28;01mreturn\u001b[39;00m tf\u001b[38;5;241m.\u001b[39mcompat\u001b[38;5;241m.\u001b[39mv1\u001b[38;5;241m.\u001b[39mnn\u001b[38;5;241m.\u001b[39mfused_batch_norm(\n\u001b[0;32m    678\u001b[0m         inputs,\n\u001b[0;32m    679\u001b[0m         gamma,\n\u001b[1;32m   (...)\u001b[0m\n\u001b[0;32m    685\u001b[0m         data_format\u001b[38;5;241m=\u001b[39m\u001b[38;5;28mself\u001b[39m\u001b[38;5;241m.\u001b[39m_data_format,\n\u001b[0;32m    686\u001b[0m     )\n\u001b[1;32m--> 688\u001b[0m output, mean, variance \u001b[38;5;241m=\u001b[39m \u001b[43mcontrol_flow_util\u001b[49m\u001b[38;5;241;43m.\u001b[39;49m\u001b[43msmart_cond\u001b[49m\u001b[43m(\u001b[49m\n\u001b[0;32m    689\u001b[0m \u001b[43m    \u001b[49m\u001b[43mtraining\u001b[49m\u001b[43m,\u001b[49m\u001b[43m \u001b[49m\u001b[43m_fused_batch_norm_training\u001b[49m\u001b[43m,\u001b[49m\u001b[43m \u001b[49m\u001b[43m_fused_batch_norm_inference\u001b[49m\n\u001b[0;32m    690\u001b[0m \u001b[43m\u001b[49m\u001b[43m)\u001b[49m\n\u001b[0;32m    691\u001b[0m variance \u001b[38;5;241m=\u001b[39m _maybe_add_or_remove_bessels_correction(\n\u001b[0;32m    692\u001b[0m     variance, remove\u001b[38;5;241m=\u001b[39m\u001b[38;5;28;01mTrue\u001b[39;00m\n\u001b[0;32m    693\u001b[0m )\n",
      "File \u001b[1;32md:\\Projects_D\\013_OpenCV_Learning\\OpenCV_Learning\\venv_Awaait_v2\\lib\\site-packages\\keras\\utils\\control_flow_util.py:108\u001b[0m, in \u001b[0;36msmart_cond\u001b[1;34m(pred, true_fn, false_fn, name)\u001b[0m\n\u001b[0;32m    107\u001b[0m     \u001b[38;5;28;01mreturn\u001b[39;00m tf\u001b[38;5;241m.\u001b[39mcond(pred, true_fn\u001b[38;5;241m=\u001b[39mtrue_fn, false_fn\u001b[38;5;241m=\u001b[39mfalse_fn, name\u001b[38;5;241m=\u001b[39mname)\n\u001b[1;32m--> 108\u001b[0m \u001b[38;5;28;01mreturn\u001b[39;00m \u001b[43mtf\u001b[49m\u001b[38;5;241;43m.\u001b[39;49m\u001b[43m__internal__\u001b[49m\u001b[38;5;241;43m.\u001b[39;49m\u001b[43msmart_cond\u001b[49m\u001b[38;5;241;43m.\u001b[39;49m\u001b[43msmart_cond\u001b[49m\u001b[43m(\u001b[49m\n\u001b[0;32m    109\u001b[0m \u001b[43m    \u001b[49m\u001b[43mpred\u001b[49m\u001b[43m,\u001b[49m\u001b[43m \u001b[49m\u001b[43mtrue_fn\u001b[49m\u001b[38;5;241;43m=\u001b[39;49m\u001b[43mtrue_fn\u001b[49m\u001b[43m,\u001b[49m\u001b[43m \u001b[49m\u001b[43mfalse_fn\u001b[49m\u001b[38;5;241;43m=\u001b[39;49m\u001b[43mfalse_fn\u001b[49m\u001b[43m,\u001b[49m\u001b[43m \u001b[49m\u001b[43mname\u001b[49m\u001b[38;5;241;43m=\u001b[39;49m\u001b[43mname\u001b[49m\n\u001b[0;32m    110\u001b[0m \u001b[43m\u001b[49m\u001b[43m)\u001b[49m\n",
      "File \u001b[1;32md:\\Projects_D\\013_OpenCV_Learning\\OpenCV_Learning\\venv_Awaait_v2\\lib\\site-packages\\tensorflow\\python\\framework\\smart_cond.py:54\u001b[0m, in \u001b[0;36msmart_cond\u001b[1;34m(pred, true_fn, false_fn, name)\u001b[0m\n\u001b[0;32m     53\u001b[0m   \u001b[38;5;28;01melse\u001b[39;00m:\n\u001b[1;32m---> 54\u001b[0m     \u001b[38;5;28;01mreturn\u001b[39;00m \u001b[43mfalse_fn\u001b[49m\u001b[43m(\u001b[49m\u001b[43m)\u001b[49m\n\u001b[0;32m     55\u001b[0m \u001b[38;5;28;01melse\u001b[39;00m:\n",
      "File \u001b[1;32md:\\Projects_D\\013_OpenCV_Learning\\OpenCV_Learning\\venv_Awaait_v2\\lib\\site-packages\\keras\\layers\\normalization\\batch_normalization.py:677\u001b[0m, in \u001b[0;36mBatchNormalizationBase._fused_batch_norm.<locals>._fused_batch_norm_inference\u001b[1;34m()\u001b[0m\n\u001b[0;32m    676\u001b[0m \u001b[38;5;28;01mdef\u001b[39;00m \u001b[38;5;21m_fused_batch_norm_inference\u001b[39m():\n\u001b[1;32m--> 677\u001b[0m     \u001b[38;5;28;01mreturn\u001b[39;00m \u001b[43mtf\u001b[49m\u001b[38;5;241;43m.\u001b[39;49m\u001b[43mcompat\u001b[49m\u001b[38;5;241;43m.\u001b[39;49m\u001b[43mv1\u001b[49m\u001b[38;5;241;43m.\u001b[39;49m\u001b[43mnn\u001b[49m\u001b[38;5;241;43m.\u001b[39;49m\u001b[43mfused_batch_norm\u001b[49m\u001b[43m(\u001b[49m\n\u001b[0;32m    678\u001b[0m \u001b[43m        \u001b[49m\u001b[43minputs\u001b[49m\u001b[43m,\u001b[49m\n\u001b[0;32m    679\u001b[0m \u001b[43m        \u001b[49m\u001b[43mgamma\u001b[49m\u001b[43m,\u001b[49m\n\u001b[0;32m    680\u001b[0m \u001b[43m        \u001b[49m\u001b[43mbeta\u001b[49m\u001b[43m,\u001b[49m\n\u001b[0;32m    681\u001b[0m \u001b[43m        \u001b[49m\u001b[43mmean\u001b[49m\u001b[38;5;241;43m=\u001b[39;49m\u001b[38;5;28;43mself\u001b[39;49m\u001b[38;5;241;43m.\u001b[39;49m\u001b[43mmoving_mean\u001b[49m\u001b[43m,\u001b[49m\n\u001b[0;32m    682\u001b[0m \u001b[43m        \u001b[49m\u001b[43mvariance\u001b[49m\u001b[38;5;241;43m=\u001b[39;49m\u001b[38;5;28;43mself\u001b[39;49m\u001b[38;5;241;43m.\u001b[39;49m\u001b[43mmoving_variance\u001b[49m\u001b[43m,\u001b[49m\n\u001b[0;32m    683\u001b[0m \u001b[43m        \u001b[49m\u001b[43mepsilon\u001b[49m\u001b[38;5;241;43m=\u001b[39;49m\u001b[38;5;28;43mself\u001b[39;49m\u001b[38;5;241;43m.\u001b[39;49m\u001b[43mepsilon\u001b[49m\u001b[43m,\u001b[49m\n\u001b[0;32m    684\u001b[0m \u001b[43m        \u001b[49m\u001b[43mis_training\u001b[49m\u001b[38;5;241;43m=\u001b[39;49m\u001b[38;5;28;43;01mFalse\u001b[39;49;00m\u001b[43m,\u001b[49m\n\u001b[0;32m    685\u001b[0m \u001b[43m        \u001b[49m\u001b[43mdata_format\u001b[49m\u001b[38;5;241;43m=\u001b[39;49m\u001b[38;5;28;43mself\u001b[39;49m\u001b[38;5;241;43m.\u001b[39;49m\u001b[43m_data_format\u001b[49m\u001b[43m,\u001b[49m\n\u001b[0;32m    686\u001b[0m \u001b[43m    \u001b[49m\u001b[43m)\u001b[49m\n",
      "File \u001b[1;32md:\\Projects_D\\013_OpenCV_Learning\\OpenCV_Learning\\venv_Awaait_v2\\lib\\site-packages\\tensorflow\\python\\util\\traceback_utils.py:150\u001b[0m, in \u001b[0;36mfilter_traceback.<locals>.error_handler\u001b[1;34m(*args, **kwargs)\u001b[0m\n\u001b[0;32m    149\u001b[0m \u001b[38;5;28;01mtry\u001b[39;00m:\n\u001b[1;32m--> 150\u001b[0m   \u001b[38;5;28;01mreturn\u001b[39;00m fn(\u001b[38;5;241m*\u001b[39margs, \u001b[38;5;241m*\u001b[39m\u001b[38;5;241m*\u001b[39mkwargs)\n\u001b[0;32m    151\u001b[0m \u001b[38;5;28;01mexcept\u001b[39;00m \u001b[38;5;167;01mException\u001b[39;00m \u001b[38;5;28;01mas\u001b[39;00m e:\n",
      "File \u001b[1;32md:\\Projects_D\\013_OpenCV_Learning\\OpenCV_Learning\\venv_Awaait_v2\\lib\\site-packages\\tensorflow\\python\\util\\dispatch.py:1176\u001b[0m, in \u001b[0;36madd_dispatch_support.<locals>.decorator.<locals>.op_dispatch_handler\u001b[1;34m(*args, **kwargs)\u001b[0m\n\u001b[0;32m   1175\u001b[0m \u001b[38;5;28;01mtry\u001b[39;00m:\n\u001b[1;32m-> 1176\u001b[0m   \u001b[38;5;28;01mreturn\u001b[39;00m dispatch_target(\u001b[38;5;241m*\u001b[39margs, \u001b[38;5;241m*\u001b[39m\u001b[38;5;241m*\u001b[39mkwargs)\n\u001b[0;32m   1177\u001b[0m \u001b[38;5;28;01mexcept\u001b[39;00m (\u001b[38;5;167;01mTypeError\u001b[39;00m, \u001b[38;5;167;01mValueError\u001b[39;00m):\n\u001b[0;32m   1178\u001b[0m   \u001b[38;5;66;03m# Note: convert_to_eager_tensor currently raises a ValueError, not a\u001b[39;00m\n\u001b[0;32m   1179\u001b[0m   \u001b[38;5;66;03m# TypeError, when given unexpected types.  So we need to catch both.\u001b[39;00m\n",
      "File \u001b[1;32md:\\Projects_D\\013_OpenCV_Learning\\OpenCV_Learning\\venv_Awaait_v2\\lib\\site-packages\\tensorflow\\python\\ops\\nn_impl.py:1681\u001b[0m, in \u001b[0;36mfused_batch_norm\u001b[1;34m(x, scale, offset, mean, variance, epsilon, data_format, is_training, name, exponential_avg_factor)\u001b[0m\n\u001b[0;32m   1680\u001b[0m x \u001b[38;5;241m=\u001b[39m ops\u001b[38;5;241m.\u001b[39mconvert_to_tensor(x, name\u001b[38;5;241m=\u001b[39m\u001b[38;5;124m\"\u001b[39m\u001b[38;5;124minput\u001b[39m\u001b[38;5;124m\"\u001b[39m)\n\u001b[1;32m-> 1681\u001b[0m scale \u001b[38;5;241m=\u001b[39m \u001b[43mops\u001b[49m\u001b[38;5;241;43m.\u001b[39;49m\u001b[43mconvert_to_tensor\u001b[49m\u001b[43m(\u001b[49m\u001b[43mscale\u001b[49m\u001b[43m,\u001b[49m\u001b[43m \u001b[49m\u001b[43mname\u001b[49m\u001b[38;5;241;43m=\u001b[39;49m\u001b[38;5;124;43m\"\u001b[39;49m\u001b[38;5;124;43mscale\u001b[39;49m\u001b[38;5;124;43m\"\u001b[39;49m\u001b[43m)\u001b[49m\n\u001b[0;32m   1682\u001b[0m offset \u001b[38;5;241m=\u001b[39m ops\u001b[38;5;241m.\u001b[39mconvert_to_tensor(offset, name\u001b[38;5;241m=\u001b[39m\u001b[38;5;124m\"\u001b[39m\u001b[38;5;124moffset\u001b[39m\u001b[38;5;124m\"\u001b[39m)\n",
      "File \u001b[1;32md:\\Projects_D\\013_OpenCV_Learning\\OpenCV_Learning\\venv_Awaait_v2\\lib\\site-packages\\tensorflow\\python\\profiler\\trace.py:183\u001b[0m, in \u001b[0;36mtrace_wrapper.<locals>.inner_wrapper.<locals>.wrapped\u001b[1;34m(*args, **kwargs)\u001b[0m\n\u001b[0;32m    182\u001b[0m     \u001b[38;5;28;01mreturn\u001b[39;00m func(\u001b[38;5;241m*\u001b[39margs, \u001b[38;5;241m*\u001b[39m\u001b[38;5;241m*\u001b[39mkwargs)\n\u001b[1;32m--> 183\u001b[0m \u001b[38;5;28;01mreturn\u001b[39;00m func(\u001b[38;5;241m*\u001b[39margs, \u001b[38;5;241m*\u001b[39m\u001b[38;5;241m*\u001b[39mkwargs)\n",
      "File \u001b[1;32md:\\Projects_D\\013_OpenCV_Learning\\OpenCV_Learning\\venv_Awaait_v2\\lib\\site-packages\\tensorflow\\python\\framework\\ops.py:1642\u001b[0m, in \u001b[0;36mconvert_to_tensor\u001b[1;34m(value, dtype, name, as_ref, preferred_dtype, dtype_hint, ctx, accepted_result_types)\u001b[0m\n\u001b[0;32m   1641\u001b[0m \u001b[38;5;28;01mif\u001b[39;00m ret \u001b[38;5;129;01mis\u001b[39;00m \u001b[38;5;28;01mNone\u001b[39;00m:\n\u001b[1;32m-> 1642\u001b[0m   ret \u001b[38;5;241m=\u001b[39m \u001b[43mconversion_func\u001b[49m\u001b[43m(\u001b[49m\u001b[43mvalue\u001b[49m\u001b[43m,\u001b[49m\u001b[43m \u001b[49m\u001b[43mdtype\u001b[49m\u001b[38;5;241;43m=\u001b[39;49m\u001b[43mdtype\u001b[49m\u001b[43m,\u001b[49m\u001b[43m \u001b[49m\u001b[43mname\u001b[49m\u001b[38;5;241;43m=\u001b[39;49m\u001b[43mname\u001b[49m\u001b[43m,\u001b[49m\u001b[43m \u001b[49m\u001b[43mas_ref\u001b[49m\u001b[38;5;241;43m=\u001b[39;49m\u001b[43mas_ref\u001b[49m\u001b[43m)\u001b[49m\n\u001b[0;32m   1644\u001b[0m \u001b[38;5;28;01mif\u001b[39;00m ret \u001b[38;5;129;01mis\u001b[39;00m \u001b[38;5;28mNotImplemented\u001b[39m:\n",
      "File \u001b[1;32md:\\Projects_D\\013_OpenCV_Learning\\OpenCV_Learning\\venv_Awaait_v2\\lib\\site-packages\\tensorflow\\python\\ops\\resource_variable_ops.py:2274\u001b[0m, in \u001b[0;36m_dense_var_to_tensor\u001b[1;34m(var, dtype, name, as_ref)\u001b[0m\n\u001b[0;32m   2273\u001b[0m \u001b[38;5;28;01mdef\u001b[39;00m \u001b[38;5;21m_dense_var_to_tensor\u001b[39m(var, dtype\u001b[38;5;241m=\u001b[39m\u001b[38;5;28;01mNone\u001b[39;00m, name\u001b[38;5;241m=\u001b[39m\u001b[38;5;28;01mNone\u001b[39;00m, as_ref\u001b[38;5;241m=\u001b[39m\u001b[38;5;28;01mFalse\u001b[39;00m):\n\u001b[1;32m-> 2274\u001b[0m   \u001b[38;5;28;01mreturn\u001b[39;00m \u001b[43mvar\u001b[49m\u001b[38;5;241;43m.\u001b[39;49m\u001b[43m_dense_var_to_tensor\u001b[49m\u001b[43m(\u001b[49m\u001b[43mdtype\u001b[49m\u001b[38;5;241;43m=\u001b[39;49m\u001b[43mdtype\u001b[49m\u001b[43m,\u001b[49m\u001b[43m \u001b[49m\u001b[43mname\u001b[49m\u001b[38;5;241;43m=\u001b[39;49m\u001b[43mname\u001b[49m\u001b[43m,\u001b[49m\u001b[43m \u001b[49m\u001b[43mas_ref\u001b[49m\u001b[38;5;241;43m=\u001b[39;49m\u001b[43mas_ref\u001b[49m\u001b[43m)\u001b[49m\n",
      "File \u001b[1;32md:\\Projects_D\\013_OpenCV_Learning\\OpenCV_Learning\\venv_Awaait_v2\\lib\\site-packages\\tensorflow\\python\\ops\\resource_variable_ops.py:1516\u001b[0m, in \u001b[0;36mBaseResourceVariable._dense_var_to_tensor\u001b[1;34m(***failed resolving arguments***)\u001b[0m\n\u001b[0;32m   1515\u001b[0m \u001b[38;5;28;01melse\u001b[39;00m:\n\u001b[1;32m-> 1516\u001b[0m   \u001b[38;5;28;01mreturn\u001b[39;00m \u001b[38;5;28;43mself\u001b[39;49m\u001b[38;5;241;43m.\u001b[39;49m\u001b[43mvalue\u001b[49m\u001b[43m(\u001b[49m\u001b[43m)\u001b[49m\n",
      "File \u001b[1;32md:\\Projects_D\\013_OpenCV_Learning\\OpenCV_Learning\\venv_Awaait_v2\\lib\\site-packages\\tensorflow\\python\\ops\\resource_variable_ops.py:592\u001b[0m, in \u001b[0;36mBaseResourceVariable.value\u001b[1;34m(self)\u001b[0m\n\u001b[0;32m    591\u001b[0m \u001b[38;5;28;01mwith\u001b[39;00m ops\u001b[38;5;241m.\u001b[39mcolocate_with(\u001b[38;5;28;01mNone\u001b[39;00m, ignore_existing\u001b[38;5;241m=\u001b[39m\u001b[38;5;28;01mTrue\u001b[39;00m):\n\u001b[1;32m--> 592\u001b[0m   \u001b[38;5;28;01mreturn\u001b[39;00m \u001b[38;5;28;43mself\u001b[39;49m\u001b[38;5;241;43m.\u001b[39;49m\u001b[43m_read_variable_op\u001b[49m\u001b[43m(\u001b[49m\u001b[43m)\u001b[49m\n",
      "File \u001b[1;32md:\\Projects_D\\013_OpenCV_Learning\\OpenCV_Learning\\venv_Awaait_v2\\lib\\site-packages\\tensorflow\\python\\ops\\resource_variable_ops.py:753\u001b[0m, in \u001b[0;36mBaseResourceVariable._read_variable_op\u001b[1;34m(self, no_copy)\u001b[0m\n\u001b[0;32m    752\u001b[0m \u001b[38;5;28;01melse\u001b[39;00m:\n\u001b[1;32m--> 753\u001b[0m   result \u001b[38;5;241m=\u001b[39m \u001b[43mread_and_set_handle\u001b[49m\u001b[43m(\u001b[49m\u001b[43mno_copy\u001b[49m\u001b[43m)\u001b[49m\n\u001b[0;32m    755\u001b[0m \u001b[38;5;28;01mif\u001b[39;00m \u001b[38;5;129;01mnot\u001b[39;00m context\u001b[38;5;241m.\u001b[39mexecuting_eagerly():\n\u001b[0;32m    756\u001b[0m   \u001b[38;5;66;03m# Note that if a control flow context is active the input of the read op\u001b[39;00m\n\u001b[0;32m    757\u001b[0m   \u001b[38;5;66;03m# might not actually be the handle. This line bypasses it.\u001b[39;00m\n",
      "File \u001b[1;32md:\\Projects_D\\013_OpenCV_Learning\\OpenCV_Learning\\venv_Awaait_v2\\lib\\site-packages\\tensorflow\\python\\ops\\resource_variable_ops.py:743\u001b[0m, in \u001b[0;36mBaseResourceVariable._read_variable_op.<locals>.read_and_set_handle\u001b[1;34m(no_copy)\u001b[0m\n\u001b[0;32m    742\u001b[0m   gen_resource_variable_ops\u001b[38;5;241m.\u001b[39mdisable_copy_on_read(\u001b[38;5;28mself\u001b[39m\u001b[38;5;241m.\u001b[39mhandle)\n\u001b[1;32m--> 743\u001b[0m result \u001b[38;5;241m=\u001b[39m \u001b[43mgen_resource_variable_ops\u001b[49m\u001b[38;5;241;43m.\u001b[39;49m\u001b[43mread_variable_op\u001b[49m\u001b[43m(\u001b[49m\n\u001b[0;32m    744\u001b[0m \u001b[43m    \u001b[49m\u001b[38;5;28;43mself\u001b[39;49m\u001b[38;5;241;43m.\u001b[39;49m\u001b[43mhandle\u001b[49m\u001b[43m,\u001b[49m\u001b[43m \u001b[49m\u001b[38;5;28;43mself\u001b[39;49m\u001b[38;5;241;43m.\u001b[39;49m\u001b[43m_dtype\u001b[49m\u001b[43m)\u001b[49m\n\u001b[0;32m    745\u001b[0m _maybe_set_handle_data(\u001b[38;5;28mself\u001b[39m\u001b[38;5;241m.\u001b[39m_dtype, \u001b[38;5;28mself\u001b[39m\u001b[38;5;241m.\u001b[39mhandle, result)\n",
      "File \u001b[1;32md:\\Projects_D\\013_OpenCV_Learning\\OpenCV_Learning\\venv_Awaait_v2\\lib\\site-packages\\tensorflow\\python\\ops\\gen_resource_variable_ops.py:580\u001b[0m, in \u001b[0;36mread_variable_op\u001b[1;34m(resource, dtype, name)\u001b[0m\n\u001b[0;32m    579\u001b[0m \u001b[38;5;28;01mtry\u001b[39;00m:\n\u001b[1;32m--> 580\u001b[0m   _result \u001b[38;5;241m=\u001b[39m \u001b[43mpywrap_tfe\u001b[49m\u001b[38;5;241;43m.\u001b[39;49m\u001b[43mTFE_Py_FastPathExecute\u001b[49m\u001b[43m(\u001b[49m\n\u001b[0;32m    581\u001b[0m \u001b[43m    \u001b[49m\u001b[43m_ctx\u001b[49m\u001b[43m,\u001b[49m\u001b[43m \u001b[49m\u001b[38;5;124;43m\"\u001b[39;49m\u001b[38;5;124;43mReadVariableOp\u001b[39;49m\u001b[38;5;124;43m\"\u001b[39;49m\u001b[43m,\u001b[49m\u001b[43m \u001b[49m\u001b[43mname\u001b[49m\u001b[43m,\u001b[49m\u001b[43m \u001b[49m\u001b[43mresource\u001b[49m\u001b[43m,\u001b[49m\u001b[43m \u001b[49m\u001b[38;5;124;43m\"\u001b[39;49m\u001b[38;5;124;43mdtype\u001b[39;49m\u001b[38;5;124;43m\"\u001b[39;49m\u001b[43m,\u001b[49m\u001b[43m \u001b[49m\u001b[43mdtype\u001b[49m\u001b[43m)\u001b[49m\n\u001b[0;32m    582\u001b[0m   \u001b[38;5;28;01mreturn\u001b[39;00m _result\n",
      "\u001b[1;31mKeyboardInterrupt\u001b[0m: ",
      "\nDuring handling of the above exception, another exception occurred:\n",
      "\u001b[1;31mKeyboardInterrupt\u001b[0m                         Traceback (most recent call last)",
      "Cell \u001b[1;32mIn[10], line 92\u001b[0m\n\u001b[0;32m     90\u001b[0m     \u001b[38;5;28mprint\u001b[39m(\u001b[38;5;124mf\u001b[39m\u001b[38;5;124m\"\u001b[39m\u001b[38;5;124mPara continuar, simplemente ejecuta el script de nuevo.\u001b[39m\u001b[38;5;124m\"\u001b[39m)\n\u001b[0;32m     91\u001b[0m     \u001b[38;5;66;03m# Re-lanzar la excepción para asegurar que el notebook se detiene\u001b[39;00m\n\u001b[1;32m---> 92\u001b[0m     \u001b[38;5;28;01mraise\u001b[39;00m \u001b[38;5;167;01mKeyboardInterrupt\u001b[39;00m\n\u001b[0;32m     94\u001b[0m \u001b[38;5;66;03m# Mostrar estadísticas finales del split\u001b[39;00m\n\u001b[0;32m     95\u001b[0m \u001b[38;5;28;01mif\u001b[39;00m processed_count \u001b[38;5;241m>\u001b[39m \u001b[38;5;241m0\u001b[39m:\n",
      "\u001b[1;31mKeyboardInterrupt\u001b[0m: "
     ]
    }
   ],
   "source": [
    "for split in splits_to_process:\n",
    "    print(f\"\\nProcesando split: {split}\")\n",
    "    \n",
    "    input_dir = raw_dir / split\n",
    "    output_dir = processed_dir / split\n",
    "    \n",
    "    # Obtener lista de todos los videos a procesar\n",
    "    video_paths = []\n",
    "    video_extensions = ['.avi', '.mp4', '.mov', '.mkv']  # Añadimos más extensiones comunes\n",
    "    \n",
    "    for class_dir in input_dir.iterdir():\n",
    "        if class_dir.is_dir():\n",
    "            # Crear directorio de salida para esta clase\n",
    "            (output_dir / class_dir.name).mkdir(parents=True, exist_ok=True)\n",
    "            \n",
    "            # Añadir videos de esta clase a la lista, buscando múltiples extensiones\n",
    "            for ext in video_extensions:\n",
    "                video_paths.extend([\n",
    "                    (video_path, class_dir.name) \n",
    "                    for video_path in class_dir.glob(f\"*{ext}\")\n",
    "                ])\n",
    "    \n",
    "    print(f\"Encontrados {len(video_paths)} videos en {split}\")\n",
    "    \n",
    "    # Variables para estadísticas\n",
    "    total_process_time = 0\n",
    "    total_video_duration = 0\n",
    "    processed_count = 0\n",
    "    \n",
    "    # Crear/cargar archivo de progreso\n",
    "    progress_file = processed_dir / f\"{split}_progress.txt\"\n",
    "    processed_videos = set()\n",
    "    if progress_file.exists():\n",
    "        with open(progress_file, 'r') as f:\n",
    "            processed_videos = set(f.read().splitlines())\n",
    "        \n",
    "        # Actualizar contador con videos ya procesados\n",
    "        processed_count = len(processed_videos)\n",
    "        print(f\"Reanudando desde {processed_count} videos procesados anteriormente\")\n",
    "    \n",
    "    try:\n",
    "        # Procesar cada video con barra de progreso\n",
    "        for video_path, class_name in tqdm(video_paths, desc=f\"Procesando {split}\"):\n",
    "            # Saltar videos ya procesados\n",
    "            if str(video_path) in processed_videos:\n",
    "                continue\n",
    "                \n",
    "            try:\n",
    "                start_time = time.time()\n",
    "                \n",
    "                # Obtener duración del video\n",
    "                cap = cv2.VideoCapture(str(video_path))\n",
    "                fps = cap.get(cv2.CAP_PROP_FPS)\n",
    "                frame_count = int(cap.get(cv2.CAP_PROP_FRAME_COUNT))\n",
    "                video_duration = frame_count / fps\n",
    "                cap.release()\n",
    "                \n",
    "                # Crear ruta de salida manteniendo la estructura\n",
    "                output_path = output_dir / class_name / f\"{video_path.stem}_features.npy\"\n",
    "                \n",
    "                # Extraer y guardar features\n",
    "                extractor.extract_features(str(video_path), output_path)\n",
    "                \n",
    "                # Actualizar estadísticas\n",
    "                process_time = time.time() - start_time\n",
    "                total_process_time += process_time\n",
    "                total_video_duration += video_duration\n",
    "                processed_count += 1\n",
    "                \n",
    "                # Guardar progreso\n",
    "                with open(progress_file, 'a') as f:\n",
    "                    f.write(f\"{str(video_path)}\\n\")\n",
    "                \n",
    "                # Mostrar estadísticas actualizadas\n",
    "                remaining = len(video_paths) - processed_count\n",
    "                avg_process_time = total_process_time / processed_count\n",
    "                avg_video_duration = total_video_duration / processed_count\n",
    "                \n",
    "                print(f\"\\nEstadísticas actualizadas:\")\n",
    "                print(f\"- Videos procesados: {processed_count}/{len(video_paths)} (Quedan {remaining})\")\n",
    "                print(f\"- Tiempo medio de procesamiento: {avg_process_time:.2f} segundos\")\n",
    "                print(f\"- Duración media de los videos: {avg_video_duration:.2f} segundos\")\n",
    "                print(f\"- Tiempo estimado restante: {remaining * avg_process_time:.2f} segundos\")\n",
    "                \n",
    "            except Exception as e:\n",
    "                print(f\"Error procesando {video_path}: {str(e)}\")\n",
    "                \n",
    "    except KeyboardInterrupt:\n",
    "        print(f\"\\nProceso interrumpido. Progreso guardado en {progress_file}\")\n",
    "        print(f\"Para continuar, simplemente ejecuta el script de nuevo.\")\n",
    "        # Re-lanzar la excepción para asegurar que el notebook se detiene\n",
    "        raise KeyboardInterrupt\n",
    "\n",
    "    # Mostrar estadísticas finales del split\n",
    "    if processed_count > 0:\n",
    "        print(f\"\\nEstadísticas finales para {split}:\")\n",
    "        print(f\"- Total de videos procesados: {processed_count}\")\n",
    "        print(f\"- Tiempo medio de procesamiento: {total_process_time/processed_count:.2f} segundos\")\n",
    "        print(f\"- Duración media de los videos: {total_video_duration/processed_count:.2f} segundos\")\n",
    "\n",
    "print(\"\\n¡Procesamiento completado!\")\n"
   ]
  },
  {
   "cell_type": "code",
   "execution_count": 11,
   "metadata": {},
   "outputs": [
    {
     "name": "stdout",
     "output_type": "stream",
     "text": [
      "\n",
      "En val:\n",
      "- Número de archivos de embeddings generados: 187\n",
      "  - ApplyEyeMakeup: 18 embeddings\n",
      "  - ApplyLipstick: 14 embeddings\n",
      "  - Archery: 18 embeddings\n",
      "  - BabyCrawling: 16 embeddings\n",
      "  - BalanceBeam: 13 embeddings\n",
      "  - BandMarching: 19 embeddings\n",
      "  - BaseballPitch: 19 embeddings\n",
      "  - Basketball: 33 embeddings\n",
      "  - BasketballDunk: 16 embeddings\n",
      "  - BenchPress: 20 embeddings\n",
      "  - Biking: 1 embeddings\n",
      "  - Billiards: 0 embeddings\n",
      "  - BlowDryHair: 0 embeddings\n",
      "  - BlowingCandles: 0 embeddings\n",
      "  - BodyWeightSquats: 0 embeddings\n",
      "  - Bowling: 0 embeddings\n",
      "  - BoxingPunchingBag: 0 embeddings\n",
      "  - BoxingSpeedBag: 0 embeddings\n",
      "  - BreastStroke: 0 embeddings\n",
      "  - BrushingTeeth: 0 embeddings\n",
      "  - CleanAndJerk: 0 embeddings\n",
      "  - CliffDiving: 0 embeddings\n",
      "  - CricketBowling: 0 embeddings\n",
      "  - CricketShot: 0 embeddings\n",
      "  - CuttingInKitchen: 0 embeddings\n",
      "  - Diving: 0 embeddings\n",
      "  - Drumming: 0 embeddings\n",
      "  - Fencing: 0 embeddings\n",
      "  - FieldHockeyPenalty: 0 embeddings\n",
      "  - FloorGymnastics: 0 embeddings\n",
      "  - FrisbeeCatch: 0 embeddings\n",
      "  - FrontCrawl: 0 embeddings\n",
      "  - GolfSwing: 0 embeddings\n",
      "  - Haircut: 0 embeddings\n",
      "  - Hammering: 0 embeddings\n",
      "  - HammerThrow: 0 embeddings\n",
      "  - HandstandPushups: 0 embeddings\n",
      "  - HandstandWalking: 0 embeddings\n",
      "  - HeadMassage: 0 embeddings\n",
      "  - HighJump: 0 embeddings\n",
      "  - HorseRace: 0 embeddings\n",
      "  - HorseRiding: 0 embeddings\n",
      "  - HulaHoop: 0 embeddings\n",
      "  - IceDancing: 0 embeddings\n",
      "  - JavelinThrow: 0 embeddings\n",
      "  - JugglingBalls: 0 embeddings\n",
      "  - JumpingJack: 0 embeddings\n",
      "  - JumpRope: 0 embeddings\n",
      "  - Kayaking: 0 embeddings\n",
      "  - Knitting: 0 embeddings\n",
      "  - LongJump: 0 embeddings\n",
      "  - Lunges: 0 embeddings\n",
      "  - MilitaryParade: 0 embeddings\n",
      "  - Mixing: 0 embeddings\n",
      "  - MoppingFloor: 0 embeddings\n",
      "  - Nunchucks: 0 embeddings\n",
      "  - ParallelBars: 0 embeddings\n",
      "  - PizzaTossing: 0 embeddings\n",
      "  - PlayingCello: 0 embeddings\n",
      "  - PlayingDaf: 0 embeddings\n",
      "  - PlayingDhol: 0 embeddings\n",
      "  - PlayingFlute: 0 embeddings\n",
      "  - PlayingGuitar: 0 embeddings\n",
      "  - PlayingPiano: 0 embeddings\n",
      "  - PlayingSitar: 0 embeddings\n",
      "  - PlayingTabla: 0 embeddings\n",
      "  - PlayingViolin: 0 embeddings\n",
      "  - PoleVault: 0 embeddings\n",
      "  - PommelHorse: 0 embeddings\n",
      "  - PullUps: 0 embeddings\n",
      "  - Punch: 0 embeddings\n",
      "  - PushUps: 0 embeddings\n",
      "  - Rafting: 0 embeddings\n",
      "  - RockClimbingIndoor: 0 embeddings\n",
      "  - RopeClimbing: 0 embeddings\n",
      "  - Rowing: 0 embeddings\n",
      "  - SalsaSpin: 0 embeddings\n",
      "  - ShavingBeard: 0 embeddings\n",
      "  - Shotput: 0 embeddings\n",
      "  - SkateBoarding: 0 embeddings\n",
      "  - Skiing: 0 embeddings\n",
      "  - Skijet: 0 embeddings\n",
      "  - SkyDiving: 0 embeddings\n",
      "  - SoccerJuggling: 0 embeddings\n",
      "  - SoccerPenalty: 0 embeddings\n",
      "  - StillRings: 0 embeddings\n",
      "  - SumoWrestling: 0 embeddings\n",
      "  - Surfing: 0 embeddings\n",
      "  - Swing: 0 embeddings\n",
      "  - TableTennisShot: 0 embeddings\n",
      "  - TaiChi: 0 embeddings\n",
      "  - TennisSwing: 0 embeddings\n",
      "  - ThrowDiscus: 0 embeddings\n",
      "  - TrampolineJumping: 0 embeddings\n",
      "  - Typing: 0 embeddings\n",
      "  - UnevenBars: 0 embeddings\n",
      "  - VolleyballSpiking: 0 embeddings\n",
      "  - WalkingWithDog: 0 embeddings\n",
      "  - WallPushups: 0 embeddings\n",
      "  - WritingOnBoard: 0 embeddings\n",
      "  - YoYo: 0 embeddings\n",
      "\n",
      "En test:\n",
      "- Número de archivos de embeddings generados: 0\n"
     ]
    }
   ],
   "source": [
    "# Verificar el resultado\n",
    "for split in splits_to_process:\n",
    "    processed_split_dir = processed_dir / split\n",
    "    if processed_split_dir.exists():\n",
    "        num_embeddings = len(list(processed_split_dir.rglob(\"*_features.npy\")))\n",
    "        print(f\"\\nEn {split}:\")\n",
    "        print(f\"- Número de archivos de embeddings generados: {num_embeddings}\")\n",
    "        \n",
    "        # Mostrar algunas estadísticas por clase\n",
    "        for class_dir in processed_split_dir.iterdir():\n",
    "            if class_dir.is_dir():\n",
    "                num_class_embeddings = len(list(class_dir.glob(\"*_features.npy\")))\n",
    "                print(f\"  - {class_dir.name}: {num_class_embeddings} embeddings\")"
   ]
  },
  {
   "cell_type": "markdown",
   "metadata": {},
   "source": [
    "# Verificación Sequence Generator"
   ]
  },
  {
   "cell_type": "code",
   "execution_count": 13,
   "metadata": {},
   "outputs": [],
   "source": [
    "import numpy as np\n",
    "from pathlib import Path\n",
    "from src.actionDetection.components.data.preprocessing import SequenceGenerator"
   ]
  },
  {
   "cell_type": "code",
   "execution_count": 15,
   "metadata": {},
   "outputs": [],
   "source": [
    "# Crear el generador de secuencias\n",
    "sequence_generator = SequenceGenerator(sequence_length=16, stride=8)\n",
    "\n",
    "# Cargar un archivo de features para probar\n",
    "features_path = Path(\"artifacts/data/processed/val/BenchPress/v_BenchPress_g02_c01_features.npy\")\n",
    "\n",
    "features = np.load(str(features_path))"
   ]
  },
  {
   "cell_type": "code",
   "execution_count": 16,
   "metadata": {},
   "outputs": [
    {
     "name": "stdout",
     "output_type": "stream",
     "text": [
      "Features originales:\n",
      "Shape: (81, 1280)\n",
      "Número total de frames: 81\n"
     ]
    }
   ],
   "source": [
    "print(\"Features originales:\")\n",
    "print(f\"Shape: {features.shape}\")\n",
    "print(f\"Número total de frames: {len(features)}\")"
   ]
  },
  {
   "cell_type": "code",
   "execution_count": 17,
   "metadata": {},
   "outputs": [],
   "source": [
    "# Generar secuencias\n",
    "sequences = sequence_generator.get_sequences(features_path)"
   ]
  },
  {
   "cell_type": "code",
   "execution_count": 18,
   "metadata": {},
   "outputs": [
    {
     "name": "stdout",
     "output_type": "stream",
     "text": [
      "\n",
      "Secuencias generadas:\n",
      "Shape: (11, 16, 1280)\n",
      "Número de secuencias: 11\n",
      "Longitud de cada secuencia: 16\n",
      "Dimensiones del embedding: 1280\n"
     ]
    }
   ],
   "source": [
    "print(\"\\nSecuencias generadas:\")\n",
    "print(f\"Shape: {sequences.shape}\")  # Debería ser (num_sequences, sequence_length, 1280)\n",
    "print(f\"Número de secuencias: {len(sequences)}\")\n",
    "print(f\"Longitud de cada secuencia: {sequences.shape[1]}\")\n",
    "print(f\"Dimensiones del embedding: {sequences.shape[2]}\")"
   ]
  },
  {
   "cell_type": "code",
   "execution_count": 19,
   "metadata": {},
   "outputs": [
    {
     "name": "stdout",
     "output_type": "stream",
     "text": [
      "\n",
      "Verificación de secuencias:\n",
      "Primera secuencia shape: (16, 1280)\n",
      "Última secuencia shape: (16, 1280)\n"
     ]
    }
   ],
   "source": [
    "# Verificar algunas secuencias\n",
    "print(\"\\nVerificación de secuencias:\")\n",
    "print(f\"Primera secuencia shape: {sequences[0].shape}\")\n",
    "print(f\"Última secuencia shape: {sequences[-1].shape}\")"
   ]
  },
  {
   "cell_type": "code",
   "execution_count": 21,
   "metadata": {},
   "outputs": [
    {
     "name": "stdout",
     "output_type": "stream",
     "text": [
      "\n",
      "Verificación del stride:\n",
      "Solapamiento esperado: 8 frames\n",
      "¿Los frames se solapan correctamente?\n",
      "True\n"
     ]
    }
   ],
   "source": [
    "# Verificar el stride\n",
    "print(\"\\nVerificación del stride:\")\n",
    "# Comparar los últimos frames de una secuencia con los primeros de la siguiente\n",
    "overlap = 16 - 8  # sequence_length - stride\n",
    "print(f\"Solapamiento esperado: {overlap} frames\")\n",
    "print(\"¿Los frames se solapan correctamente?\")\n",
    "print(np.array_equal(\n",
    "    sequences[0][8:16],  # Últimos 8 frames de la primera secuencia\n",
    "    sequences[1][:8]     # Primeros 8 frames de la segunda secuencia\n",
    "))"
   ]
  },
  {
   "cell_type": "code",
   "execution_count": 22,
   "metadata": {},
   "outputs": [
    {
     "name": "stdout",
     "output_type": "stream",
     "text": [
      "\n",
      "Verificación del padding:\n",
      "Frames no-zero en la última secuencia: 1\n",
      "Padding aplicado: 15 frames\n"
     ]
    }
   ],
   "source": [
    "# Verificar el padding en la última secuencia\n",
    "print(\"\\nVerificación del padding:\")\n",
    "last_sequence = sequences[-1]\n",
    "non_zero_frames = np.sum(np.any(last_sequence != 0, axis=1))\n",
    "print(f\"Frames no-zero en la última secuencia: {non_zero_frames}\")\n",
    "if non_zero_frames < 16:\n",
    "    print(f\"Padding aplicado: {16 - non_zero_frames} frames\")\n"
   ]
  },
  {
   "cell_type": "markdown",
   "metadata": {},
   "source": [
    "Está bien, porque 81/16 da 5.06 algo. Por lo que 5X16=80 y el frame restante se queda en la última secuencia con todo el resto de padding.\n"
   ]
  },
  {
   "cell_type": "code",
   "execution_count": 23,
   "metadata": {},
   "outputs": [
    {
     "data": {
      "image/png": "[encoded data removed]",
      "text/plain": [
       "<Figure size 1500x500 with 2 Axes>"
      ]
     },
     "metadata": {},
     "output_type": "display_data"
    }
   ],
   "source": [
    "# Visualizar la variación temporal en algunas secuencias\n",
    "import matplotlib.pyplot as plt\n",
    "plt.figure(figsize=(15, 5))\n",
    "\n",
    "# Visualizar una dimensión específica a lo largo de varias secuencias\n",
    "dimension_to_plot = 0  # Primera dimensión del embedding\n",
    "\n",
    "# Plot 1: Una dimensión a través de todas las secuencias\n",
    "plt.subplot(1, 2, 1)\n",
    "for i in range(min(5, len(sequences))):  # Primeras 5 secuencias\n",
    "    plt.plot(sequences[i][:, dimension_to_plot], label=f'Sequence {i}')\n",
    "plt.title(f'Dimensión {dimension_to_plot} en diferentes secuencias')\n",
    "plt.xlabel('Frame dentro de la secuencia')\n",
    "plt.ylabel('Valor del embedding')\n",
    "plt.legend()\n",
    "\n",
    "# Plot 2: Diferentes dimensiones en una secuencia\n",
    "plt.subplot(1, 2, 2)\n",
    "for dim in range(5):  # Primeras 5 dimensiones\n",
    "    plt.plot(sequences[0][:, dim], label=f'Dimension {dim}')\n",
    "plt.title('Diferentes dimensiones en la primera secuencia')\n",
    "plt.xlabel('Frame')\n",
    "plt.ylabel('Valor del embedding')\n",
    "plt.legend()\n",
    "\n",
    "plt.tight_layout()\n",
    "plt.show()"
   ]
  },
  {
   "cell_type": "markdown",
   "metadata": {},
   "source": [
    "# Dataset test"
   ]
  },
  {
   "cell_type": "code",
   "execution_count": 28,
   "metadata": {},
   "outputs": [],
   "source": [
    "import numpy as np\n",
    "import matplotlib.pyplot as plt\n",
    "from src.actionDetection.components.data.dataset import VideoDataset"
   ]
  },
  {
   "cell_type": "code",
   "execution_count": 29,
   "metadata": {},
   "outputs": [],
   "source": [
    "# Crear datasets para validación y test\n",
    "val_dataset = VideoDataset(\n",
    "    root_dir=\"artifacts/data/processed/val\",\n",
    "    batch_size=32,\n",
    "    sequence_length=16,\n",
    "    stride=8,\n",
    "    shuffle=True\n",
    ")"
   ]
  },
  {
   "cell_type": "code",
   "execution_count": 30,
   "metadata": {},
   "outputs": [
    {
     "name": "stdout",
     "output_type": "stream",
     "text": [
      "Información del dataset de validación:\n",
      "Número de clases: 101\n",
      "Clases: ['ApplyEyeMakeup', 'ApplyLipstick', 'Archery', 'BabyCrawling', 'BalanceBeam', 'BandMarching', 'BaseballPitch', 'Basketball', 'BasketballDunk', 'BenchPress', 'Biking', 'Billiards', 'BlowDryHair', 'BlowingCandles', 'BodyWeightSquats', 'Bowling', 'BoxingPunchingBag', 'BoxingSpeedBag', 'BreastStroke', 'BrushingTeeth', 'CleanAndJerk', 'CliffDiving', 'CricketBowling', 'CricketShot', 'CuttingInKitchen', 'Diving', 'Drumming', 'Fencing', 'FieldHockeyPenalty', 'FloorGymnastics', 'FrisbeeCatch', 'FrontCrawl', 'GolfSwing', 'Haircut', 'HammerThrow', 'Hammering', 'HandstandPushups', 'HandstandWalking', 'HeadMassage', 'HighJump', 'HorseRace', 'HorseRiding', 'HulaHoop', 'IceDancing', 'JavelinThrow', 'JugglingBalls', 'JumpRope', 'JumpingJack', 'Kayaking', 'Knitting', 'LongJump', 'Lunges', 'MilitaryParade', 'Mixing', 'MoppingFloor', 'Nunchucks', 'ParallelBars', 'PizzaTossing', 'PlayingCello', 'PlayingDaf', 'PlayingDhol', 'PlayingFlute', 'PlayingGuitar', 'PlayingPiano', 'PlayingSitar', 'PlayingTabla', 'PlayingViolin', 'PoleVault', 'PommelHorse', 'PullUps', 'Punch', 'PushUps', 'Rafting', 'RockClimbingIndoor', 'RopeClimbing', 'Rowing', 'SalsaSpin', 'ShavingBeard', 'Shotput', 'SkateBoarding', 'Skiing', 'Skijet', 'SkyDiving', 'SoccerJuggling', 'SoccerPenalty', 'StillRings', 'SumoWrestling', 'Surfing', 'Swing', 'TableTennisShot', 'TaiChi', 'TennisSwing', 'ThrowDiscus', 'TrampolineJumping', 'Typing', 'UnevenBars', 'VolleyballSpiking', 'WalkingWithDog', 'WallPushups', 'WritingOnBoard', 'YoYo']\n",
      "Número de batches: 6\n"
     ]
    }
   ],
   "source": [
    "# Verificar la estructura del dataset\n",
    "print(\"Información del dataset de validación:\")\n",
    "print(f\"Número de clases: {len(val_dataset.classes)}\")\n",
    "print(f\"Clases: {val_dataset.classes}\")\n",
    "print(f\"Número de batches: {len(val_dataset)}\")"
   ]
  },
  {
   "cell_type": "code",
   "execution_count": 31,
   "metadata": {},
   "outputs": [
    {
     "name": "stdout",
     "output_type": "stream",
     "text": [
      "\n",
      "Forma de los datos:\n",
      "Batch de secuencias shape: (32, 16, 1280)\n",
      "Batch de etiquetas shape: (32, 101)\n"
     ]
    }
   ],
   "source": [
    "# Probar la carga de un batch\n",
    "batch_x, batch_y = val_dataset[0]  # Cargar el primer batch\n",
    "print(\"\\nForma de los datos:\")\n",
    "print(f\"Batch de secuencias shape: {batch_x.shape}\")  # Debería ser (batch_size, sequence_length, 1280)\n",
    "print(f\"Batch de etiquetas shape: {batch_y.shape}\")   # Debería ser (batch_size, num_classes)"
   ]
  },
  {
   "cell_type": "code",
   "execution_count": 32,
   "metadata": {},
   "outputs": [
    {
     "name": "stdout",
     "output_type": "stream",
     "text": [
      "\n",
      "Ejemplo de etiquetas one-hot:\n",
      "Primera etiqueta del batch: [0. 0. 0. 1. 0. 0. 0. 0. 0. 0. 0. 0. 0. 0. 0. 0. 0. 0. 0. 0. 0. 0. 0. 0.\n",
      " 0. 0. 0. 0. 0. 0. 0. 0. 0. 0. 0. 0. 0. 0. 0. 0. 0. 0. 0. 0. 0. 0. 0. 0.\n",
      " 0. 0. 0. 0. 0. 0. 0. 0. 0. 0. 0. 0. 0. 0. 0. 0. 0. 0. 0. 0. 0. 0. 0. 0.\n",
      " 0. 0. 0. 0. 0. 0. 0. 0. 0. 0. 0. 0. 0. 0. 0. 0. 0. 0. 0. 0. 0. 0. 0. 0.\n",
      " 0. 0. 0. 0. 0.]\n",
      "Clase predicha: BabyCrawling\n"
     ]
    }
   ],
   "source": [
    "# Verificar las etiquetas one-hot\n",
    "print(\"\\nEjemplo de etiquetas one-hot:\")\n",
    "print(f\"Primera etiqueta del batch: {batch_y[0]}\")\n",
    "print(f\"Clase predicha: {val_dataset.classes[np.argmax(batch_y[0])]}\")"
   ]
  },
  {
   "cell_type": "code",
   "execution_count": 33,
   "metadata": {},
   "outputs": [
    {
     "data": {
      "image/png": "[encoded data removed]",
      "text/plain": [
       "<Figure size 1500x500 with 1 Axes>"
      ]
     },
     "metadata": {},
     "output_type": "display_data"
    }
   ],
   "source": [
    "# Visualizar la distribución de clases\n",
    "class_counts = {}\n",
    "for sample in val_dataset.samples:\n",
    "    class_name = sample['path'].parent.name\n",
    "    class_counts[class_name] = class_counts.get(class_name, 0) + 1\n",
    "\n",
    "plt.figure(figsize=(15, 5))\n",
    "plt.bar(class_counts.keys(), class_counts.values())\n",
    "plt.xticks(rotation=45, ha='right')\n",
    "plt.title('Distribución de clases en el dataset')\n",
    "plt.xlabel('Clase')\n",
    "plt.ylabel('Número de muestras')\n",
    "plt.tight_layout()\n",
    "plt.show()"
   ]
  }
 ],
 "metadata": {
  "kernelspec": {
   "display_name": "Python 3",
   "language": "python",
   "name": "python3"
  },
  "language_info": {
   "codemirror_mode": {
    "name": "ipython",
    "version": 3
   },
   "file_extension": ".py",
   "mimetype": "text/x-python",
   "name": "python",
   "nbconvert_exporter": "python",
   "pygments_lexer": "ipython3",
   "version": "3.9.21"
  }
 },
 "nbformat": 4,
 "nbformat_minor": 2
}
