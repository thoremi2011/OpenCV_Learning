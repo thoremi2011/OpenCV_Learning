{
 "cells": [
  {
   "cell_type": "code",
   "execution_count": 1,
   "metadata": {},
   "outputs": [],
   "source": [
    "import cv2\n",
    "import os\n",
    "import numpy as np\n"
   ]
  },
  {
   "cell_type": "code",
   "execution_count": 2,
   "metadata": {},
   "outputs": [
    {
     "name": "stdout",
     "output_type": "stream",
     "text": [
      "d:\\Projects_D\\013_OpenCV_Learning\\OpenCV_Learning\\research\n",
      "d:\\Projects_D\\013_OpenCV_Learning\\OpenCV_Learning\n"
     ]
    }
   ],
   "source": [
    "print(os.getcwd())\n",
    "\n",
    "# change working directory\n",
    "os.chdir(\"../\")\n",
    "print(os.getcwd())"
   ]
  },
  {
   "cell_type": "code",
   "execution_count": 3,
   "metadata": {},
   "outputs": [],
   "source": [
    "PATH_PRUEBAS = os.path.join(os.getcwd(), \"artifacts\", \"data\", \"pruebas\")"
   ]
  },
  {
   "cell_type": "markdown",
   "metadata": {},
   "source": [
    "# Cargar la imagen"
   ]
  },
  {
   "cell_type": "code",
   "execution_count": 4,
   "metadata": {},
   "outputs": [],
   "source": [
    "img_fut_surr = cv2.imread(os.path.join(PATH_PRUEBAS, \"futuro_surr.jpg\"))"
   ]
  },
  {
   "cell_type": "markdown",
   "metadata": {},
   "source": [
    "# Mostrar la imagen en una ventana"
   ]
  },
  {
   "cell_type": "code",
   "execution_count": 13,
   "metadata": {},
   "outputs": [],
   "source": [
    "cv2.imshow('Image', img_fut_surr)\n",
    "cv2.waitKey(0)  # Asegúrate de que esta línea esté presente\n",
    "cv2.destroyAllWindows()"
   ]
  },
  {
   "cell_type": "code",
   "execution_count": null,
   "metadata": {},
   "outputs": [],
   "source": [
    "#### Ejecutar el siguiente codigo únicamente, no funciona en el notebook\n",
    "cv2.imshow('Image', img_fut_surr)"
   ]
  },
  {
   "cell_type": "markdown",
   "metadata": {},
   "source": [
    "# Guardar Imagen"
   ]
  },
  {
   "cell_type": "code",
   "execution_count": 16,
   "metadata": {},
   "outputs": [
    {
     "data": {
      "text/plain": [
       "True"
      ]
     },
     "execution_count": 16,
     "metadata": {},
     "output_type": "execute_result"
    }
   ],
   "source": [
    "### Guarda la imagen en el path especificado\n",
    "cv2.imwrite('output.jpg', img_fut_surr)"
   ]
  },
  {
   "cell_type": "markdown",
   "metadata": {},
   "source": [
    "# IMG -> Gray"
   ]
  },
  {
   "cell_type": "code",
   "execution_count": 6,
   "metadata": {},
   "outputs": [],
   "source": [
    "gray = cv2.cvtColor(img_fut_surr, cv2.COLOR_BGR2GRAY)\n",
    "cv2.imshow('Image', gray)\n",
    "cv2.waitKey(0)  # Asegúrate de que esta línea esté presente\n",
    "cv2.destroyAllWindows()\n"
   ]
  },
  {
   "cell_type": "markdown",
   "metadata": {},
   "source": [
    "# Detección de bordes"
   ]
  },
  {
   "cell_type": "code",
   "execution_count": 7,
   "metadata": {},
   "outputs": [],
   "source": [
    "edges = cv2.Canny(gray, 100, 200)\n",
    "cv2.imshow('Image', edges)\n",
    "cv2.waitKey(0)  # Asegúrate de que esta línea esté presente\n",
    "cv2.destroyAllWindows()"
   ]
  },
  {
   "cell_type": "markdown",
   "metadata": {},
   "source": [
    "# Dibuja contornos en la imagen original (la modifica)"
   ]
  },
  {
   "cell_type": "code",
   "execution_count": 10,
   "metadata": {},
   "outputs": [],
   "source": [
    "contours, _ = cv2.findContours(edges, cv2.RETR_TREE, cv2.CHAIN_APPROX_SIMPLE)"
   ]
  },
  {
   "cell_type": "code",
   "execution_count": 12,
   "metadata": {},
   "outputs": [],
   "source": [
    "cv2.drawContours(img_fut_surr, contours, -1, (0, 255, 0), 2)\n",
    "cv2.imshow('Image', img_fut_surr)\n",
    "cv2.waitKey(0)  # Asegúrate de que esta línea esté presente\n",
    "cv2.destroyAllWindows()"
   ]
  },
  {
   "cell_type": "code",
   "execution_count": 14,
   "metadata": {},
   "outputs": [],
   "source": [
    "circles = cv2.HoughCircles(gray, cv2.HOUGH_GRADIENT, 1, 20, param1=50, param2=30)"
   ]
  },
  {
   "cell_type": "code",
   "execution_count": 19,
   "metadata": {},
   "outputs": [],
   "source": [
    "if circles is not None:\n",
    "    circles = np.uint16(np.around(circles))  # Convierte a enteros\n",
    "    for circle in circles[0, :]:\n",
    "        x, y, r = circle\n",
    "        # Dibuja el círculo\n",
    "        cv2.circle(img_fut_surr, (x, y), r, (0, 255, 0), 2)  # Círculo en verde\n",
    "        # Dibuja el centro\n",
    "        cv2.circle(img_fut_surr, (x, y), 2, (0, 0, 255), 3)  # Centro en rojo\n",
    "\n",
    "# Mostrar la imagen con los círculos detectados\n",
    "cv2.imshow('Detected Circles', img_fut_surr)\n",
    "cv2.waitKey(0)\n",
    "cv2.destroyAllWindows()"
   ]
  },
  {
   "cell_type": "markdown",
   "metadata": {},
   "source": []
  }
 ],
 "metadata": {
  "kernelspec": {
   "display_name": "Python 3",
   "language": "python",
   "name": "python3"
  },
  "language_info": {
   "codemirror_mode": {
    "name": "ipython",
    "version": 3
   },
   "file_extension": ".py",
   "mimetype": "text/x-python",
   "name": "python",
   "nbconvert_exporter": "python",
   "pygments_lexer": "ipython3",
   "version": "3.10.16"
  }
 },
 "nbformat": 4,
 "nbformat_minor": 2
}
